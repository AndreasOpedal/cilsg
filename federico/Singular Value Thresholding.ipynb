{
 "cells": [
  {
   "cell_type": "markdown",
   "metadata": {},
   "source": [
    "# Singular Value Thresholding\n",
    "\n",
    "We implement the singular value thresholding algorithm as presented in Cai, Candés and Shen (2008) and perform a grid search to optimize its parameters. Note that it is far from exhaustive as the algorithm is slow."
   ]
  },
  {
   "cell_type": "markdown",
   "metadata": {},
   "source": [
    "### Importing the libraries"
   ]
  },
  {
   "cell_type": "code",
   "execution_count": 10,
   "metadata": {},
   "outputs": [],
   "source": [
    "import numpy as np\n",
    "import pandas as pd\n",
    "import matplotlib.pyplot as plt\n",
    "#%pip install scikit-surprise\n",
    "from surprise import AlgoBase, PredictionImpossible, Reader, Dataset, accuracy\n",
    "from surprise.model_selection import train_test_split, cross_validate, GridSearchCV\n",
    "import thresholding"
   ]
  },
  {
   "cell_type": "markdown",
   "metadata": {},
   "source": [
    "### Prepare the dataset\n",
    "\n",
    "First we read the dataset as a pandas DataFrame."
   ]
  },
  {
   "cell_type": "code",
   "execution_count": 2,
   "metadata": {},
   "outputs": [],
   "source": [
    "data_train_raw = pd.read_csv('../data/data_train.csv')\n",
    "\n",
    "# parse rows and columns\n",
    "row_str = data_train_raw['Id'].apply(lambda x: x.split('_')[0])\n",
    "row_id = row_str.apply(lambda x: int(x.split('r')[1]) - 1)\n",
    "col_str = data_train_raw['Id'].apply(lambda x: x.split('_')[1])\n",
    "col_id = col_str.apply(lambda x: int(x.split('c')[1]) - 1)\n",
    "\n",
    "# apply changes\n",
    "data_train_raw['row'] = row_id\n",
    "data_train_raw['col'] = col_id\n",
    "\n",
    "# dataset as data frame\n",
    "data_train_df = data_train_raw.loc[:,['row', 'col', 'Prediction']]"
   ]
  },
  {
   "cell_type": "code",
   "execution_count": 3,
   "metadata": {},
   "outputs": [
    {
     "data": {
      "text/html": [
       "<div>\n",
       "<style scoped>\n",
       "    .dataframe tbody tr th:only-of-type {\n",
       "        vertical-align: middle;\n",
       "    }\n",
       "\n",
       "    .dataframe tbody tr th {\n",
       "        vertical-align: top;\n",
       "    }\n",
       "\n",
       "    .dataframe thead th {\n",
       "        text-align: right;\n",
       "    }\n",
       "</style>\n",
       "<table border=\"1\" class=\"dataframe\">\n",
       "  <thead>\n",
       "    <tr style=\"text-align: right;\">\n",
       "      <th></th>\n",
       "      <th>row</th>\n",
       "      <th>col</th>\n",
       "      <th>Prediction</th>\n",
       "    </tr>\n",
       "  </thead>\n",
       "  <tbody>\n",
       "    <tr>\n",
       "      <th>0</th>\n",
       "      <td>43</td>\n",
       "      <td>0</td>\n",
       "      <td>4</td>\n",
       "    </tr>\n",
       "    <tr>\n",
       "      <th>1</th>\n",
       "      <td>60</td>\n",
       "      <td>0</td>\n",
       "      <td>3</td>\n",
       "    </tr>\n",
       "    <tr>\n",
       "      <th>2</th>\n",
       "      <td>66</td>\n",
       "      <td>0</td>\n",
       "      <td>4</td>\n",
       "    </tr>\n",
       "    <tr>\n",
       "      <th>3</th>\n",
       "      <td>71</td>\n",
       "      <td>0</td>\n",
       "      <td>3</td>\n",
       "    </tr>\n",
       "    <tr>\n",
       "      <th>4</th>\n",
       "      <td>85</td>\n",
       "      <td>0</td>\n",
       "      <td>5</td>\n",
       "    </tr>\n",
       "  </tbody>\n",
       "</table>\n",
       "</div>"
      ],
      "text/plain": [
       "   row  col  Prediction\n",
       "0   43    0           4\n",
       "1   60    0           3\n",
       "2   66    0           4\n",
       "3   71    0           3\n",
       "4   85    0           5"
      ]
     },
     "execution_count": 3,
     "metadata": {},
     "output_type": "execute_result"
    }
   ],
   "source": [
    "data_train_df.head()"
   ]
  },
  {
   "cell_type": "markdown",
   "metadata": {},
   "source": [
    "### Prepare dataset"
   ]
  },
  {
   "cell_type": "code",
   "execution_count": 4,
   "metadata": {},
   "outputs": [],
   "source": [
    "# set up surprise dataset\n",
    "reader = Reader()\n",
    "dataset = Dataset.load_from_df(data_train_df[['row', 'col', 'Prediction']], reader)"
   ]
  },
  {
   "cell_type": "markdown",
   "metadata": {},
   "source": [
    "### Perform a grid search over parameters\n",
    "\n",
    "Note that the parameter n_epochs concerns the maximal number of epochs, as the algorithm otherwise stops when a criteria is reached"
   ]
  },
  {
   "cell_type": "code",
   "execution_count": 14,
   "metadata": {},
   "outputs": [],
   "source": [
    "# define the model\n",
    "model = GridSearchCV(thresholding.SVDthr, param_grid = {'tao': [100,500,1000], \n",
    "                                                        'n_epochs': [1000], \n",
    "                                                        'step_size': [1,1.99]})\n",
    "\n",
    "# fit the model to the dataset\n",
    "model.fit(dataset)\n",
    "\n",
    "# output best scores and best parameters\n",
    "model.best_score, model.best_params"
   ]
  },
  {
   "cell_type": "markdown",
   "metadata": {},
   "source": [
    "### Train model with optimal parameters "
   ]
  },
  {
   "cell_type": "code",
   "execution_count": 9,
   "metadata": {},
   "outputs": [
    {
     "name": "stdout",
     "output_type": "stream",
     "text": [
      "RMSE: 3.0653\n"
     ]
    }
   ],
   "source": [
    "# define the model\n",
    "model = thresholding.SVDthr(n_epochs=1, tao=10000, step_size=1)\n",
    "\n",
    "# fit the model to the training set\n",
    "model.fit(trainset)\n",
    "\n",
    "# compute the predictions\n",
    "predictions = model.test(testset)\n",
    "\n",
    "# compute the RMSE on the testset\n",
    "rmse = accuracy.rmse(predictions)"
   ]
  }
 ],
 "metadata": {
  "kernelspec": {
   "display_name": "Python 3",
   "language": "python",
   "name": "python3"
  },
  "language_info": {
   "codemirror_mode": {
    "name": "ipython",
    "version": 3
   },
   "file_extension": ".py",
   "mimetype": "text/x-python",
   "name": "python",
   "nbconvert_exporter": "python",
   "pygments_lexer": "ipython3",
   "version": "3.7.6"
  }
 },
 "nbformat": 4,
 "nbformat_minor": 4
}
