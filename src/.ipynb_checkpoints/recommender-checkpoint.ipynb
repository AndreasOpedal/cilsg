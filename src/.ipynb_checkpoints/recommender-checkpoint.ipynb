{
 "cells": [
  {
   "cell_type": "code",
   "execution_count": 1,
   "metadata": {},
   "outputs": [],
   "source": [
    "import numpy as np\n",
    "import pandas as pd\n",
    "from tqdm.auto import tqdm\n",
    "from scipy.sparse import csr_matrix"
   ]
  },
  {
   "cell_type": "code",
   "execution_count": 2,
   "metadata": {},
   "outputs": [],
   "source": [
    "data = pd.read_csv(\"../project/data/data_train.csv\")"
   ]
  },
  {
   "cell_type": "code",
   "execution_count": 3,
   "metadata": {},
   "outputs": [
    {
     "name": "stdout",
     "output_type": "stream",
     "text": [
      "['r44', 'c1']\n"
     ]
    }
   ],
   "source": [
    "print(data.loc[0, 'Id'].split(\"_\"))"
   ]
  },
  {
   "cell_type": "code",
   "execution_count": 4,
   "metadata": {},
   "outputs": [
    {
     "data": {
      "application/vnd.jupyter.widget-view+json": {
       "model_id": "673987ef184b47e6be64cfcbb91ac03c",
       "version_major": 2,
       "version_minor": 0
      },
      "text/plain": [
       "HBox(children=(IntProgress(value=0, max=1176952), HTML(value='')))"
      ]
     },
     "metadata": {},
     "output_type": "display_data"
    },
    {
     "name": "stdout",
     "output_type": "stream",
     "text": [
      "\n"
     ]
    }
   ],
   "source": [
    "data = [\n",
    "    ( row['Prediction'], row['Id'].split('_') )\n",
    "    for idx, row in tqdm(data.iterrows(), total=data.shape[0])\n",
    "]"
   ]
  },
  {
   "cell_type": "code",
   "execution_count": 5,
   "metadata": {},
   "outputs": [
    {
     "data": {
      "text/plain": [
       "(4, ['r44', 'c1'])"
      ]
     },
     "execution_count": 5,
     "metadata": {},
     "output_type": "execute_result"
    }
   ],
   "source": [
    "data[0]"
   ]
  },
  {
   "cell_type": "code",
   "execution_count": 6,
   "metadata": {},
   "outputs": [],
   "source": [
    "preds, rows, cols = [d[0] for d in data], [int(d[1][0][1:]) for d in data], [int(d[1][1][1:]) for d in data]\n",
    "assert len(preds) == len(rows) == len(cols)"
   ]
  },
  {
   "cell_type": "code",
   "execution_count": 7,
   "metadata": {},
   "outputs": [],
   "source": [
    "rows = np.subtract(rows, 1)\n",
    "cols = np.subtract(cols, 1)\n",
    "assert np.min(rows) == 0\n",
    "assert np.min(cols) == 0"
   ]
  },
  {
   "cell_type": "code",
   "execution_count": 8,
   "metadata": {},
   "outputs": [],
   "source": [
    "dataset = csr_matrix((preds, (rows, cols)))"
   ]
  },
  {
   "cell_type": "code",
   "execution_count": 9,
   "metadata": {},
   "outputs": [
    {
     "data": {
      "text/plain": [
       "<10000x1000 sparse matrix of type '<class 'numpy.int64'>'\n",
       "\twith 1176952 stored elements in Compressed Sparse Row format>"
      ]
     },
     "execution_count": 9,
     "metadata": {},
     "output_type": "execute_result"
    }
   ],
   "source": [
    "dataset"
   ]
  },
  {
   "cell_type": "code",
   "execution_count": 50,
   "metadata": {},
   "outputs": [],
   "source": [
    "np.save(\"dataset.npy\", dataset)"
   ]
  },
  {
   "cell_type": "markdown",
   "metadata": {},
   "source": [
    "# Exercise 02"
   ]
  },
  {
   "cell_type": "code",
   "execution_count": 57,
   "metadata": {},
   "outputs": [
    {
     "data": {
      "text/plain": [
       "(10000, 1000)"
      ]
     },
     "execution_count": 57,
     "metadata": {},
     "output_type": "execute_result"
    }
   ],
   "source": [
    "dataset.shape  # 10000 users x 1000 items"
   ]
  },
  {
   "cell_type": "code",
   "execution_count": 10,
   "metadata": {},
   "outputs": [],
   "source": [
    "def load_from_csv(filename):\n",
    "    \"\"\"\n",
    "    Loads a sparse dataset from a CSV file.\n",
    "    \"\"\"\n",
    "    data = pd.read_csv(filename)\n",
    "    data = [\n",
    "        ( row['Prediction'], row['Id'].split('_') )\n",
    "        for idx, row in tqdm(data.iterrows(), total=data.shape[0])\n",
    "    ]\n",
    "    preds, rows, cols = [d[0] for d in data], [int(d[1][0][1:]) for d in data], [int(d[1][1][1:]) for d in data]\n",
    "    assert len(preds) == len(rows) == len(cols)\n",
    "    rows = np.subtract(rows, 1)\n",
    "    cols = np.subtract(cols, 1)\n",
    "    assert np.min(rows) == 0\n",
    "    assert np.min(cols) == 0\n",
    "    return csr_matrix((preds, (rows, cols)))"
   ]
  },
  {
   "cell_type": "code",
   "execution_count": 11,
   "metadata": {},
   "outputs": [
    {
     "data": {
      "application/vnd.jupyter.widget-view+json": {
       "model_id": "365d66eb2eb44d44923fb2a2b51eb353",
       "version_major": 2,
       "version_minor": 0
      },
      "text/plain": [
       "HBox(children=(IntProgress(value=0, max=1176952), HTML(value='')))"
      ]
     },
     "metadata": {},
     "output_type": "display_data"
    },
    {
     "name": "stdout",
     "output_type": "stream",
     "text": [
      "\n"
     ]
    }
   ],
   "source": [
    "X_pred = load_from_csv(\"../project/data/sampleSubmission.csv\")"
   ]
  },
  {
   "cell_type": "code",
   "execution_count": 12,
   "metadata": {},
   "outputs": [
    {
     "data": {
      "text/plain": [
       "(10000, 1000)"
      ]
     },
     "execution_count": 12,
     "metadata": {},
     "output_type": "execute_result"
    }
   ],
   "source": [
    "X_pred.shape  # Also 10000 users x 1000 items"
   ]
  },
  {
   "cell_type": "code",
   "execution_count": 13,
   "metadata": {},
   "outputs": [
    {
     "name": "stdout",
     "output_type": "stream",
     "text": [
      "(1000,)\n",
      "[3.37941176 3.50094162 3.48358586 3.93647282 3.55913113]\n"
     ]
    }
   ],
   "source": [
    "mean_ratings = dataset.sum(axis=0) / dataset.getnnz(axis=0)  # mean = sum / number of nonzero elements\n",
    "mean_ratings = np.asarray(mean_ratings).flatten()\n",
    "print(mean_ratings.shape)\n",
    "print(mean_ratings[0:5])"
   ]
  },
  {
   "cell_type": "code",
   "execution_count": 14,
   "metadata": {},
   "outputs": [
    {
     "name": "stdout",
     "output_type": "stream",
     "text": [
      "3\n",
      "[   0    0    0 ... 9999 9999 9999] [  3   7  20 ... 896 924 950]\n"
     ]
    }
   ],
   "source": [
    "target_rows, target_cols = X_pred.nonzero()\n",
    "print(X_pred[36, 0])\n",
    "print(target_rows, target_cols)"
   ]
  },
  {
   "cell_type": "code",
   "execution_count": 135,
   "metadata": {},
   "outputs": [],
   "source": [
    "def export_and_save(preds):\n",
    "    ids = [f\"r{row+1}_c{col+1}\" for row, col in zip(target_rows, target_cols)]\n",
    "    scores = [preds[col] for row, col in zip(target_rows, target_cols)]\n",
    "    df = pd.DataFrame({\"Id\": ids, \"Prediction\": scores})\n",
    "    df.to_csv(\"preds.csv\", index=False)"
   ]
  },
  {
   "cell_type": "code",
   "execution_count": 138,
   "metadata": {},
   "outputs": [],
   "source": [
    "export_and_save(mean_ratings)\n",
    "# score: 1.02982"
   ]
  },
  {
   "cell_type": "markdown",
   "metadata": {},
   "source": [
    "## Now let's try SVD"
   ]
  },
  {
   "cell_type": "code",
   "execution_count": 15,
   "metadata": {},
   "outputs": [],
   "source": [
    "# repeat our mean values 10000 times (for every observation / user)\n",
    "dataset_imputed = np.repeat(mean_ratings[np.newaxis, :], 10000, axis=0)\n",
    "assert dataset_imputed.shape == (10000, 1000)\n",
    "\n",
    "dataset_original = dataset.astype(float).toarray()\n",
    "dataset_imputed[dataset_original != 0] = dataset_original[dataset_original != 0]\n",
    "\n",
    "u, eps, v = np.linalg.svd(dataset_imputed)"
   ]
  },
  {
   "cell_type": "code",
   "execution_count": 16,
   "metadata": {},
   "outputs": [
    {
     "name": "stdout",
     "output_type": "stream",
     "text": [
      "(10000, 10000) (1000,) (1000, 1000)\n"
     ]
    }
   ],
   "source": [
    "print(u.shape, eps.shape, v.shape)\n"
   ]
  },
  {
   "cell_type": "code",
   "execution_count": 17,
   "metadata": {},
   "outputs": [
    {
     "data": {
      "text/plain": [
       "[<matplotlib.lines.Line2D at 0x7fc18781efd0>]"
      ]
     },
     "execution_count": 17,
     "metadata": {},
     "output_type": "execute_result"
    },
    {
     "data": {
      "image/png": "[encoded data removed]",
      "text/plain": [
       "<Figure size 432x288 with 1 Axes>"
      ]
     },
     "metadata": {
      "needs_background": "light"
     },
     "output_type": "display_data"
    }
   ],
   "source": [
    "%matplotlib inline\n",
    "import matplotlib.pyplot as plt\n",
    "# Plot singular values\n",
    "plt.plot(range(len(eps)), np.log(eps))"
   ]
  },
  {
   "cell_type": "code",
   "execution_count": 18,
   "metadata": {},
   "outputs": [
    {
     "name": "stdout",
     "output_type": "stream",
     "text": [
      "(10000, 1000) (10000, 10000) (1000, 1000)\n",
      "[[3.37941176 3.50094162 3.48358586 3.93647282 3.55913113]\n",
      " [3.37941176 3.50094162 3.48358586 3.         3.55913113]\n",
      " [3.37941176 3.50094162 3.48358586 2.         3.55913113]\n",
      " [3.37941176 3.50094162 3.48358586 3.93647282 3.55913113]\n",
      " [3.37941176 2.         3.48358586 3.93647282 3.55913113]]\n"
     ]
    }
   ],
   "source": [
    "# Reconstruct matrix with SVD\n",
    "k = 1000\n",
    "\n",
    "#eps_ = eps[:k] * np.eye(k)\n",
    "\n",
    "eps_ = np.zeros([10000, 1000])\n",
    "eps_[:k, :k] = np.diag(eps[:k])\n",
    "\n",
    "print(eps_.shape, u.shape, v.shape)\n",
    "new_preds = np.matmul(u, np.matmul(eps_, v))\n",
    "\n",
    "assert np.allclose(dataset_imputed, new_preds)\n",
    "print(new_preds[0:5, :5])"
   ]
  },
  {
   "cell_type": "code",
   "execution_count": 19,
   "metadata": {},
   "outputs": [
    {
     "name": "stdout",
     "output_type": "stream",
     "text": [
      "(10000, 1000) (10000, 10000) (1000, 1000)\n",
      "[[3.38202786 3.50609367 3.48682581 3.87946509 3.55775188]\n",
      " [3.36530147 3.49766716 3.47479613 3.54717242 3.50567936]\n",
      " [3.37980406 3.54190776 3.49060141 3.72090811 3.54541929]\n",
      " [3.38180425 3.4982607  3.48194382 4.03261952 3.5734669 ]\n",
      " [3.35936701 3.49685101 3.44115506 3.85140611 3.52812127]]\n"
     ]
    }
   ],
   "source": [
    "# Predict with SVD\n",
    "k = 10\n",
    "\n",
    "#eps_ = eps[:k] * np.eye(k)\n",
    "\n",
    "eps_ = np.zeros([10000, 1000])\n",
    "eps_[:k, :k] = np.diag(eps[:k])\n",
    "\n",
    "print(eps_.shape, u.shape, v.shape)\n",
    "new_preds = np.matmul(u, np.matmul(eps_, v))\n",
    "\n",
    "print(new_preds[0:5, :5])"
   ]
  },
  {
   "cell_type": "markdown",
   "metadata": {},
   "source": [
    "NOTE: it's fucking interesting that k=10 is better than k>10 even if it totally gets rid of all training data in there. Too much noise."
   ]
  },
  {
   "cell_type": "code",
   "execution_count": 20,
   "metadata": {},
   "outputs": [],
   "source": [
    "def export_and_save_matrix(preds):\n",
    "    ids = [f\"r{row+1}_c{col+1}\" for row, col in zip(target_rows, target_cols)]\n",
    "    scores = [preds[row, col] for row, col in zip(target_rows, target_cols)]\n",
    "    df = pd.DataFrame({\"Id\": ids, \"Prediction\": scores})\n",
    "    df.to_csv(\"preds.csv\", index=False)\n",
    "\n",
    "export_and_save_matrix(new_preds)"
   ]
  },
  {
   "cell_type": "code",
   "execution_count": 266,
   "metadata": {},
   "outputs": [
    {
     "data": {
      "application/vnd.jupyter.widget-view+json": {
       "model_id": "73b6f53ebec14e0d804de3bcf1b57a64",
       "version_major": 2,
       "version_minor": 0
      },
      "text/plain": [
       "HBox(children=(IntProgress(value=0, max=5), HTML(value='')))"
      ]
     },
     "metadata": {},
     "output_type": "display_data"
    },
    {
     "name": "stdout",
     "output_type": "stream",
     "text": [
      "SVD iter 0\n",
      "SVD iter 1\n",
      "SVD iter 2\n",
      "SVD iter 3\n",
      "SVD iter 4\n",
      "Done!\n"
     ]
    }
   ],
   "source": [
    "# initialize with mean ratings\n",
    "dataset_imputed = np.repeat(mean_ratings[np.newaxis, :], 10000, axis=0)\n",
    "assert dataset_imputed.shape == (10000, 1000)\n",
    "dataset_original = dataset.astype(float).toarray()\n",
    "X = dataset_imputed\n",
    "k = 20\n",
    "\n",
    "for i in tqdm(range(5)):\n",
    "    print(\"SVD iter %d\" % i)\n",
    "    # fix training values and keep predicted ones\n",
    "    X[dataset_original != 0] = dataset_original[dataset_original != 0]\n",
    "    u, eps, v = np.linalg.svd(X)\n",
    "    eps_ = np.zeros([10000, 1000])\n",
    "    eps_[:k, :k] = np.diag(eps[:k])\n",
    "    X = np.matmul(u, np.matmul(eps_, v))\n",
    "\n",
    "print(\"Done!\")"
   ]
  },
  {
   "cell_type": "code",
   "execution_count": 267,
   "metadata": {},
   "outputs": [
    {
     "data": {
      "text/plain": [
       "array([[3.39192977, 3.56500883, 3.43412121, 3.8421515 , 3.41777468],\n",
       "       [3.27623179, 3.53398348, 3.31754785, 3.06659612, 3.484062  ],\n",
       "       [3.45029177, 3.73493616, 3.47131386, 2.39455685, 3.66056744],\n",
       "       [3.35414054, 3.53831848, 3.40024106, 4.3483532 , 3.58482318],\n",
       "       [3.33487109, 3.36400468, 3.20579915, 4.64266622, 3.38015438]])"
      ]
     },
     "execution_count": 267,
     "metadata": {},
     "output_type": "execute_result"
    }
   ],
   "source": [
    "X[0:5, :5]"
   ]
  },
  {
   "cell_type": "code",
   "execution_count": 268,
   "metadata": {},
   "outputs": [],
   "source": [
    "export_and_save_matrix(X)"
   ]
  },
  {
   "cell_type": "code",
   "execution_count": null,
   "metadata": {},
   "outputs": [],
   "source": []
  }
 ],
 "metadata": {
  "kernelspec": {
   "display_name": "Python 3",
   "language": "python",
   "name": "python3"
  },
  "language_info": {
   "codemirror_mode": {
    "name": "ipython",
    "version": 3
   },
   "file_extension": ".py",
   "mimetype": "text/x-python",
   "name": "python",
   "nbconvert_exporter": "python",
   "pygments_lexer": "ipython3",
   "version": "3.7.3"
  }
 },
 "nbformat": 4,
 "nbformat_minor": 2
}
