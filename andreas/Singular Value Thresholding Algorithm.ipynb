{
 "cells": [
  {
   "cell_type": "code",
   "execution_count": 7,
   "metadata": {},
   "outputs": [],
   "source": [
    "import numpy as np\n",
    "import pandas as pd\n",
    "import math\n",
    "from tqdm.auto import tqdm\n",
    "\n",
    "from scipy.sparse import linalg\n",
    "from scipy.sparse import csr_matrix, csc_matrix\n",
    "\n",
    "import utils\n",
    "import models"
   ]
  },
  {
   "cell_type": "code",
   "execution_count": 2,
   "metadata": {},
   "outputs": [
    {
     "data": {
      "text/html": [
       "<div>\n",
       "<style scoped>\n",
       "    .dataframe tbody tr th:only-of-type {\n",
       "        vertical-align: middle;\n",
       "    }\n",
       "\n",
       "    .dataframe tbody tr th {\n",
       "        vertical-align: top;\n",
       "    }\n",
       "\n",
       "    .dataframe thead th {\n",
       "        text-align: right;\n",
       "    }\n",
       "</style>\n",
       "<table border=\"1\" class=\"dataframe\">\n",
       "  <thead>\n",
       "    <tr style=\"text-align: right;\">\n",
       "      <th></th>\n",
       "      <th>row</th>\n",
       "      <th>col</th>\n",
       "      <th>Prediction</th>\n",
       "    </tr>\n",
       "  </thead>\n",
       "  <tbody>\n",
       "    <tr>\n",
       "      <th>0</th>\n",
       "      <td>43</td>\n",
       "      <td>0</td>\n",
       "      <td>4</td>\n",
       "    </tr>\n",
       "    <tr>\n",
       "      <th>1</th>\n",
       "      <td>60</td>\n",
       "      <td>0</td>\n",
       "      <td>3</td>\n",
       "    </tr>\n",
       "    <tr>\n",
       "      <th>2</th>\n",
       "      <td>66</td>\n",
       "      <td>0</td>\n",
       "      <td>4</td>\n",
       "    </tr>\n",
       "    <tr>\n",
       "      <th>3</th>\n",
       "      <td>71</td>\n",
       "      <td>0</td>\n",
       "      <td>3</td>\n",
       "    </tr>\n",
       "    <tr>\n",
       "      <th>4</th>\n",
       "      <td>85</td>\n",
       "      <td>0</td>\n",
       "      <td>5</td>\n",
       "    </tr>\n",
       "  </tbody>\n",
       "</table>\n",
       "</div>"
      ],
      "text/plain": [
       "   row  col  Prediction\n",
       "0   43    0           4\n",
       "1   60    0           3\n",
       "2   66    0           4\n",
       "3   71    0           3\n",
       "4   85    0           5"
      ]
     },
     "execution_count": 2,
     "metadata": {},
     "output_type": "execute_result"
    }
   ],
   "source": [
    "data = pd.read_csv('data_train.csv')\n",
    "train_data = utils.clean_df(data)\n",
    "train_data.head()"
   ]
  },
  {
   "cell_type": "code",
   "execution_count": 46,
   "metadata": {},
   "outputs": [],
   "source": [
    "def singular_value_thresholding(data, param, stepsize = 1):\n",
    "    \n",
    "    tao = param\n",
    "    \n",
    "    # Initialize\n",
    "    Y = np.zeros([10000,1000])\n",
    "    X = np.zeros([10000,1000])\n",
    "    epsilon = 0.0001\n",
    "    err = 10\n",
    "    \n",
    "    \n",
    "    A = np.zeros([10000,1000])\n",
    "    row_ind = data.loc[:,'row']\n",
    "    col_ind = data.loc[:,'col']\n",
    "    A[row_ind, col_ind] = data.loc[:,'Prediction']\n",
    "    \n",
    "\n",
    "    while err >= epsilon:\n",
    "        \n",
    "        # Shrinkage operator\n",
    "        u, s, vh = np.linalg.svd(Y)\n",
    "        s_diag = np.concatenate((np.diag(s), np.zeros((9000,1000))), axis = 0) # Represent singular values in matrix\n",
    "        s_new = s_diag - tao\n",
    "        s_new[s_new < 0] = 0\n",
    "        X = np.dot(u, np.dot(s_new, vh))\n",
    "        \n",
    "        # Projection\n",
    "        proj = np.zeros([10000,1000])\n",
    "        proj[row_ind, col_ind] = (A - X)[row_ind, col_ind]\n",
    "        \n",
    "        # Print error\n",
    "        err = np.linalg.norm((X - A)[row_ind, col_ind], ord = 2)/np.linalg.norm(A[row_ind, col_ind])\n",
    "        print(\"Error is: \", err)\n",
    "        \n",
    "        # Step forward\n",
    "        Y = Y + stepsize * proj\n",
    "    \n",
    "    # Do final shrinkage\n",
    "    u, s, vh = np.linalg.svd(Y)\n",
    "    s_diag = np.concatenate((np.diag(s), np.zeros((9000,1000))), axis = 0) # Represent singular values in matrix\n",
    "    s_new = s_diag - tao\n",
    "    s_new[s_new < 0] = 0\n",
    "    pred_matrix = np.dot(u, np.dot(s_new, vh))\n",
    "    \n",
    "    return pred_matrix"
   ]
  },
  {
   "cell_type": "code",
   "execution_count": 51,
   "metadata": {},
   "outputs": [
    {
     "name": "stdout",
     "output_type": "stream",
     "text": [
      "Error is:  1.0\n",
      "Error is:  0.5339300379285385\n",
      "Error is:  0.23666940511409482\n",
      "Error is:  0.11064290161109319\n",
      "Error is:  0.0570297022067749\n",
      "Error is:  0.03166974921414365\n",
      "Error is:  0.019212210542069973\n",
      "Error is:  0.01261903493552372\n",
      "Error is:  0.00877545337467797\n",
      "Error is:  0.006385587192746265\n",
      "Error is:  0.0048158485604412994\n",
      "Error is:  0.003738482733536121\n",
      "Error is:  0.0029715033101875036\n",
      "Error is:  0.002407478674056061\n"
     ]
    },
    {
     "ename": "KeyboardInterrupt",
     "evalue": "",
     "output_type": "error",
     "traceback": [
      "\u001b[0;31m---------------------------------------------------------------------------\u001b[0m",
      "\u001b[0;31mKeyboardInterrupt\u001b[0m                         Traceback (most recent call last)",
      "\u001b[0;32m<ipython-input-51-6b504ebb2271>\u001b[0m in \u001b[0;36m<module>\u001b[0;34m\u001b[0m\n\u001b[0;32m----> 1\u001b[0;31m \u001b[0mpred_matrix\u001b[0m \u001b[0;34m=\u001b[0m \u001b[0msingular_value_thresholding\u001b[0m\u001b[0;34m(\u001b[0m\u001b[0mtrain_data\u001b[0m\u001b[0;34m,\u001b[0m \u001b[0mparam\u001b[0m \u001b[0;34m=\u001b[0m \u001b[0;36m200\u001b[0m\u001b[0;34m,\u001b[0m \u001b[0mstepsize\u001b[0m \u001b[0;34m=\u001b[0m \u001b[0;36m1.5\u001b[0m\u001b[0;34m)\u001b[0m\u001b[0;34m\u001b[0m\u001b[0;34m\u001b[0m\u001b[0m\n\u001b[0m",
      "\u001b[0;32m<ipython-input-46-fbeed0726cb6>\u001b[0m in \u001b[0;36msingular_value_thresholding\u001b[0;34m(data, param, stepsize)\u001b[0m\n\u001b[1;32m     19\u001b[0m \u001b[0;34m\u001b[0m\u001b[0m\n\u001b[1;32m     20\u001b[0m         \u001b[0;31m# Shrinkage operator\u001b[0m\u001b[0;34m\u001b[0m\u001b[0;34m\u001b[0m\u001b[0;34m\u001b[0m\u001b[0m\n\u001b[0;32m---> 21\u001b[0;31m         \u001b[0mu\u001b[0m\u001b[0;34m,\u001b[0m \u001b[0ms\u001b[0m\u001b[0;34m,\u001b[0m \u001b[0mvh\u001b[0m \u001b[0;34m=\u001b[0m \u001b[0mnp\u001b[0m\u001b[0;34m.\u001b[0m\u001b[0mlinalg\u001b[0m\u001b[0;34m.\u001b[0m\u001b[0msvd\u001b[0m\u001b[0;34m(\u001b[0m\u001b[0mY\u001b[0m\u001b[0;34m)\u001b[0m\u001b[0;34m\u001b[0m\u001b[0;34m\u001b[0m\u001b[0m\n\u001b[0m\u001b[1;32m     22\u001b[0m         \u001b[0ms_diag\u001b[0m \u001b[0;34m=\u001b[0m \u001b[0mnp\u001b[0m\u001b[0;34m.\u001b[0m\u001b[0mconcatenate\u001b[0m\u001b[0;34m(\u001b[0m\u001b[0;34m(\u001b[0m\u001b[0mnp\u001b[0m\u001b[0;34m.\u001b[0m\u001b[0mdiag\u001b[0m\u001b[0;34m(\u001b[0m\u001b[0ms\u001b[0m\u001b[0;34m)\u001b[0m\u001b[0;34m,\u001b[0m \u001b[0mnp\u001b[0m\u001b[0;34m.\u001b[0m\u001b[0mzeros\u001b[0m\u001b[0;34m(\u001b[0m\u001b[0;34m(\u001b[0m\u001b[0;36m9000\u001b[0m\u001b[0;34m,\u001b[0m\u001b[0;36m1000\u001b[0m\u001b[0;34m)\u001b[0m\u001b[0;34m)\u001b[0m\u001b[0;34m)\u001b[0m\u001b[0;34m,\u001b[0m \u001b[0maxis\u001b[0m \u001b[0;34m=\u001b[0m \u001b[0;36m0\u001b[0m\u001b[0;34m)\u001b[0m \u001b[0;31m# Represent singular values in matrix\u001b[0m\u001b[0;34m\u001b[0m\u001b[0;34m\u001b[0m\u001b[0m\n\u001b[1;32m     23\u001b[0m         \u001b[0ms_new\u001b[0m \u001b[0;34m=\u001b[0m \u001b[0ms_diag\u001b[0m \u001b[0;34m-\u001b[0m \u001b[0mtao\u001b[0m\u001b[0;34m\u001b[0m\u001b[0;34m\u001b[0m\u001b[0m\n",
      "\u001b[0;32m<__array_function__ internals>\u001b[0m in \u001b[0;36msvd\u001b[0;34m(*args, **kwargs)\u001b[0m\n",
      "\u001b[0;32m~/Applications/anaconda3/lib/python3.7/site-packages/numpy/linalg/linalg.py\u001b[0m in \u001b[0;36msvd\u001b[0;34m(a, full_matrices, compute_uv, hermitian)\u001b[0m\n\u001b[1;32m   1634\u001b[0m \u001b[0;34m\u001b[0m\u001b[0m\n\u001b[1;32m   1635\u001b[0m         \u001b[0msignature\u001b[0m \u001b[0;34m=\u001b[0m \u001b[0;34m'D->DdD'\u001b[0m \u001b[0;32mif\u001b[0m \u001b[0misComplexType\u001b[0m\u001b[0;34m(\u001b[0m\u001b[0mt\u001b[0m\u001b[0;34m)\u001b[0m \u001b[0;32melse\u001b[0m \u001b[0;34m'd->ddd'\u001b[0m\u001b[0;34m\u001b[0m\u001b[0;34m\u001b[0m\u001b[0m\n\u001b[0;32m-> 1636\u001b[0;31m         \u001b[0mu\u001b[0m\u001b[0;34m,\u001b[0m \u001b[0ms\u001b[0m\u001b[0;34m,\u001b[0m \u001b[0mvh\u001b[0m \u001b[0;34m=\u001b[0m \u001b[0mgufunc\u001b[0m\u001b[0;34m(\u001b[0m\u001b[0ma\u001b[0m\u001b[0;34m,\u001b[0m \u001b[0msignature\u001b[0m\u001b[0;34m=\u001b[0m\u001b[0msignature\u001b[0m\u001b[0;34m,\u001b[0m \u001b[0mextobj\u001b[0m\u001b[0;34m=\u001b[0m\u001b[0mextobj\u001b[0m\u001b[0;34m)\u001b[0m\u001b[0;34m\u001b[0m\u001b[0;34m\u001b[0m\u001b[0m\n\u001b[0m\u001b[1;32m   1637\u001b[0m         \u001b[0mu\u001b[0m \u001b[0;34m=\u001b[0m \u001b[0mu\u001b[0m\u001b[0;34m.\u001b[0m\u001b[0mastype\u001b[0m\u001b[0;34m(\u001b[0m\u001b[0mresult_t\u001b[0m\u001b[0;34m,\u001b[0m \u001b[0mcopy\u001b[0m\u001b[0;34m=\u001b[0m\u001b[0;32mFalse\u001b[0m\u001b[0;34m)\u001b[0m\u001b[0;34m\u001b[0m\u001b[0;34m\u001b[0m\u001b[0m\n\u001b[1;32m   1638\u001b[0m         \u001b[0ms\u001b[0m \u001b[0;34m=\u001b[0m \u001b[0ms\u001b[0m\u001b[0;34m.\u001b[0m\u001b[0mastype\u001b[0m\u001b[0;34m(\u001b[0m\u001b[0m_realType\u001b[0m\u001b[0;34m(\u001b[0m\u001b[0mresult_t\u001b[0m\u001b[0;34m)\u001b[0m\u001b[0;34m,\u001b[0m \u001b[0mcopy\u001b[0m\u001b[0;34m=\u001b[0m\u001b[0;32mFalse\u001b[0m\u001b[0;34m)\u001b[0m\u001b[0;34m\u001b[0m\u001b[0;34m\u001b[0m\u001b[0m\n",
      "\u001b[0;31mKeyboardInterrupt\u001b[0m: "
     ]
    }
   ],
   "source": [
    "pred_matrix = singular_value_thresholding(train_data, param = 200, stepsize = 1.5)"
   ]
  },
  {
   "cell_type": "markdown",
   "metadata": {},
   "source": [
    "## Now try cross validation"
   ]
  },
  {
   "cell_type": "code",
   "execution_count": 80,
   "metadata": {},
   "outputs": [],
   "source": [
    "fold_1 = pd.read_csv('fold_1.csv', index_col = 0)\n",
    "fold_2 = pd.read_csv('fold_2.csv', index_col = 0)\n",
    "fold_3 = pd.read_csv('fold_3.csv', index_col = 0)\n",
    "fold_4 = pd.read_csv('fold_4.csv', index_col = 0)\n",
    "fold_5 = pd.read_csv('fold_5.csv', index_col = 0)\n",
    "folds = [fold_1, fold_2, fold_3, fold_4, fold_5]"
   ]
  },
  {
   "cell_type": "code",
   "execution_count": 93,
   "metadata": {},
   "outputs": [
    {
     "name": "stdout",
     "output_type": "stream",
     "text": [
      "Error is:  1.0\n",
      "Error is:  0.3599283581513972\n",
      "Error is:  0.04396712693193316\n",
      "Error is:  0.014524659907214433\n",
      "Error is:  0.005893872523799301\n",
      "Error is:  0.0030002452530667025\n",
      "Error is:  0.0019705377972428014\n",
      "Error is:  0.0011927628091518627\n",
      "Error is:  0.000903072132670947\n",
      "Error is:  0.0007065488049324655\n",
      "Error is:  0.000563361664929391\n",
      "Error is:  0.00045554514886161186\n",
      "Error is:  0.00037280336465938857\n",
      "Error is:  0.00030841458777907153\n",
      "Error is:  0.00025766836590867886\n",
      "Error is:  0.0002171634172289716\n",
      "Error is:  0.0001844215819926238\n",
      "Error is:  0.00015763339193499402\n",
      "Error is:  0.00013547366907393064\n",
      "Error is:  0.00011696507703032067\n",
      "Error is:  0.00010137850888592666\n",
      "Error is:  8.816190408570791e-05\n",
      "Error is:  1.0\n",
      "Error is:  0.359887312888428\n",
      "Error is:  0.044103069200794424\n",
      "Error is:  0.014533105398321365\n",
      "Error is:  0.00571469618563651\n",
      "Error is:  0.003176845648051834\n",
      "Error is:  0.0021824399647983636\n",
      "Error is:  0.0014855420613217162\n",
      "Error is:  0.0011700288361297065\n",
      "Error is:  0.0007264565740340921\n",
      "Error is:  0.0005933506936523305\n",
      "Error is:  0.000505021197193235\n",
      "Error is:  0.00043644513999815574\n",
      "Error is:  0.0003811250561098832\n",
      "Error is:  0.00033545382984026046\n",
      "Error is:  0.0002971583540564023\n",
      "Error is:  0.0002646825004721161\n",
      "Error is:  0.00023689512651571838\n",
      "Error is:  0.0002129381972446872\n",
      "Error is:  0.0001921418471077375\n",
      "Error is:  0.0001739734025755813\n",
      "Error is:  0.0001580044663588764\n",
      "Error is:  0.0001438881054118614\n",
      "Error is:  0.00013134206298090294\n",
      "Error is:  0.00012013585309591577\n",
      "Error is:  0.00011008056999195189\n",
      "Error is:  0.00010102073277016215\n",
      "Error is:  9.282772987769065e-05\n",
      "Error is:  1.0\n",
      "Error is:  0.3599490450666325\n",
      "Error is:  0.04391064035208045\n",
      "Error is:  0.014345977011130322\n",
      "Error is:  0.005853191170263585\n",
      "Error is:  0.0031124125052620732\n",
      "Error is:  0.0021320322119218393\n",
      "Error is:  0.0015880450786591332\n",
      "Error is:  0.0011626357993150455\n",
      "Error is:  0.0007807787219653703\n",
      "Error is:  0.0006157595963901221\n",
      "Error is:  0.0005230568913482937\n",
      "Error is:  0.0004509544370994737\n",
      "Error is:  0.0003926424705184931\n",
      "Error is:  0.0003444170507187438\n",
      "Error is:  0.00030393880079144847\n",
      "Error is:  0.0002695997547764253\n",
      "Error is:  0.00024022837006995698\n",
      "Error is:  0.00021493456199607786\n",
      "Error is:  0.00019302175534096266\n",
      "Error is:  0.00017393364703305902\n",
      "Error is:  0.0001572199245587223\n",
      "Error is:  0.0001425128243746385\n",
      "Error is:  0.00012951020366581669\n",
      "Error is:  0.00011796275597158602\n",
      "Error is:  0.00010766403460383964\n",
      "Error is:  9.844249953024112e-05\n",
      "Error is:  1.0\n",
      "Error is:  0.35996037186303986\n",
      "Error is:  0.04408160870672156\n",
      "Error is:  0.01414297660533239\n",
      "Error is:  0.0060063398106191225\n",
      "Error is:  0.0032876297664219648\n",
      "Error is:  0.0020655585466193217\n",
      "Error is:  0.001383012584556633\n",
      "Error is:  0.001121098976267507\n",
      "Error is:  0.000930106302600149\n",
      "Error is:  0.0006748870712797625\n",
      "Error is:  0.0004846108248547977\n",
      "Error is:  0.0004239674763712311\n",
      "Error is:  0.00037888027744624735\n",
      "Error is:  0.00034333671455480554\n",
      "Error is:  0.0003143044287301956\n",
      "Error is:  0.0002899339685154216\n",
      "Error is:  0.00026900708100973444\n",
      "Error is:  0.00025068871332344626\n",
      "Error is:  0.00023439197869457533\n",
      "Error is:  0.00021969681837279408\n",
      "Error is:  0.00020629808895483774\n",
      "Error is:  0.00019397119210286219\n",
      "Error is:  0.00018254873491747916\n",
      "Error is:  0.00017190438224085573\n",
      "Error is:  0.0001619415223970684\n",
      "Error is:  0.00015258521918601957\n",
      "Error is:  0.00014377644308799327\n",
      "Error is:  0.00013546790372378066\n",
      "Error is:  0.00012762101948015644\n",
      "Error is:  0.00012020370217993568\n",
      "Error is:  0.0001131887305704496\n",
      "Error is:  0.00010655255212862517\n",
      "Error is:  0.00010027439829318811\n",
      "Error is:  9.433563023401103e-05\n",
      "Error is:  1.0\n",
      "Error is:  0.35998989380949137\n",
      "Error is:  0.0438007295883984\n",
      "Error is:  0.01415173968597898\n",
      "Error is:  0.0056534996626035955\n",
      "Error is:  0.0031015703424835976\n",
      "Error is:  0.0020197459379015354\n",
      "Error is:  0.001419019546221272\n",
      "Error is:  0.001147115370342817\n",
      "Error is:  0.0009744223580767971\n",
      "Error is:  0.0008390404579063976\n",
      "Error is:  0.0005988968674941657\n",
      "Error is:  0.0004937449496010913\n",
      "Error is:  0.0004336352032473009\n",
      "Error is:  0.000384899933218219\n",
      "Error is:  0.00034421287316068085\n",
      "Error is:  0.00030965326029601696\n",
      "Error is:  0.0002799132417583502\n",
      "Error is:  0.0002540474992268576\n",
      "Error is:  0.0002313516547710478\n",
      "Error is:  0.00021128954066969977\n",
      "Error is:  0.00019344537746513005\n",
      "Error is:  0.0001774909644617636\n",
      "Error is:  0.0001631627325254096\n",
      "Error is:  0.00015024554369022928\n",
      "Error is:  0.00013856118171178493\n",
      "Error is:  0.00012796011679107417\n",
      "Error is:  0.00011831555164609594\n",
      "Error is:  0.00010951905210221267\n",
      "Error is:  0.00010147727637892859\n",
      "Error is:  9.410946804413588e-05\n"
     ]
    }
   ],
   "source": [
    "tao = np.array([50])\n",
    "rmse = utils.k_fold_cv(folds, tao, singular_value_thresholding)"
   ]
  },
  {
   "cell_type": "code",
   "execution_count": 94,
   "metadata": {},
   "outputs": [
    {
     "data": {
      "text/plain": [
       "array([3.75723877])"
      ]
     },
     "execution_count": 94,
     "metadata": {},
     "output_type": "execute_result"
    }
   ],
   "source": [
    "rmse"
   ]
  },
  {
   "cell_type": "markdown",
   "metadata": {},
   "source": [
    "## Very slow, try with scipy sparse"
   ]
  },
  {
   "cell_type": "code",
   "execution_count": 3,
   "metadata": {},
   "outputs": [
    {
     "data": {
      "text/plain": [
       "array([4., 3., 4., ..., 3., 4., 3.])"
      ]
     },
     "execution_count": 3,
     "metadata": {},
     "output_type": "execute_result"
    }
   ],
   "source": [
    "A = np.zeros([10000,1000])\n",
    "row_ind = train_data.loc[:,'row']\n",
    "col_ind = train_data.loc[:,'col']\n",
    "A[row_ind, col_ind] = train_data.loc[:,'Prediction']\n",
    "A[row_ind, col_ind]"
   ]
  },
  {
   "cell_type": "code",
   "execution_count": 32,
   "metadata": {},
   "outputs": [
    {
     "data": {
      "text/plain": [
       "((10000, 100), (100,), (100, 1000))"
      ]
     },
     "execution_count": 32,
     "metadata": {},
     "output_type": "execute_result"
    }
   ],
   "source": [
    "from scipy.sparse import linalg\n",
    "#matrix = csr_matrix((train_data.loc[:,'Prediction'], (train_data.loc[:,'row'],train_data.loc[:,'col'])))\n",
    "#csc_matrix([[1, 0, 0], [5, 0, 2], [0, -1, 0], [0, 0, 3]], dtype=float)\n",
    "u, s, vt = linalg.svds(A, k= 100)\n",
    "#u, s, vt = np.linalg.svd(A)\n",
    "u.shape, s.shape, vt.shape"
   ]
  },
  {
   "cell_type": "code",
   "execution_count": 26,
   "metadata": {},
   "outputs": [
    {
     "data": {
      "text/plain": [
       "63"
      ]
     },
     "execution_count": 26,
     "metadata": {},
     "output_type": "execute_result"
    }
   ],
   "source": [
    "np.count_nonzero(s > 200)"
   ]
  },
  {
   "cell_type": "code",
   "execution_count": 41,
   "metadata": {},
   "outputs": [],
   "source": [
    "# Implementation as in paper by Cai, Candes & Shen (kind of) \n",
    "\n",
    "def singular_value_thresholding2(data, param, stepsize = 1):\n",
    "    \n",
    "    tao = param\n",
    "    \n",
    "    # Initialize\n",
    "    Y = np.zeros([10000,1000])\n",
    "    X = np.zeros([10000,1000])\n",
    "    epsilon = 0.0001\n",
    "    err = 10\n",
    "    r = 100\n",
    "    l = 50\n",
    "    \n",
    "    A = np.zeros([10000,1000])\n",
    "    row_ind = data.loc[:,'row']\n",
    "    col_ind = data.loc[:,'col']\n",
    "    A[row_ind, col_ind] = data.loc[:,'Prediction']\n",
    "    \n",
    "    \n",
    "\n",
    "    while err >= epsilon:\n",
    "        \n",
    "        # Shrinkage operator\n",
    "        sigma = tao + 1\n",
    "        rank = r + 1\n",
    "        while sigma > tao:            \n",
    "            u, s, vh = linalg.svds(Y, k= min(rank, 999))\n",
    "            sigma = s[0]\n",
    "            rank = rank + l\n",
    "        s_diag = np.diag(s) # Represent singular values in matrix\n",
    "        s_new = s_diag - tao\n",
    "        s_new[s_new < 0] = 0\n",
    "        X = np.dot(u, np.dot(s_new, vh))\n",
    "        r = np.count_nonzero(s > tao)\n",
    "        \n",
    "        # Projection\n",
    "        proj = np.zeros([10000,1000])\n",
    "        proj[row_ind, col_ind] = (A - X)[row_ind, col_ind]\n",
    "        \n",
    "        # Print error\n",
    "        err = np.linalg.norm((X - A)[row_ind, col_ind], ord = 2)/np.linalg.norm(A[row_ind, col_ind])\n",
    "        print(\"Error is: \", err)\n",
    "        \n",
    "        # Step forward\n",
    "        Y = Y + stepsize * proj\n",
    "    \n",
    "    # Do final shrinkage\n",
    "    u, s, vh = np.linalg.svd(Y)\n",
    "    s_diag = np.concatenate((np.diag(s), np.zeros((9000,1000))), axis = 0) # Represent singular values in matrix\n",
    "    s_new = s_diag - tao\n",
    "    s_new[s_new < 0] = 0\n",
    "    pred_matrix = np.dot(u, np.dot(s_new, vh))\n",
    "    \n",
    "    return pred_matrix"
   ]
  },
  {
   "cell_type": "code",
   "execution_count": 43,
   "metadata": {},
   "outputs": [
    {
     "name": "stdout",
     "output_type": "stream",
     "text": [
      "Error is:  1.0\n"
     ]
    },
    {
     "ename": "KeyboardInterrupt",
     "evalue": "",
     "output_type": "error",
     "traceback": [
      "\u001b[0;31m---------------------------------------------------------------------------\u001b[0m",
      "\u001b[0;31mKeyboardInterrupt\u001b[0m                         Traceback (most recent call last)",
      "\u001b[0;32m<ipython-input-43-fed25336e7e6>\u001b[0m in \u001b[0;36m<module>\u001b[0;34m\u001b[0m\n\u001b[0;32m----> 1\u001b[0;31m \u001b[0mpred_matrix\u001b[0m \u001b[0;34m=\u001b[0m \u001b[0msingular_value_thresholding\u001b[0m\u001b[0;34m(\u001b[0m\u001b[0mtrain_data\u001b[0m\u001b[0;34m,\u001b[0m \u001b[0mparam\u001b[0m \u001b[0;34m=\u001b[0m \u001b[0;36m200\u001b[0m\u001b[0;34m,\u001b[0m \u001b[0mstepsize\u001b[0m \u001b[0;34m=\u001b[0m \u001b[0;36m10\u001b[0m\u001b[0;34m)\u001b[0m\u001b[0;34m\u001b[0m\u001b[0;34m\u001b[0m\u001b[0m\n\u001b[0m",
      "\u001b[0;32m<ipython-input-41-01886022baaf>\u001b[0m in \u001b[0;36msingular_value_thresholding\u001b[0;34m(data, param, stepsize)\u001b[0m\n\u001b[1;32m     24\u001b[0m         \u001b[0mrank\u001b[0m \u001b[0;34m=\u001b[0m \u001b[0mr\u001b[0m \u001b[0;34m+\u001b[0m \u001b[0;36m1\u001b[0m\u001b[0;34m\u001b[0m\u001b[0;34m\u001b[0m\u001b[0m\n\u001b[1;32m     25\u001b[0m         \u001b[0;32mwhile\u001b[0m \u001b[0msigma\u001b[0m \u001b[0;34m>\u001b[0m \u001b[0mtao\u001b[0m\u001b[0;34m:\u001b[0m\u001b[0;34m\u001b[0m\u001b[0;34m\u001b[0m\u001b[0m\n\u001b[0;32m---> 26\u001b[0;31m             \u001b[0mu\u001b[0m\u001b[0;34m,\u001b[0m \u001b[0ms\u001b[0m\u001b[0;34m,\u001b[0m \u001b[0mvh\u001b[0m \u001b[0;34m=\u001b[0m \u001b[0mlinalg\u001b[0m\u001b[0;34m.\u001b[0m\u001b[0msvds\u001b[0m\u001b[0;34m(\u001b[0m\u001b[0mY\u001b[0m\u001b[0;34m,\u001b[0m \u001b[0mk\u001b[0m\u001b[0;34m=\u001b[0m \u001b[0mmin\u001b[0m\u001b[0;34m(\u001b[0m\u001b[0mrank\u001b[0m\u001b[0;34m,\u001b[0m \u001b[0;36m999\u001b[0m\u001b[0;34m)\u001b[0m\u001b[0;34m)\u001b[0m\u001b[0;34m\u001b[0m\u001b[0;34m\u001b[0m\u001b[0m\n\u001b[0m\u001b[1;32m     27\u001b[0m             \u001b[0msigma\u001b[0m \u001b[0;34m=\u001b[0m \u001b[0ms\u001b[0m\u001b[0;34m[\u001b[0m\u001b[0;36m0\u001b[0m\u001b[0;34m]\u001b[0m\u001b[0;34m\u001b[0m\u001b[0;34m\u001b[0m\u001b[0m\n\u001b[1;32m     28\u001b[0m             \u001b[0mrank\u001b[0m \u001b[0;34m=\u001b[0m \u001b[0mrank\u001b[0m \u001b[0;34m+\u001b[0m \u001b[0ml\u001b[0m\u001b[0;34m\u001b[0m\u001b[0;34m\u001b[0m\u001b[0m\n",
      "\u001b[0;32m~/Applications/anaconda3/lib/python3.7/site-packages/scipy/sparse/linalg/eigen/arpack/arpack.py\u001b[0m in \u001b[0;36msvds\u001b[0;34m(A, k, ncv, tol, which, v0, maxiter, return_singular_vectors)\u001b[0m\n\u001b[1;32m   1824\u001b[0m     \u001b[0;31m# This is not a stable way to approach the problem.\u001b[0m\u001b[0;34m\u001b[0m\u001b[0;34m\u001b[0m\u001b[0;34m\u001b[0m\u001b[0m\n\u001b[1;32m   1825\u001b[0m     eigvals, eigvec = eigsh(XH_X, k=k, tol=tol ** 2, maxiter=maxiter,\n\u001b[0;32m-> 1826\u001b[0;31m                                   ncv=ncv, which=which, v0=v0)\n\u001b[0m\u001b[1;32m   1827\u001b[0m \u001b[0;34m\u001b[0m\u001b[0m\n\u001b[1;32m   1828\u001b[0m     \u001b[0;31m# In 'LM' mode try to be clever about small eigenvalues.\u001b[0m\u001b[0;34m\u001b[0m\u001b[0;34m\u001b[0m\u001b[0;34m\u001b[0m\u001b[0m\n",
      "\u001b[0;32m~/Applications/anaconda3/lib/python3.7/site-packages/scipy/sparse/linalg/eigen/arpack/arpack.py\u001b[0m in \u001b[0;36meigsh\u001b[0;34m(A, k, M, sigma, which, v0, ncv, maxiter, tol, return_eigenvectors, Minv, OPinv, mode)\u001b[0m\n\u001b[1;32m   1665\u001b[0m     \u001b[0;32mwith\u001b[0m \u001b[0m_ARPACK_LOCK\u001b[0m\u001b[0;34m:\u001b[0m\u001b[0;34m\u001b[0m\u001b[0;34m\u001b[0m\u001b[0m\n\u001b[1;32m   1666\u001b[0m         \u001b[0;32mwhile\u001b[0m \u001b[0;32mnot\u001b[0m \u001b[0mparams\u001b[0m\u001b[0;34m.\u001b[0m\u001b[0mconverged\u001b[0m\u001b[0;34m:\u001b[0m\u001b[0;34m\u001b[0m\u001b[0;34m\u001b[0m\u001b[0m\n\u001b[0;32m-> 1667\u001b[0;31m             \u001b[0mparams\u001b[0m\u001b[0;34m.\u001b[0m\u001b[0miterate\u001b[0m\u001b[0;34m(\u001b[0m\u001b[0;34m)\u001b[0m\u001b[0;34m\u001b[0m\u001b[0;34m\u001b[0m\u001b[0m\n\u001b[0m\u001b[1;32m   1668\u001b[0m \u001b[0;34m\u001b[0m\u001b[0m\n\u001b[1;32m   1669\u001b[0m         \u001b[0;32mreturn\u001b[0m \u001b[0mparams\u001b[0m\u001b[0;34m.\u001b[0m\u001b[0mextract\u001b[0m\u001b[0;34m(\u001b[0m\u001b[0mreturn_eigenvectors\u001b[0m\u001b[0;34m)\u001b[0m\u001b[0;34m\u001b[0m\u001b[0;34m\u001b[0m\u001b[0m\n",
      "\u001b[0;32m~/Applications/anaconda3/lib/python3.7/site-packages/scipy/sparse/linalg/eigen/arpack/arpack.py\u001b[0m in \u001b[0;36miterate\u001b[0;34m(self)\u001b[0m\n\u001b[1;32m    546\u001b[0m             \u001b[0;31m# compute y = Op*x\u001b[0m\u001b[0;34m\u001b[0m\u001b[0;34m\u001b[0m\u001b[0;34m\u001b[0m\u001b[0m\n\u001b[1;32m    547\u001b[0m             \u001b[0;32mif\u001b[0m \u001b[0mself\u001b[0m\u001b[0;34m.\u001b[0m\u001b[0mmode\u001b[0m \u001b[0;34m==\u001b[0m \u001b[0;36m1\u001b[0m\u001b[0;34m:\u001b[0m\u001b[0;34m\u001b[0m\u001b[0;34m\u001b[0m\u001b[0m\n\u001b[0;32m--> 548\u001b[0;31m                 \u001b[0mself\u001b[0m\u001b[0;34m.\u001b[0m\u001b[0mworkd\u001b[0m\u001b[0;34m[\u001b[0m\u001b[0myslice\u001b[0m\u001b[0;34m]\u001b[0m \u001b[0;34m=\u001b[0m \u001b[0mself\u001b[0m\u001b[0;34m.\u001b[0m\u001b[0mOP\u001b[0m\u001b[0;34m(\u001b[0m\u001b[0mself\u001b[0m\u001b[0;34m.\u001b[0m\u001b[0mworkd\u001b[0m\u001b[0;34m[\u001b[0m\u001b[0mxslice\u001b[0m\u001b[0;34m]\u001b[0m\u001b[0;34m)\u001b[0m\u001b[0;34m\u001b[0m\u001b[0;34m\u001b[0m\u001b[0m\n\u001b[0m\u001b[1;32m    549\u001b[0m             \u001b[0;32melif\u001b[0m \u001b[0mself\u001b[0m\u001b[0;34m.\u001b[0m\u001b[0mmode\u001b[0m \u001b[0;34m==\u001b[0m \u001b[0;36m2\u001b[0m\u001b[0;34m:\u001b[0m\u001b[0;34m\u001b[0m\u001b[0;34m\u001b[0m\u001b[0m\n\u001b[1;32m    550\u001b[0m                 \u001b[0mself\u001b[0m\u001b[0;34m.\u001b[0m\u001b[0mworkd\u001b[0m\u001b[0;34m[\u001b[0m\u001b[0mxslice\u001b[0m\u001b[0;34m]\u001b[0m \u001b[0;34m=\u001b[0m \u001b[0mself\u001b[0m\u001b[0;34m.\u001b[0m\u001b[0mOPb\u001b[0m\u001b[0;34m(\u001b[0m\u001b[0mself\u001b[0m\u001b[0;34m.\u001b[0m\u001b[0mworkd\u001b[0m\u001b[0;34m[\u001b[0m\u001b[0mxslice\u001b[0m\u001b[0;34m]\u001b[0m\u001b[0;34m)\u001b[0m\u001b[0;34m\u001b[0m\u001b[0;34m\u001b[0m\u001b[0m\n",
      "\u001b[0;32m~/Applications/anaconda3/lib/python3.7/site-packages/scipy/sparse/linalg/interface.py\u001b[0m in \u001b[0;36mmatvec\u001b[0;34m(self, x)\u001b[0m\n\u001b[1;32m    225\u001b[0m             \u001b[0;32mraise\u001b[0m \u001b[0mValueError\u001b[0m\u001b[0;34m(\u001b[0m\u001b[0;34m'dimension mismatch'\u001b[0m\u001b[0;34m)\u001b[0m\u001b[0;34m\u001b[0m\u001b[0;34m\u001b[0m\u001b[0m\n\u001b[1;32m    226\u001b[0m \u001b[0;34m\u001b[0m\u001b[0m\n\u001b[0;32m--> 227\u001b[0;31m         \u001b[0my\u001b[0m \u001b[0;34m=\u001b[0m \u001b[0mself\u001b[0m\u001b[0;34m.\u001b[0m\u001b[0m_matvec\u001b[0m\u001b[0;34m(\u001b[0m\u001b[0mx\u001b[0m\u001b[0;34m)\u001b[0m\u001b[0;34m\u001b[0m\u001b[0;34m\u001b[0m\u001b[0m\n\u001b[0m\u001b[1;32m    228\u001b[0m \u001b[0;34m\u001b[0m\u001b[0m\n\u001b[1;32m    229\u001b[0m         \u001b[0;32mif\u001b[0m \u001b[0misinstance\u001b[0m\u001b[0;34m(\u001b[0m\u001b[0mx\u001b[0m\u001b[0;34m,\u001b[0m \u001b[0mnp\u001b[0m\u001b[0;34m.\u001b[0m\u001b[0mmatrix\u001b[0m\u001b[0;34m)\u001b[0m\u001b[0;34m:\u001b[0m\u001b[0;34m\u001b[0m\u001b[0;34m\u001b[0m\u001b[0m\n",
      "\u001b[0;32m~/Applications/anaconda3/lib/python3.7/site-packages/scipy/sparse/linalg/interface.py\u001b[0m in \u001b[0;36m_matvec\u001b[0;34m(self, x)\u001b[0m\n\u001b[1;32m    477\u001b[0m \u001b[0;34m\u001b[0m\u001b[0m\n\u001b[1;32m    478\u001b[0m     \u001b[0;32mdef\u001b[0m \u001b[0m_matvec\u001b[0m\u001b[0;34m(\u001b[0m\u001b[0mself\u001b[0m\u001b[0;34m,\u001b[0m \u001b[0mx\u001b[0m\u001b[0;34m)\u001b[0m\u001b[0;34m:\u001b[0m\u001b[0;34m\u001b[0m\u001b[0;34m\u001b[0m\u001b[0m\n\u001b[0;32m--> 479\u001b[0;31m         \u001b[0;32mreturn\u001b[0m \u001b[0mself\u001b[0m\u001b[0;34m.\u001b[0m\u001b[0m__matvec_impl\u001b[0m\u001b[0;34m(\u001b[0m\u001b[0mx\u001b[0m\u001b[0;34m)\u001b[0m\u001b[0;34m\u001b[0m\u001b[0;34m\u001b[0m\u001b[0m\n\u001b[0m\u001b[1;32m    480\u001b[0m \u001b[0;34m\u001b[0m\u001b[0m\n\u001b[1;32m    481\u001b[0m     \u001b[0;32mdef\u001b[0m \u001b[0m_rmatvec\u001b[0m\u001b[0;34m(\u001b[0m\u001b[0mself\u001b[0m\u001b[0;34m,\u001b[0m \u001b[0mx\u001b[0m\u001b[0;34m)\u001b[0m\u001b[0;34m:\u001b[0m\u001b[0;34m\u001b[0m\u001b[0;34m\u001b[0m\u001b[0m\n",
      "\u001b[0;32m~/Applications/anaconda3/lib/python3.7/site-packages/scipy/sparse/linalg/eigen/arpack/arpack.py\u001b[0m in \u001b[0;36mmatvec_XH_X\u001b[0;34m(x)\u001b[0m\n\u001b[1;32m   1816\u001b[0m \u001b[0;34m\u001b[0m\u001b[0m\n\u001b[1;32m   1817\u001b[0m     \u001b[0;32mdef\u001b[0m \u001b[0mmatvec_XH_X\u001b[0m\u001b[0;34m(\u001b[0m\u001b[0mx\u001b[0m\u001b[0;34m)\u001b[0m\u001b[0;34m:\u001b[0m\u001b[0;34m\u001b[0m\u001b[0;34m\u001b[0m\u001b[0m\n\u001b[0;32m-> 1818\u001b[0;31m         \u001b[0;32mreturn\u001b[0m \u001b[0mXH_dot\u001b[0m\u001b[0;34m(\u001b[0m\u001b[0mX_dot\u001b[0m\u001b[0;34m(\u001b[0m\u001b[0mx\u001b[0m\u001b[0;34m)\u001b[0m\u001b[0;34m)\u001b[0m\u001b[0;34m\u001b[0m\u001b[0;34m\u001b[0m\u001b[0m\n\u001b[0m\u001b[1;32m   1819\u001b[0m \u001b[0;34m\u001b[0m\u001b[0m\n\u001b[1;32m   1820\u001b[0m     XH_X = LinearOperator(matvec=matvec_XH_X, dtype=A.dtype,\n",
      "\u001b[0;31mKeyboardInterrupt\u001b[0m: "
     ]
    }
   ],
   "source": [
    "pred_matrix = singular_value_thresholding2(train_data, param = 200, stepsize = 10)"
   ]
  },
  {
   "cell_type": "code",
   "execution_count": null,
   "metadata": {},
   "outputs": [],
   "source": []
  }
 ],
 "metadata": {
  "kernelspec": {
   "display_name": "Python 3",
   "language": "python",
   "name": "python3"
  }
 },
 "nbformat": 4,
 "nbformat_minor": 2
}
