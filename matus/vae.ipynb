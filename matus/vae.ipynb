{
 "cells": [
  {
   "cell_type": "code",
   "execution_count": 2,
   "metadata": {},
   "outputs": [],
   "source": [
    "# load src/\n",
    "import sys\n",
    "import random\n",
    "sys.path.append('../')\n",
    "import src.dataset\n",
    "\n",
    "import numpy as np\n",
    "from tqdm.auto import tqdm, trange\n",
    "\n",
    "import torch\n",
    "import torch.nn as nn\n",
    "import torch.nn.functional as F"
   ]
  },
  {
   "cell_type": "code",
   "execution_count": 3,
   "metadata": {},
   "outputs": [],
   "source": [
    "X_train, X_valid, X_test = src.dataset.load_datasets()"
   ]
  },
  {
   "cell_type": "code",
   "execution_count": 4,
   "metadata": {},
   "outputs": [],
   "source": [
    "# For final submission:\n",
    "import scipy\n",
    "X_train = X_train + X_valid\n",
    "#mean = X_train[X_train.nonzero()].mean()"
   ]
  },
  {
   "cell_type": "code",
   "execution_count": 5,
   "metadata": {},
   "outputs": [
    {
     "name": "stdout",
     "output_type": "stream",
     "text": [
      "Tue Jun 23 14:24:09 2020       \r\n",
      "+-----------------------------------------------------------------------------+\r\n",
      "| NVIDIA-SMI 410.104      Driver Version: 410.104      CUDA Version: 10.0     |\r\n",
      "|-------------------------------+----------------------+----------------------+\r\n",
      "| GPU  Name        Persistence-M| Bus-Id        Disp.A | Volatile Uncorr. ECC |\r\n",
      "| Fan  Temp  Perf  Pwr:Usage/Cap|         Memory-Usage | GPU-Util  Compute M. |\r\n",
      "|===============================+======================+======================|\r\n",
      "|   0  GeForce GTX 1080    On   | 00000000:01:00.0 Off |                  N/A |\r\n",
      "|  0%   41C    P8    16W / 230W |     42MiB /  8117MiB |      0%      Default |\r\n",
      "+-------------------------------+----------------------+----------------------+\r\n",
      "                                                                               \r\n",
      "+-----------------------------------------------------------------------------+\r\n",
      "| Processes:                                                       GPU Memory |\r\n",
      "|  GPU       PID   Type   Process name                             Usage      |\r\n",
      "|=============================================================================|\r\n",
      "|    0      1625      G   /usr/lib/xorg/Xorg                            31MiB |\r\n",
      "|    0      1818      G   /usr/bin/gnome-shell                           6MiB |\r\n",
      "|    0      2413      G   /opt/teamviewer/tv_bin/TeamViewer              2MiB |\r\n",
      "+-----------------------------------------------------------------------------+\r\n"
     ]
    }
   ],
   "source": [
    "!nvidia-smi"
   ]
  },
  {
   "cell_type": "code",
   "execution_count": 6,
   "metadata": {},
   "outputs": [],
   "source": [
    "X_train.count_nonzero(), X_valid.count_nonzero(), X_test.count_nonzero()\n",
    "valid_indices = list(set(zip(X_train.nonzero()[0], X_train.nonzero()[1])))\n",
    "# valid_per_line = [[] for _ in range(10000)]\n",
    "# for i, j in valid_indices:\n",
    "#     valid_per_line[i].append((i,j))"
   ]
  },
  {
   "cell_type": "code",
   "execution_count": 7,
   "metadata": {},
   "outputs": [],
   "source": [
    "# from collections import Counter\n",
    "# def count_vals(X, valid_indices):\n",
    "#     counts = {}\n",
    "#     for i, j in valid_indices:\n",
    "#         val = X[i, j]\n",
    "#         counts.setdefault(val, 0)\n",
    "#         counts[val] += 1\n",
    "#     return counts\n",
    "# print(count_vals(X_train, valid_indices))"
   ]
  },
  {
   "cell_type": "code",
   "execution_count": 8,
   "metadata": {},
   "outputs": [],
   "source": [
    "# import random\n",
    "# X_unbias = X_train.copy()\n",
    "# for i, j in valid_indices:\n",
    "#     val = X_train[i, j]\n",
    "#     if val >= 3 and random.random() < 0.5:\n",
    "#         X_unbias[i, j] = 0"
   ]
  },
  {
   "cell_type": "code",
   "execution_count": 9,
   "metadata": {},
   "outputs": [],
   "source": [
    "# valid_indices_unbias = list(set(zip(X_unbias.nonzero()[0], X_unbias.nonzero()[1])))\n",
    "# print(count_vals(X_unbias, valid_indices))"
   ]
  },
  {
   "cell_type": "code",
   "execution_count": 10,
   "metadata": {},
   "outputs": [],
   "source": [
    "def _add_regularization(model):\n",
    "    l2_reg = None\n",
    "    for W in model.parameters():\n",
    "        if l2_reg is None:\n",
    "            l2_reg = W.norm(2)\n",
    "        else:\n",
    "            l2_reg = l2_reg + W.norm(2)\n",
    "    return l2_reg"
   ]
  },
  {
   "cell_type": "code",
   "execution_count": 11,
   "metadata": {},
   "outputs": [],
   "source": [
    "class Autoencoder(nn.Module):\n",
    "\n",
    "    def __init__(self):\n",
    "        super().__init__()\n",
    "        self.user_dim = 10000\n",
    "        self.item_dim = 1000\n",
    "        self.embed_dim = 150\n",
    "#         self.user_embed = nn.Embedding(self.user_dim, self.embed_dim)\n",
    "#         self.item_embed = nn.Embedding(self.item_dim, self.embed_dim)\n",
    "        self.layer_1 = nn.Linear(1000, 100)\n",
    "        self.layer_1a = nn.Linear(100, 100)\n",
    "#         self.layer_2 = nn.Linear(500, 500)\n",
    "        \n",
    "        self.vae = nn.Linear(100, 100)\n",
    "        \n",
    "        self.layer_3 = nn.Linear(50, 100)\n",
    "        \n",
    "        self.cls_layer = nn.Linear(100, 1000)\n",
    "    \n",
    "    def forward(self, data):\n",
    "        net_data = data\n",
    "\n",
    "        # Feedforward layers\n",
    "        net_data = F.tanh(self.layer_1(net_data))\n",
    "        net_data = F.dropout(net_data, training=self.training)\n",
    "        \n",
    "        net_data = F.relu(self.layer_1a(net_data))\n",
    "        net_data = F.dropout(net_data, training=self.training)\n",
    "        \n",
    "#         net_data = F.tanh(self.layer_2(net_data))\n",
    "#         net_data = F.dropout(net_data)\n",
    "        \n",
    "        vae = self.vae(net_data)\n",
    "        mus_q, log_sigmas_q = torch.split(vae, 50, dim=-1)\n",
    "        stds_q = torch.exp(0.5 * log_sigmas_q)\n",
    "        \n",
    "        KL = 0.5 * (-log_sigmas_q + torch.exp(log_sigmas_q) + mus_q ** 2 - 1)\n",
    "        KL = torch.sum(KL, dim=-1)\n",
    "        KL = torch.mean(KL)\n",
    "        \n",
    "        if not self.training:\n",
    "            sampled_z = mus_q\n",
    "        else:\n",
    "            eps = torch.randn(stds_q.shape, dtype=torch.float, device=device)\n",
    "            sampled_z = mus_q + eps * stds_q\n",
    "        \n",
    "#         sampled_z = F.dropout(sampled_z, training=self.training)\n",
    "        \n",
    "        net_data = F.tanh(self.layer_3(sampled_z))\n",
    "        net_data = F.dropout(net_data, training=self.training)\n",
    "        \n",
    "        # Predict score for position A_i_j\n",
    "        y_score = self.cls_layer(net_data)\n",
    "#         y_score = (4.0 * torch.sigmoid(y_score)) + 1.0\n",
    "#         return torch.sigmoid(y_score) * 6.0\n",
    "        return y_score, KL"
   ]
  },
  {
   "cell_type": "code",
   "execution_count": 12,
   "metadata": {},
   "outputs": [],
   "source": [
    "try:\n",
    "    del model\n",
    "except:\n",
    "    pass\n",
    "model = Autoencoder().cuda()"
   ]
  },
  {
   "cell_type": "code",
   "execution_count": 13,
   "metadata": {},
   "outputs": [],
   "source": [
    "device = torch.device('cuda')\n",
    "opt = torch.optim.Adam(model.parameters(), lr=3e-4)"
   ]
  },
  {
   "cell_type": "code",
   "execution_count": 14,
   "metadata": {},
   "outputs": [
    {
     "name": "stdout",
     "output_type": "stream",
     "text": [
      "1176952 251385\n"
     ]
    },
    {
     "name": "stderr",
     "output_type": "stream",
     "text": [
      "/home/goovi/envs/env/lib/python3.6/site-packages/torch/nn/functional.py:1340: UserWarning: nn.functional.tanh is deprecated. Use torch.tanh instead.\n",
      "  warnings.warn(\"nn.functional.tanh is deprecated. Use torch.tanh instead.\")\n"
     ]
    },
    {
     "ename": "NameError",
     "evalue": "name 'USE_CLS' is not defined",
     "output_type": "error",
     "traceback": [
      "\u001b[0;31m---------------------------------------------------------------------------\u001b[0m",
      "\u001b[0;31mNameError\u001b[0m                                 Traceback (most recent call last)",
      "\u001b[0;32m<ipython-input-14-46c00e6b79b8>\u001b[0m in \u001b[0;36m<module>\u001b[0;34m\u001b[0m\n\u001b[1;32m     46\u001b[0m     \u001b[0;32mreturn\u001b[0m \u001b[0mmean_loss\u001b[0m\u001b[0;34m\u001b[0m\u001b[0;34m\u001b[0m\u001b[0m\n\u001b[1;32m     47\u001b[0m \u001b[0;34m\u001b[0m\u001b[0m\n\u001b[0;32m---> 48\u001b[0;31m \u001b[0mcompute_loss\u001b[0m\u001b[0;34m(\u001b[0m\u001b[0;34m)\u001b[0m\u001b[0;34m\u001b[0m\u001b[0;34m\u001b[0m\u001b[0m\n\u001b[0m",
      "\u001b[0;32m<ipython-input-14-46c00e6b79b8>\u001b[0m in \u001b[0;36mcompute_loss\u001b[0;34m()\u001b[0m\n\u001b[1;32m     40\u001b[0m \u001b[0;34m\u001b[0m\u001b[0m\n\u001b[1;32m     41\u001b[0m \u001b[0;32mdef\u001b[0m \u001b[0mcompute_loss\u001b[0m\u001b[0;34m(\u001b[0m\u001b[0;34m)\u001b[0m\u001b[0;34m:\u001b[0m\u001b[0;34m\u001b[0m\u001b[0;34m\u001b[0m\u001b[0m\n\u001b[0;32m---> 42\u001b[0;31m     \u001b[0mA_pred\u001b[0m\u001b[0;34m,\u001b[0m \u001b[0mvalid_indices\u001b[0m \u001b[0;34m=\u001b[0m \u001b[0mget_predictions\u001b[0m\u001b[0;34m(\u001b[0m\u001b[0mX_valid\u001b[0m\u001b[0;34m)\u001b[0m\u001b[0;34m\u001b[0m\u001b[0;34m\u001b[0m\u001b[0m\n\u001b[0m\u001b[1;32m     43\u001b[0m     \u001b[0mlosses\u001b[0m \u001b[0;34m=\u001b[0m \u001b[0mnp\u001b[0m\u001b[0;34m.\u001b[0m\u001b[0msquare\u001b[0m\u001b[0;34m(\u001b[0m\u001b[0mX_valid\u001b[0m \u001b[0;34m-\u001b[0m \u001b[0mA_pred\u001b[0m\u001b[0;34m)\u001b[0m\u001b[0;34m\u001b[0m\u001b[0;34m\u001b[0m\u001b[0m\n\u001b[1;32m     44\u001b[0m     \u001b[0mlosses\u001b[0m \u001b[0;34m=\u001b[0m \u001b[0;34m[\u001b[0m\u001b[0mlosses\u001b[0m\u001b[0;34m[\u001b[0m\u001b[0mi\u001b[0m\u001b[0;34m,\u001b[0m\u001b[0mj\u001b[0m\u001b[0;34m]\u001b[0m \u001b[0;32mfor\u001b[0m \u001b[0;34m(\u001b[0m\u001b[0mi\u001b[0m\u001b[0;34m,\u001b[0m \u001b[0mj\u001b[0m\u001b[0;34m)\u001b[0m \u001b[0;32min\u001b[0m \u001b[0mvalid_indices\u001b[0m\u001b[0;34m]\u001b[0m\u001b[0;34m\u001b[0m\u001b[0;34m\u001b[0m\u001b[0m\n",
      "\u001b[0;32m<ipython-input-14-46c00e6b79b8>\u001b[0m in \u001b[0;36mget_predictions\u001b[0;34m(A)\u001b[0m\n\u001b[1;32m     23\u001b[0m             \u001b[0mprint\u001b[0m\u001b[0;34m(\u001b[0m\u001b[0my_preds\u001b[0m\u001b[0;34m)\u001b[0m\u001b[0;34m\u001b[0m\u001b[0;34m\u001b[0m\u001b[0m\n\u001b[1;32m     24\u001b[0m \u001b[0;34m\u001b[0m\u001b[0m\n\u001b[0;32m---> 25\u001b[0;31m         \u001b[0;32mif\u001b[0m \u001b[0mUSE_CLS\u001b[0m\u001b[0;34m:\u001b[0m\u001b[0;34m\u001b[0m\u001b[0;34m\u001b[0m\u001b[0m\n\u001b[0m\u001b[1;32m     26\u001b[0m             \u001b[0my_preds\u001b[0m \u001b[0;34m=\u001b[0m \u001b[0mtorch\u001b[0m\u001b[0;34m.\u001b[0m\u001b[0margmax\u001b[0m\u001b[0;34m(\u001b[0m\u001b[0mtorch\u001b[0m\u001b[0;34m.\u001b[0m\u001b[0msoftmax\u001b[0m\u001b[0;34m(\u001b[0m\u001b[0my_preds\u001b[0m\u001b[0;34m,\u001b[0m \u001b[0mdim\u001b[0m\u001b[0;34m=\u001b[0m\u001b[0;34m-\u001b[0m\u001b[0;36m1\u001b[0m\u001b[0;34m)\u001b[0m\u001b[0;34m,\u001b[0m \u001b[0mdim\u001b[0m\u001b[0;34m=\u001b[0m\u001b[0;34m-\u001b[0m\u001b[0;36m1\u001b[0m\u001b[0;34m)\u001b[0m\u001b[0;34m\u001b[0m\u001b[0;34m\u001b[0m\u001b[0m\n\u001b[1;32m     27\u001b[0m             \u001b[0;32mif\u001b[0m \u001b[0mi\u001b[0m \u001b[0;34m==\u001b[0m \u001b[0;36m0\u001b[0m\u001b[0;34m:\u001b[0m\u001b[0;34m\u001b[0m\u001b[0;34m\u001b[0m\u001b[0m\n",
      "\u001b[0;31mNameError\u001b[0m: name 'USE_CLS' is not defined"
     ]
    }
   ],
   "source": [
    "print(X_train.count_nonzero(), X_valid.count_nonzero())\n",
    "\n",
    "def get_predictions(A):\n",
    "    model.eval()\n",
    "#     model.train()\n",
    "    A_pred = np.zeros((10000, 1000))\n",
    "    \n",
    "    valid_indices = list(set(zip(A.nonzero()[0], A.nonzero()[1])))\n",
    "    \n",
    "    for i in range(0, 10000, 64):\n",
    "        #if i % (64 * 10) == 0:\n",
    "        #    print(i)\n",
    "#        X = valid_indices[i:i+64]\n",
    "        X = X_train[i:i+64].todense()\n",
    "        #X[X == 0.] = 0.\n",
    "        X_ = torch.tensor(X, dtype=torch.float, device=device)\n",
    "        #print(X_)\n",
    "        \n",
    "        y_preds, KL = model(X_)\n",
    "        if i == 0 and False:\n",
    "            print(X)\n",
    "            print(model.training)\n",
    "            print(y_preds)\n",
    "        \n",
    "        if USE_CLS:\n",
    "            y_preds = torch.argmax(torch.softmax(y_preds, dim=-1), dim=-1)\n",
    "            if i == 0:\n",
    "                print(y_preds)\n",
    "        for i_ in range(y_preds.shape[0]):\n",
    "            x_i = y_preds[i_].detach().cpu()\n",
    "            A_pred[i+i_] = x_i\n",
    "            \n",
    "            #for j_ in range(y_preds.shape[1]):\n",
    "#                x_ij = y_preds[i_, j_]\n",
    "#                A_pred[i+i_, j_] = x_ij\n",
    "        \n",
    "    #print(A_pred[0])\n",
    "    ##print(\"Stats:\", np.mean(A_pred[A_pred.nonzero()]), np.std(A_pred.nonzero()))\n",
    "    return A_pred, valid_indices\n",
    "\n",
    "def compute_loss():\n",
    "    A_pred, valid_indices = get_predictions(X_valid)\n",
    "    losses = np.square(X_valid - A_pred)\n",
    "    losses = [losses[i,j] for (i, j) in valid_indices]\n",
    "    mean_loss = np.mean(losses)\n",
    "    return mean_loss\n",
    "\n",
    "compute_loss()"
   ]
  },
  {
   "cell_type": "code",
   "execution_count": 15,
   "metadata": {},
   "outputs": [],
   "source": [
    "train_indices_perline = [[] for i_ in range(10000)]\n",
    "for i, j in valid_indices:\n",
    "    train_indices_perline[i].append((i, j))\n",
    "\n",
    "for line in train_indices_perline:\n",
    "    assert line\n",
    "assert len(train_indices_perline) == 10000"
   ]
  },
  {
   "cell_type": "code",
   "execution_count": 16,
   "metadata": {},
   "outputs": [
    {
     "name": "stdout",
     "output_type": "stream",
     "text": [
      "0.09300000000000003\n"
     ]
    }
   ],
   "source": [
    "mean_for_line = []\n",
    "for line in X_train:\n",
    "    mean_for_line.append(line.mean())\n",
    "assert len(mean_for_line) == 10000\n",
    "print(mean_for_line[0])\n",
    "# !!!!!!!!!!!!!!!!!!!!!!!!!!!!!!!!!!!!!!!!!!!!!!!!!!"
   ]
  },
  {
   "cell_type": "code",
   "execution_count": 18,
   "metadata": {
    "scrolled": false
   },
   "outputs": [
    {
     "name": "stdout",
     "output_type": "stream",
     "text": [
      "It 0 Avg loss: 0.9394\n",
      "It 1000 Avg loss: 0.9670\n",
      "Mean loss: 0.9213\n",
      "It 2000 Avg loss: 0.9667\n",
      "Mean loss: 0.9183\n",
      "It 3000 Avg loss: 0.9665\n",
      "Mean loss: 0.9190\n",
      "It 4000 Avg loss: 0.9668\n",
      "Mean loss: 0.9191\n",
      "It 5000 Avg loss: 0.9650\n",
      "Mean loss: 0.9202\n",
      "It 6000 Avg loss: 0.9641\n",
      "Mean loss: 0.9196\n",
      "It 7000 Avg loss: 0.9634\n",
      "Mean loss: 0.9203\n",
      "It 8000 Avg loss: 0.9646\n",
      "Mean loss: 0.9190\n",
      "It 9000 Avg loss: 0.9649\n",
      "Mean loss: 0.9198\n",
      "It 10000 Avg loss: 0.9662\n",
      "Mean loss: 0.9189\n",
      "It 11000 Avg loss: 0.9662\n",
      "Mean loss: 0.9187\n",
      "It 12000 Avg loss: 0.9642\n",
      "Mean loss: 0.9192\n",
      "It 13000 Avg loss: 0.9669\n",
      "Mean loss: 0.9192\n",
      "It 14000 Avg loss: 0.9669\n",
      "Mean loss: 0.9176\n",
      "It 15000 Avg loss: 0.9635\n",
      "Mean loss: 0.9187\n",
      "It 16000 Avg loss: 0.9639\n",
      "Mean loss: 0.9185\n",
      "It 17000 Avg loss: 0.9635\n",
      "Mean loss: 0.9178\n",
      "It 18000 Avg loss: 0.9662\n",
      "Mean loss: 0.9187\n",
      "It 19000 Avg loss: 0.9658\n",
      "Mean loss: 0.9193\n",
      "It 20000 Avg loss: 0.9609\n",
      "Mean loss: 0.9199\n",
      "It 21000 Avg loss: 0.9616\n",
      "Mean loss: 0.9180\n",
      "It 22000 Avg loss: 0.9660\n",
      "Mean loss: 0.9178\n",
      "It 23000 Avg loss: 0.9643\n",
      "Mean loss: 0.9187\n",
      "It 24000 Avg loss: 0.9624\n",
      "Mean loss: 0.9173\n",
      "It 25000 Avg loss: 0.9638\n",
      "Mean loss: 0.9185\n",
      "It 26000 Avg loss: 0.9640\n",
      "Mean loss: 0.9176\n",
      "It 27000 Avg loss: 0.9656\n",
      "Mean loss: 0.9163\n",
      "It 28000 Avg loss: 0.9650\n",
      "Mean loss: 0.9184\n",
      "It 29000 Avg loss: 0.9638\n",
      "Mean loss: 0.9173\n",
      "It 30000 Avg loss: 0.9637\n",
      "Mean loss: 0.9193\n",
      "It 31000 Avg loss: 0.9649\n",
      "Mean loss: 0.9194\n",
      "It 32000 Avg loss: 0.9606\n",
      "Mean loss: 0.9177\n",
      "It 33000 Avg loss: 0.9627\n",
      "Mean loss: 0.9176\n",
      "It 34000 Avg loss: 0.9613\n",
      "Mean loss: 0.9187\n",
      "It 35000 Avg loss: 0.9631\n",
      "Mean loss: 0.9175\n",
      "It 36000 Avg loss: 0.9668\n",
      "Mean loss: 0.9168\n",
      "It 37000 Avg loss: 0.9633\n",
      "Mean loss: 0.9174\n",
      "It 38000 Avg loss: 0.9620\n",
      "Mean loss: 0.9163\n",
      "It 39000 Avg loss: 0.9621\n",
      "Mean loss: 0.9177\n",
      "It 40000 Avg loss: 0.9633\n",
      "Mean loss: 0.9177\n",
      "It 41000 Avg loss: 0.9632\n",
      "Mean loss: 0.9180\n",
      "It 42000 Avg loss: 0.9591\n",
      "Mean loss: 0.9161\n",
      "It 43000 Avg loss: 0.9633\n",
      "Mean loss: 0.9153\n",
      "It 44000 Avg loss: 0.9599\n",
      "Mean loss: 0.9163\n",
      "It 45000 Avg loss: 0.9621\n",
      "Mean loss: 0.9149\n",
      "It 46000 Avg loss: 0.9627\n",
      "Mean loss: 0.9169\n",
      "It 47000 Avg loss: 0.9620\n",
      "Mean loss: 0.9167\n",
      "It 48000 Avg loss: 0.9617\n",
      "Mean loss: 0.9155\n",
      "It 49000 Avg loss: 0.9623\n",
      "Mean loss: 0.9167\n",
      "It 50000 Avg loss: 0.9620\n",
      "Mean loss: 0.9171\n",
      "It 51000 Avg loss: 0.9572\n",
      "Mean loss: 0.9146\n",
      "It 52000 Avg loss: 0.9618\n",
      "Mean loss: 0.9166\n",
      "It 53000 Avg loss: 0.9596\n",
      "Mean loss: 0.9158\n",
      "It 54000 Avg loss: 0.9632\n",
      "Mean loss: 0.9155\n",
      "It 55000 Avg loss: 0.9621\n",
      "Mean loss: 0.9169\n",
      "It 56000 Avg loss: 0.9608\n",
      "Mean loss: 0.9171\n",
      "It 57000 Avg loss: 0.9635\n",
      "Mean loss: 0.9162\n",
      "It 58000 Avg loss: 0.9579\n",
      "Mean loss: 0.9143\n",
      "It 59000 Avg loss: 0.9615\n",
      "Mean loss: 0.9155\n",
      "It 60000 Avg loss: 0.9577\n",
      "Mean loss: 0.9159\n",
      "It 61000 Avg loss: 0.9613\n",
      "Mean loss: 0.9153\n"
     ]
    },
    {
     "ename": "KeyboardInterrupt",
     "evalue": "",
     "output_type": "error",
     "traceback": [
      "\u001b[0;31m---------------------------------------------------------------------------\u001b[0m",
      "\u001b[0;31mKeyboardInterrupt\u001b[0m                         Traceback (most recent call last)",
      "\u001b[0;32m<ipython-input-18-3ed3fcb9509c>\u001b[0m in \u001b[0;36m<module>\u001b[0;34m\u001b[0m\n\u001b[1;32m     33\u001b[0m         \u001b[0mi_real\u001b[0m \u001b[0;34m=\u001b[0m \u001b[0mrandom_lines\u001b[0m\u001b[0;34m[\u001b[0m\u001b[0mi_\u001b[0m\u001b[0;34m]\u001b[0m\u001b[0;34m\u001b[0m\u001b[0;34m\u001b[0m\u001b[0m\n\u001b[1;32m     34\u001b[0m         \u001b[0mindices\u001b[0m \u001b[0;34m=\u001b[0m \u001b[0;34m[\u001b[0m\u001b[0mj\u001b[0m \u001b[0;32mfor\u001b[0m \u001b[0m_\u001b[0m\u001b[0;34m,\u001b[0m\u001b[0mj\u001b[0m \u001b[0;32min\u001b[0m \u001b[0mtrain_indices_perline\u001b[0m\u001b[0;34m[\u001b[0m\u001b[0mi_real\u001b[0m\u001b[0;34m]\u001b[0m\u001b[0;34m]\u001b[0m\u001b[0;34m\u001b[0m\u001b[0;34m\u001b[0m\u001b[0m\n\u001b[0;32m---> 35\u001b[0;31m         \u001b[0mvalid_mask\u001b[0m\u001b[0;34m[\u001b[0m\u001b[0mi_\u001b[0m\u001b[0;34m,\u001b[0m \u001b[0mindices\u001b[0m\u001b[0;34m]\u001b[0m \u001b[0;34m=\u001b[0m \u001b[0;36m1.0\u001b[0m\u001b[0;34m\u001b[0m\u001b[0;34m\u001b[0m\u001b[0m\n\u001b[0m\u001b[1;32m     36\u001b[0m \u001b[0;31m#     y_preds *= valid_mask\u001b[0m\u001b[0;34m\u001b[0m\u001b[0;34m\u001b[0m\u001b[0;34m\u001b[0m\u001b[0m\n\u001b[1;32m     37\u001b[0m \u001b[0;34m\u001b[0m\u001b[0m\n",
      "\u001b[0;31mKeyboardInterrupt\u001b[0m: "
     ]
    }
   ],
   "source": [
    "loss_avg = []\n",
    "USE_CLS = False\n",
    "anneal_alpha = 0.5  # TODO!\n",
    "\n",
    "\n",
    "for i in range(0, 300000):\n",
    "    # randomly sample 32 points from training matrix\n",
    "    model.train()\n",
    "    #X = random.sample(valid_indices, k=32)\n",
    "    random_lines = random.sample(range(0, 10000), k=32)\n",
    "    X = X_train[random_lines].todense()\n",
    "    #X[X == 0.] = mean_for_line[0]\n",
    "    \n",
    "    \n",
    "    \n",
    "#     y_true = X\n",
    "    #y_true = [[X_train[Xi]] for Xi in X]\n",
    "    X = torch.tensor(X, dtype=torch.float, device=device)\n",
    "#     y_true = torch.tensor(y_true, dtype=torch.long if USE_CLS else torch.float, device=device)\n",
    "    # step!\n",
    "    y_true = X\n",
    "    \n",
    "    #########\n",
    "#     X = torch.tensor([[-1, -1], [0, 0], [2, 2]], dtype=torch.float)\n",
    "#     y_true = torch.tensor([[-1.], [0.], [2.]], dtype=torch.float)\n",
    "    #########\n",
    "    \n",
    "    opt.zero_grad()\n",
    "    y_preds, KL = model(X + torch.randn(X.shape, device=device) * 0.5)\n",
    "    \n",
    "    valid_mask = torch.zeros_like(y_preds, device=device)\n",
    "    for i_ in range(X.shape[0]):\n",
    "        i_real = random_lines[i_]\n",
    "        indices = [j for _,j in train_indices_perline[i_real]]\n",
    "        valid_mask[i_, indices] = 1.0\n",
    "#     y_preds *= valid_mask\n",
    "    \n",
    "    if USE_CLS:\n",
    "        loss_fn = torch.nn.CrossEntropyLoss(\n",
    "            weight=torch.tensor((0., 3., 3., 1., 1., 1.), device=device))\n",
    "#         print(y_preds.shape, y_true.shape)\n",
    "        loss = loss_fn(y_preds, y_true.reshape(-1,))\n",
    "    else:\n",
    "        loss = (y_preds - y_true) ** 2\n",
    "        loss = loss[valid_mask != 0.]\n",
    "#         print(y_true[valid_mask != 0.])\n",
    "#         print(loss)\n",
    "    \n",
    "    neg_ELBO = loss + anneal_alpha * KL# + 2 * reg_var\n",
    "    \n",
    "    # update avg loss\n",
    "    loss_avg.insert(0, loss.mean().item())\n",
    "    loss_avg = loss_avg[:1000]\n",
    "    \n",
    "    if i % 1000 == 0:\n",
    "        print(\"It %d Avg loss: %.4f\" % (i, np.mean(loss_avg)))\n",
    "    if i and i % 1000 == 0:\n",
    "        mean_loss = compute_loss()\n",
    "        print(\"Mean loss: %.4f\" % mean_loss)\n",
    "    \n",
    "#     loss += _add_regularization(model) * 0.1\n",
    "    loss.mean().backward()\n",
    "    #neg_ELBO.mean().backward()\n",
    "    torch.nn.utils.clip_grad_norm_(model.parameters(), 5.0)\n",
    "    opt.step()\n"
   ]
  },
  {
   "cell_type": "code",
   "execution_count": 19,
   "metadata": {
    "scrolled": true
   },
   "outputs": [
    {
     "name": "stdout",
     "output_type": "stream",
     "text": [
      "0.9158613476608835\n"
     ]
    }
   ],
   "source": [
    "mean_loss = compute_loss()\n",
    "print(mean_loss)\n",
    "# 1e-3 -> 1e-4 on plateau, as small as possible"
   ]
  },
  {
   "cell_type": "code",
   "execution_count": 20,
   "metadata": {},
   "outputs": [],
   "source": [
    "# 1. Don't use the classifier, it's not good\n",
    "# 2. With bs=32, clsweights 22111 adam and 100 neurons it works\n",
    "# Trained on 1e-4 to 100k, 1.035 valid. loss\n",
    "# Trained on 1e-5 to 150k, 1.025 valid. loss\n",
    "# Trained on 1e-5 to 200k, 1.025 valid. loss\n",
    "# 3. With clsweights 33111 it is the same up to 100k\n",
    "# 4. With 200 and 300 neurons (150 embedding) the same up to 100k\n",
    "# 5. With bottleneck of 50 neurons the same up to 100k\n",
    "## SCORE: 1.05, not good\n",
    "# Avg loss @100k: 0.95, @200k: 0.92\n",
    "\n",
    "# With everything, avg loss @300k: 0.87, but worse than before\n",
    "# Again just 4/5:\n",
    "# 0.98 and 1.04"
   ]
  },
  {
   "cell_type": "code",
   "execution_count": 21,
   "metadata": {},
   "outputs": [],
   "source": [
    "import pickle\n",
    "with open(\"array-for-svd.pkl\", \"wb\") as wp:\n",
    "    pickle.dump(get_predictions(X_train)[0], wp)\n"
   ]
  },
  {
   "cell_type": "code",
   "execution_count": 22,
   "metadata": {},
   "outputs": [],
   "source": [
    "# Submission"
   ]
  },
  {
   "cell_type": "code",
   "execution_count": 23,
   "metadata": {},
   "outputs": [
    {
     "name": "stdout",
     "output_type": "stream",
     "text": [
      "---Please check---\n",
      "        Id  Prediction\n",
      "0    r1_c4    3.602658\n",
      "1    r1_c8    3.342115\n",
      "2   r1_c21    3.082139\n",
      "3  r1_c102    3.803452\n",
      "4  r1_c127    3.275280\n"
     ]
    }
   ],
   "source": [
    "import pandas as pd\n",
    "\n",
    "def export_and_save(target, preds):\n",
    "    target_rows, target_cols = target.nonzero()\n",
    "    ids = [f\"r{row+1}_c{col+1}\" for row, col in zip(target_rows, target_cols)]\n",
    "    scores = [preds[row, col] for row, col in zip(target_rows, target_cols)]\n",
    "    scores = [score if score <= 5.0 else 5.0 for score in scores]\n",
    "    scores = [score if score >= 1.0 else 1.0 for score in scores]\n",
    "    df = pd.DataFrame({\"Id\": ids, \"Prediction\": scores})\n",
    "    print(\"---Please check---\")\n",
    "    print(df.head())\n",
    "    df.to_csv(\"preds.csv\", index=False)\n",
    "\n",
    "export_and_save(X_test, get_predictions(X_test)[0])"
   ]
  },
  {
   "cell_type": "code",
   "execution_count": 24,
   "metadata": {},
   "outputs": [],
   "source": [
    "# 3.45\n",
    "# 3.32\n",
    "# 2.98\n",
    "# 3.75\n",
    "# 3.25\n",
    "# -> with 1.008 valid. score"
   ]
  },
  {
   "cell_type": "code",
   "execution_count": 25,
   "metadata": {},
   "outputs": [],
   "source": [
    "# 3.50\n",
    "# 3.12\n",
    "# 2.98\n",
    "# 3.88\n",
    "# 3.27\n",
    "# -> with 1.007 valid. score (RMSE 1.00359)\n",
    "# --> SUBMISSION VAE #2 (RMSE 1.0422) "
   ]
  },
  {
   "cell_type": "code",
   "execution_count": 26,
   "metadata": {},
   "outputs": [
    {
     "name": "stdout",
     "output_type": "stream",
     "text": [
      "(10000, 1000) 3.3421154022216797\n"
     ]
    }
   ],
   "source": [
    "import pickle\n",
    "with open(\"array-for-svd.pkl\", \"rb\") as fp:\n",
    "    arr = pickle.load(fp)\n",
    "    print(arr.shape, arr[0,7])\n",
    "    del arr"
   ]
  },
  {
   "cell_type": "code",
   "execution_count": null,
   "metadata": {},
   "outputs": [],
   "source": [
    "#---VAE #3---\n",
    "#        Id  Prediction\n",
    "#0    r1_c4    3.786128\n",
    "#1    r1_c8    2.818319\n",
    "#2   r1_c21    3.745162\n",
    "#3  r1_c102    4.174467\n",
    "#4  r1_c127    4.057493\n",
    "# -> 1.003 valid. score (RMSE 1.0015)\n",
    "# --> SUBMISSION VAE #3 (1.00239)"
   ]
  }
 ],
 "metadata": {
  "kernelspec": {
   "display_name": "Python 3",
   "language": "python",
   "name": "python3"
  },
  "language_info": {
   "codemirror_mode": {
    "name": "ipython",
    "version": 3
   },
   "file_extension": ".py",
   "mimetype": "text/x-python",
   "name": "python",
   "nbconvert_exporter": "python",
   "pygments_lexer": "ipython3",
   "version": "3.6.6"
  }
 },
 "nbformat": 4,
 "nbformat_minor": 2
}
