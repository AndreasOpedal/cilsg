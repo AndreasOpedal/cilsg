{
 "cells": [
  {
   "cell_type": "code",
   "execution_count": 4,
   "metadata": {},
   "outputs": [],
   "source": [
    "# load src/\n",
    "import sys\n",
    "import random\n",
    "sys.path.append('../')\n",
    "import src.dataset\n",
    "\n",
    "import numpy as np\n",
    "from tqdm.auto import tqdm, trange\n",
    "\n",
    "import torch\n",
    "import torch.nn as nn\n",
    "import torch.nn.functional as F"
   ]
  },
  {
   "cell_type": "code",
   "execution_count": 7,
   "metadata": {},
   "outputs": [
    {
     "data": {
      "application/vnd.jupyter.widget-view+json": {
       "model_id": "a0e98fa2808d434e9836785aa63e23e8",
       "version_major": 2,
       "version_minor": 0
      },
      "text/plain": [
       "HBox(children=(FloatProgress(value=0.0, max=1176952.0), HTML(value='')))"
      ]
     },
     "metadata": {},
     "output_type": "display_data"
    },
    {
     "name": "stdout",
     "output_type": "stream",
     "text": [
      "\n"
     ]
    }
   ],
   "source": [
    "# src.dataset.create_n_splits(\"../data/data_train.csv\")"
   ]
  },
  {
   "cell_type": "code",
   "execution_count": 8,
   "metadata": {},
   "outputs": [
    {
     "name": "stdout",
     "output_type": "stream",
     "text": [
      "Caching dataset ../data/data_train.csv.0 ...\n"
     ]
    },
    {
     "data": {
      "application/vnd.jupyter.widget-view+json": {
       "model_id": "f1a80abe47f84b75bd628167be4b4c01",
       "version_major": 2,
       "version_minor": 0
      },
      "text/plain": [
       "HBox(children=(FloatProgress(value=0.0, max=231392.0), HTML(value='')))"
      ]
     },
     "metadata": {},
     "output_type": "display_data"
    },
    {
     "name": "stdout",
     "output_type": "stream",
     "text": [
      "\n",
      "Caching dataset ../data/data_train.csv.1 ...\n"
     ]
    },
    {
     "data": {
      "application/vnd.jupyter.widget-view+json": {
       "model_id": "dacc46b01aba420aa85004c1aa89ea82",
       "version_major": 2,
       "version_minor": 0
      },
      "text/plain": [
       "HBox(children=(FloatProgress(value=0.0, max=231392.0), HTML(value='')))"
      ]
     },
     "metadata": {},
     "output_type": "display_data"
    },
    {
     "name": "stdout",
     "output_type": "stream",
     "text": [
      "\n",
      "Caching dataset ../data/data_train.csv.2 ...\n"
     ]
    },
    {
     "data": {
      "application/vnd.jupyter.widget-view+json": {
       "model_id": "414c5f3d6f1045d2942114f569883b37",
       "version_major": 2,
       "version_minor": 0
      },
      "text/plain": [
       "HBox(children=(FloatProgress(value=0.0, max=231392.0), HTML(value='')))"
      ]
     },
     "metadata": {},
     "output_type": "display_data"
    },
    {
     "name": "stdout",
     "output_type": "stream",
     "text": [
      "\n",
      "Caching dataset ../data/data_train.csv.3 ...\n"
     ]
    },
    {
     "data": {
      "application/vnd.jupyter.widget-view+json": {
       "model_id": "1421f1aaf8a7431d83fbaa9345a088cd",
       "version_major": 2,
       "version_minor": 0
      },
      "text/plain": [
       "HBox(children=(FloatProgress(value=0.0, max=231391.0), HTML(value='')))"
      ]
     },
     "metadata": {},
     "output_type": "display_data"
    },
    {
     "name": "stdout",
     "output_type": "stream",
     "text": [
      "\n",
      "Caching dataset ../data/sampleSubmission.csv ...\n"
     ]
    },
    {
     "data": {
      "application/vnd.jupyter.widget-view+json": {
       "model_id": "e1afc4d4370e4ebca3aa8966eca241c4",
       "version_major": 2,
       "version_minor": 0
      },
      "text/plain": [
       "HBox(children=(FloatProgress(value=0.0, max=1176952.0), HTML(value='')))"
      ]
     },
     "metadata": {},
     "output_type": "display_data"
    },
    {
     "name": "stdout",
     "output_type": "stream",
     "text": [
      "\n",
      "Caching dataset ../data/data_train.csv.4 ...\n"
     ]
    },
    {
     "data": {
      "application/vnd.jupyter.widget-view+json": {
       "model_id": "1fee75f01bec4c3ab458ecfc14529805",
       "version_major": 2,
       "version_minor": 0
      },
      "text/plain": [
       "HBox(children=(FloatProgress(value=0.0, max=251385.0), HTML(value='')))"
      ]
     },
     "metadata": {},
     "output_type": "display_data"
    },
    {
     "name": "stdout",
     "output_type": "stream",
     "text": [
      "\n"
     ]
    }
   ],
   "source": [
    "X_train, X_valid, X_test = src.dataset.load_datasets()"
   ]
  },
  {
   "cell_type": "code",
   "execution_count": 3,
   "metadata": {},
   "outputs": [],
   "source": [
    "# For final submission:\n",
    "#import scipy\n",
    "#X_train = X_train + X_valid\n",
    "#mean = X_train[X_train.nonzero()].mean()"
   ]
  },
  {
   "cell_type": "code",
   "execution_count": 4,
   "metadata": {},
   "outputs": [
    {
     "name": "stdout",
     "output_type": "stream",
     "text": [
      "Wed Jun 17 11:47:32 2020       \r\n",
      "+-----------------------------------------------------------------------------+\r\n",
      "| NVIDIA-SMI 410.104      Driver Version: 410.104      CUDA Version: 10.0     |\r\n",
      "|-------------------------------+----------------------+----------------------+\r\n",
      "| GPU  Name        Persistence-M| Bus-Id        Disp.A | Volatile Uncorr. ECC |\r\n",
      "| Fan  Temp  Perf  Pwr:Usage/Cap|         Memory-Usage | GPU-Util  Compute M. |\r\n",
      "|===============================+======================+======================|\r\n",
      "|   0  GeForce GTX 1080    On   | 00000000:01:00.0 Off |                  N/A |\r\n",
      "|  0%   36C    P8    16W / 230W |     42MiB /  8117MiB |      0%      Default |\r\n",
      "+-------------------------------+----------------------+----------------------+\r\n",
      "                                                                               \r\n",
      "+-----------------------------------------------------------------------------+\r\n",
      "| Processes:                                                       GPU Memory |\r\n",
      "|  GPU       PID   Type   Process name                             Usage      |\r\n",
      "|=============================================================================|\r\n",
      "|    0      1625      G   /usr/lib/xorg/Xorg                            31MiB |\r\n",
      "|    0      1818      G   /usr/bin/gnome-shell                           6MiB |\r\n",
      "|    0      2413      G   /opt/teamviewer/tv_bin/TeamViewer              2MiB |\r\n",
      "+-----------------------------------------------------------------------------+\r\n"
     ]
    }
   ],
   "source": [
    "!nvidia-smi"
   ]
  },
  {
   "cell_type": "code",
   "execution_count": 9,
   "metadata": {},
   "outputs": [],
   "source": [
    "X_train.count_nonzero(), X_valid.count_nonzero(), X_test.count_nonzero()\n",
    "valid_indices = list(set(zip(X_train.nonzero()[0], X_train.nonzero()[1])))\n",
    "# valid_per_line = [[] for _ in range(10000)]\n",
    "# for i, j in valid_indices:\n",
    "#     valid_per_line[i].append((i,j))"
   ]
  },
  {
   "cell_type": "code",
   "execution_count": 10,
   "metadata": {},
   "outputs": [],
   "source": [
    "# from collections import Counter\n",
    "# def count_vals(X, valid_indices):\n",
    "#     counts = {}\n",
    "#     for i, j in valid_indices:\n",
    "#         val = X[i, j]\n",
    "#         counts.setdefault(val, 0)\n",
    "#         counts[val] += 1\n",
    "#     return counts\n",
    "# print(count_vals(X_train, valid_indices))"
   ]
  },
  {
   "cell_type": "code",
   "execution_count": 11,
   "metadata": {},
   "outputs": [],
   "source": [
    "# import random\n",
    "# X_unbias = X_train.copy()\n",
    "# for i, j in valid_indices:\n",
    "#     val = X_train[i, j]\n",
    "#     if val >= 3 and random.random() < 0.5:\n",
    "#         X_unbias[i, j] = 0"
   ]
  },
  {
   "cell_type": "code",
   "execution_count": 12,
   "metadata": {},
   "outputs": [],
   "source": [
    "# valid_indices_unbias = list(set(zip(X_unbias.nonzero()[0], X_unbias.nonzero()[1])))\n",
    "# print(count_vals(X_unbias, valid_indices))"
   ]
  },
  {
   "cell_type": "code",
   "execution_count": 33,
   "metadata": {},
   "outputs": [],
   "source": [
    "def _add_regularization(model):\n",
    "    l2_reg = None\n",
    "    for W in model.parameters():\n",
    "        if l2_reg is None:\n",
    "            l2_reg = W.norm(2)\n",
    "        else:\n",
    "            l2_reg = l2_reg + W.norm(2)\n",
    "    return l2_reg"
   ]
  },
  {
   "cell_type": "code",
   "execution_count": 34,
   "metadata": {},
   "outputs": [],
   "source": [
    "class Autoencoder(nn.Module):\n",
    "\n",
    "    def __init__(self):\n",
    "        super().__init__()\n",
    "        self.user_dim = 10000\n",
    "        self.item_dim = 1000\n",
    "        self.embed_dim = 200\n",
    "#         self.user_embed = nn.Embedding(self.user_dim, self.embed_dim)\n",
    "#         self.item_embed = nn.Embedding(self.item_dim, self.embed_dim)\n",
    "        self.layer_1 = nn.Linear(1000, 600)\n",
    "#         self.layer_1a = nn.Linear(300, 300)\n",
    "        #self.layer_2 = nn.Linear(300, 100)\n",
    "        \n",
    "        self.vae = nn.Linear(600, 100)\n",
    "        \n",
    "        self.layer_3 = nn.Linear(50, 600)\n",
    "        \n",
    "        self.cls_layer = nn.Linear(600, 1000)\n",
    "    \n",
    "    def forward(self, data):\n",
    "#         user_idx, item_idx = torch.split(data, 1, dim=1)\n",
    "#         print(\"user\",user_idx)\n",
    "#         print(\"item\",item_idx)\n",
    "#         user_idx = torch.squeeze(user_idx, dim=-1)\n",
    "#         item_idx = torch.squeeze(item_idx, dim=-1)\n",
    "\n",
    "#         user_embedding = self.user_embed(user_idx)\n",
    "#         item_embedding = self.item_embed(item_idx)\n",
    "#         assert user_embedding.shape[-1] == item_embedding.shape[-1] == self.embed_dim\n",
    "\n",
    "        # Input is concatenation\n",
    "#         net_data = torch.cat([user_embedding, item_embedding], dim=-1)\n",
    "        net_data = data\n",
    "\n",
    "        # Feedforward layers\n",
    "        #net_data = F.relu(self.layer_1(net_data))\n",
    "        #net_data = F.dropout(net_data)\n",
    "        \n",
    "        net_data = F.tanh(self.layer_1(net_data))\n",
    "        net_data = F.dropout(net_data)\n",
    "#         net_data = F.relu(self.layer_1a(net_data))\n",
    "#         net_data = F.dropout(net_data)\n",
    "        \n",
    "        #net_data = F.relu(self.layer_2(net_data))\n",
    "        #net_data = F.dropout(net_data)\n",
    "        \n",
    "        vae = self.vae(net_data)\n",
    "        mus_q, log_sigmas_q = torch.split(vae, 100, dim=-1)\n",
    "        stds_q = torch.exp(0.5 * log_sigmas_q)\n",
    "        \n",
    "        KL = 0.5 * (-log_sigmas_q + torch.exp(log_sigmas_q) + mus_q ** 2 - 1)\n",
    "        KL = torch.sum(KL, dim=-1)\n",
    "        KL = torch.mean(KL)\n",
    "        \n",
    "        if not self.training:\n",
    "            sampled_z = mus_q\n",
    "        else:\n",
    "            eps = torch.randn(stds_q.shape, dtype=torch.float, device=device)\n",
    "            sampled_z = mus_q + eps * stds_q\n",
    "        \n",
    "        #net_data = F.relu(self.layer_3(net_data))\n",
    "        #net_data = F.dropout(net_data)\n",
    "        \n",
    "        #net_data = F.relu(self.layer_3(sampled_z))\n",
    "        #net_data = F.dropout(net_data)\n",
    "        \n",
    "        net_data = F.tanh(self.layer_3(sampled_z))\n",
    "        net_data = F.dropout(net_data)\n",
    "        \n",
    "        # Predict score for position A_i_j # Andreas: Wouldn't this be for all items A_i for user i?\n",
    "        y_score = self.cls_layer(net_data)\n",
    "#         y_score = (4.0 * torch.sigmoid(y_score)) + 1.0\n",
    "#         return torch.sigmoid(y_score) * 6.0\n",
    "        return y_score, KL"
   ]
  },
  {
   "cell_type": "code",
   "execution_count": 35,
   "metadata": {},
   "outputs": [],
   "source": [
    "try:\n",
    "    del model\n",
    "except:\n",
    "    pass\n",
    "model = Autoencoder().cuda()\n",
    "# model = Autoencoder()"
   ]
  },
  {
   "cell_type": "code",
   "execution_count": 36,
   "metadata": {},
   "outputs": [],
   "source": [
    "device = torch.device('cuda')\n",
    "# device = torch.device('cpu')\n",
    "opt = torch.optim.Adam(model.parameters(), lr=1e-3)"
   ]
  },
  {
   "cell_type": "code",
   "execution_count": 37,
   "metadata": {},
   "outputs": [
    {
     "name": "stdout",
     "output_type": "stream",
     "text": [
      "925567 251385\n"
     ]
    }
   ],
   "source": [
    "print(X_train.count_nonzero(), X_valid.count_nonzero())\n",
    "\n",
    "def get_predictions(A):\n",
    "    model.eval()\n",
    "#     model.train()\n",
    "    A_pred = np.zeros((10000, 1000))\n",
    "    \n",
    "    valid_indices = list(set(zip(A.nonzero()[0], A.nonzero()[1])))\n",
    "    \n",
    "    for i in range(0, 10000, 64):\n",
    "        if i % (64 * 10) == 0:\n",
    "            print(i)\n",
    "#        X = valid_indices[i:i+64]\n",
    "        X = X_train[i:i+64]\n",
    "        X_ = torch.tensor(X.todense(), dtype=torch.float, device=device)\n",
    "        y_preds, KL = model(X_)\n",
    "        if USE_CLS:\n",
    "            y_preds = torch.argmax(torch.softmax(y_preds, dim=-1), dim=-1)\n",
    "            if i == 0:\n",
    "                print(y_preds)\n",
    "        for i_ in range(y_preds.shape[0]):\n",
    "            for j_ in range(y_preds.shape[1]):\n",
    "#                 if (i+i_,j) in valid_indices:\n",
    "                #print(x_ij)\n",
    "                x_ij = y_preds[i_, j_]\n",
    "                #print((i+i_), j_)\n",
    "                A_pred[i+i_, j_] = x_ij\n",
    "        \n",
    "    #print(A_pred[0])\n",
    "    print(\"Stats:\", np.mean(A_pred[A_pred.nonzero()]), np.std(A_pred.nonzero()))\n",
    "    return A_pred, valid_indices\n",
    "\n",
    "def compute_loss():\n",
    "    A_pred, valid_indices = get_predictions(X_valid)\n",
    "    losses = np.square(X_valid - A_pred)\n",
    "    losses = [losses[i,j] for (i, j) in valid_indices]\n",
    "    mean_loss = np.mean(losses)\n",
    "    return mean_loss\n",
    "\n",
    "#compute_loss()"
   ]
  },
  {
   "cell_type": "code",
   "execution_count": 38,
   "metadata": {},
   "outputs": [],
   "source": [
    "train_indices_perline = [[] for i_ in range(10000)]\n",
    "for i, j in valid_indices:\n",
    "    train_indices_perline[i].append((i, j))\n",
    "\n",
    "for line in train_indices_perline:\n",
    "    assert line\n",
    "assert len(train_indices_perline) == 10000"
   ]
  },
  {
   "cell_type": "code",
   "execution_count": 42,
   "metadata": {},
   "outputs": [
    {
     "name": "stdout",
     "output_type": "stream",
     "text": [
      "It 0 Avg loss: 1.2206   alpha is:  0\n",
      "It 1000 Avg loss: 1.2499   alpha is:  0.00333\n"
     ]
    },
    {
     "ename": "KeyboardInterrupt",
     "evalue": "",
     "output_type": "error",
     "traceback": [
      "\u001b[0;31m---------------------------------------------------------------------------\u001b[0m",
      "\u001b[0;31mKeyboardInterrupt\u001b[0m                         Traceback (most recent call last)",
      "\u001b[0;32m<ipython-input-42-a3ac909ad0f5>\u001b[0m in \u001b[0;36m<module>\u001b[0;34m\u001b[0m\n\u001b[1;32m     32\u001b[0m         \u001b[0mi_real\u001b[0m \u001b[0;34m=\u001b[0m \u001b[0mrandom_lines\u001b[0m\u001b[0;34m[\u001b[0m\u001b[0mi_\u001b[0m\u001b[0;34m]\u001b[0m\u001b[0;34m\u001b[0m\u001b[0;34m\u001b[0m\u001b[0m\n\u001b[1;32m     33\u001b[0m         \u001b[0mindices\u001b[0m \u001b[0;34m=\u001b[0m \u001b[0;34m[\u001b[0m\u001b[0mj\u001b[0m \u001b[0;32mfor\u001b[0m \u001b[0m_\u001b[0m\u001b[0;34m,\u001b[0m\u001b[0mj\u001b[0m \u001b[0;32min\u001b[0m \u001b[0mtrain_indices_perline\u001b[0m\u001b[0;34m[\u001b[0m\u001b[0mi_real\u001b[0m\u001b[0;34m]\u001b[0m\u001b[0;34m]\u001b[0m\u001b[0;34m\u001b[0m\u001b[0;34m\u001b[0m\u001b[0m\n\u001b[0;32m---> 34\u001b[0;31m         \u001b[0mvalid_mask\u001b[0m\u001b[0;34m[\u001b[0m\u001b[0mi_\u001b[0m\u001b[0;34m,\u001b[0m \u001b[0mindices\u001b[0m\u001b[0;34m]\u001b[0m \u001b[0;34m=\u001b[0m \u001b[0;36m1.0\u001b[0m\u001b[0;34m\u001b[0m\u001b[0;34m\u001b[0m\u001b[0m\n\u001b[0m\u001b[1;32m     35\u001b[0m \u001b[0;31m#     y_preds *= valid_mask\u001b[0m\u001b[0;34m\u001b[0m\u001b[0;34m\u001b[0m\u001b[0;34m\u001b[0m\u001b[0m\n\u001b[1;32m     36\u001b[0m \u001b[0;34m\u001b[0m\u001b[0m\n",
      "\u001b[0;31mKeyboardInterrupt\u001b[0m: "
     ]
    }
   ],
   "source": [
    "loss_avg = []\n",
    "USE_CLS = False\n",
    "anneal_alpha = 1 # Start with 1, then select anneal_alpha for which performance decreases and run again\n",
    "alpha = 0\n",
    "iters = 300000\n",
    "\n",
    "\n",
    "for i in range(0, iters):\n",
    "    # randomly sample 32 points from training matrix\n",
    "    model.train()\n",
    "    #X = random.sample(valid_indices, k=32)\n",
    "    random_lines = random.sample(range(0, 10000), k=16)\n",
    "    X = X_train[random_lines].todense()\n",
    "    \n",
    "#     y_true = X\n",
    "    #y_true = [[X_train[Xi]] for Xi in X]\n",
    "    X = torch.tensor(X, dtype=torch.float, device=device)\n",
    "#     y_true = torch.tensor(y_true, dtype=torch.long if USE_CLS else torch.float, device=device)\n",
    "    # step!\n",
    "    y_true = X\n",
    "    \n",
    "    #########\n",
    "#     X = torch.tensor([[-1, -1], [0, 0], [2, 2]], dtype=torch.float)\n",
    "#     y_true = torch.tensor([[-1.], [0.], [2.]], dtype=torch.float)\n",
    "    #########\n",
    "    \n",
    "    opt.zero_grad()\n",
    "    y_preds, KL = model(X)\n",
    "    \n",
    "    valid_mask = torch.zeros_like(y_preds, device=device)\n",
    "    for i_ in range(X.shape[0]):\n",
    "        i_real = random_lines[i_]\n",
    "        indices = [j for _,j in train_indices_perline[i_real]]\n",
    "        valid_mask[i_, indices] = 1.0\n",
    "#     y_preds *= valid_mask\n",
    "    \n",
    "    if USE_CLS:\n",
    "        loss_fn = torch.nn.CrossEntropyLoss(\n",
    "            weight=torch.tensor((0., 3., 3., 1., 1., 1.), device=device))\n",
    "#         print(y_preds.shape, y_true.shape)\n",
    "        loss = loss_fn(y_preds, y_true.reshape(-1,))\n",
    "    else:\n",
    "        loss = (y_preds - y_true) ** 2\n",
    "        loss = loss[valid_mask != 0.]\n",
    "#         print(y_true[valid_mask != 0.])\n",
    "#         print(loss)\n",
    "    \n",
    "    neg_ELBO = loss + alpha * KL# + 2 * reg_var\n",
    "    \n",
    "    # update avg loss\n",
    "    loss_avg.insert(0, loss.mean().item())\n",
    "    loss_avg = loss_avg[:500]\n",
    "    \n",
    "    if i % 1000 == 0:\n",
    "        print(\"It %d Avg loss: %.4f\" % (i, np.mean(loss_avg)), \"  alpha is: \", alpha)\n",
    "    if i and i % 50000 == 0:\n",
    "        mean_loss = compute_loss()\n",
    "        print(\"Mean loss: %.4f\" % mean_loss, \"  alpha is: \", alpha)\n",
    "    \n",
    "#     loss += _add_regularization(model) * 0.1\n",
    "    #loss.mean().backward()\n",
    "    neg_ELBO.mean().backward()\n",
    "    opt.step()\n",
    "    \n",
    "    # update alpha\n",
    "    alpha = (i/iters)*anneal_alpha\n"
   ]
  },
  {
   "cell_type": "code",
   "execution_count": null,
   "metadata": {},
   "outputs": [],
   "source": [
    "# 1. Don't use the classifier, it's not good\n",
    "# 2. With bs=32, clsweights 22111 adam and 100 neurons it works\n",
    "# Trained on 1e-4 to 100k, 1.035 valid. loss\n",
    "# Trained on 1e-5 to 150k, 1.025 valid. loss\n",
    "# Trained on 1e-5 to 200k, 1.025 valid. loss\n",
    "# 3. With clsweights 33111 it is the same up to 100k\n",
    "# 4. With 200 and 300 neurons (150 embedding) the same up to 100k\n",
    "# 5. With bottleneck of 50 neurons the same up to 100k\n",
    "## SCORE: 1.05, not good\n",
    "# Avg loss @100k: 0.95, @200k: 0.92\n",
    "\n",
    "# With everything, avg loss @300k: 0.87, but worse than before\n",
    "# Again just 4/5:\n",
    "# 0.98 and 1.04"
   ]
  },
  {
   "cell_type": "code",
   "execution_count": null,
   "metadata": {},
   "outputs": [],
   "source": []
  },
  {
   "cell_type": "code",
   "execution_count": 21,
   "metadata": {
    "scrolled": true
   },
   "outputs": [
    {
     "name": "stdout",
     "output_type": "stream",
     "text": [
      "0\n",
      "640\n",
      "1280\n",
      "1920\n",
      "2560\n",
      "3200\n",
      "3840\n",
      "4480\n",
      "5120\n",
      "5760\n",
      "6400\n",
      "7040\n",
      "7680\n",
      "8320\n",
      "8960\n",
      "9600\n",
      "Stats: 3.5463887094020845 3037.7691958903\n",
      "16.06283715060512\n"
     ]
    }
   ],
   "source": [
    "mean_loss = compute_loss()\n",
    "print(mean_loss)"
   ]
  },
  {
   "cell_type": "code",
   "execution_count": null,
   "metadata": {},
   "outputs": [],
   "source": [
    "# Submission"
   ]
  },
  {
   "cell_type": "code",
   "execution_count": null,
   "metadata": {},
   "outputs": [],
   "source": [
    "import pandas as pd\n",
    "\n",
    "def export_and_save(target, preds):\n",
    "    target_rows, target_cols = target.nonzero()\n",
    "    ids = [f\"r{row+1}_c{col+1}\" for row, col in zip(target_rows, target_cols)]\n",
    "    scores = [np.round(preds[row, col]) for row, col in zip(target_rows, target_cols)]\n",
    "    df = pd.DataFrame({\"Id\": ids, \"Prediction\": scores})\n",
    "    df.to_csv(\"preds.csv\", index=False, float_format='%.4f')\n",
    "\n",
    "export_and_save(X_test, get_predictions(X_test)[0])"
   ]
  },
  {
   "cell_type": "code",
   "execution_count": null,
   "metadata": {},
   "outputs": [],
   "source": []
  }
 ],
 "metadata": {
  "kernelspec": {
   "display_name": "Python 3",
   "language": "python",
   "name": "python3"
  },
  "language_info": {
   "codemirror_mode": {
    "name": "ipython",
    "version": 3
   },
   "file_extension": ".py",
   "mimetype": "text/x-python",
   "name": "python",
   "nbconvert_exporter": "python",
   "pygments_lexer": "ipython3",
   "version": "3.7.6"
  }
 },
 "nbformat": 4,
 "nbformat_minor": 2
}
