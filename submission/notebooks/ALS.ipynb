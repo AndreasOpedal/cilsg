{
 "cells": [
  {
   "cell_type": "code",
   "execution_count": 1,
   "metadata": {
    "tags": []
   },
   "outputs": [],
   "source": [
    "import numpy as np\n",
    "import pandas as pd\n",
    "#!pip install --user scikit-surprise\n",
    "from surprise import AlgoBase, PredictionImpossible, Reader, Dataset, accuracy\n",
    "from surprise.model_selection import train_test_split, cross_validate, GridSearchCV\n",
    "import time"
   ]
  },
  {
   "cell_type": "code",
   "execution_count": 2,
   "metadata": {},
   "outputs": [],
   "source": [
    "# Define some helper functions\n",
    "\n",
    "def clean_df(df):\n",
    "    '''\n",
    "    Cleans initial representation to separate rows (users) and columns (movies) into columns with integer values\n",
    "    '''\n",
    "    row_str = df[\"Id\"].apply(lambda x: x.split(\"_\")[0])\n",
    "    row_id = row_str.apply(lambda x: int(x.split(\"r\")[1]) - 1)\n",
    "    col_str = df[\"Id\"].apply(lambda x: x.split(\"_\")[1])\n",
    "    col_id = col_str.apply(lambda x: int(x.split(\"c\")[1]) - 1)\n",
    "    \n",
    "    data_df = pd.DataFrame(data = {'row': row_id, 'col': col_id, 'Prediction': df.loc[:,'Prediction']})\n",
    "    \n",
    "    return data_df\n",
    "\n",
    "\n",
    "def read_submission_indexes(file_path):\n",
    "    '''\n",
    "    Reads the indexes for which to make the predictions.\n",
    "\n",
    "    Parameters:\n",
    "    file_path (string): the file path to read\n",
    "\n",
    "    Returns:\n",
    "    indexes (list): a list where each element is a tuple of the form (row, column)\n",
    "    '''\n",
    "\n",
    "    data_train_raw = pd.read_csv(file_path).values\n",
    "\n",
    "    tuples = []\n",
    "\n",
    "    for i in range(data_train_raw.shape[0]):\n",
    "        indices, value = data_train_raw[i,0], int(data_train_raw[i,1])\n",
    "        indices = indices.split('_')\n",
    "        row, column = int(indices[0][1:])-1, int(indices[1][1:])-1 # indexing in the data starts from 1\n",
    "        tuples.append((row, column))\n",
    "\n",
    "    return tuples\n",
    "\n",
    "def write_predictions_to_csv(predictions, file_path):\n",
    "    '''\n",
    "    Writes on a csv file the predictions. The format of the prediction file is the following (second row is example):\n",
    "\n",
    "    Id, Prediction\n",
    "    r1_c1, 1\n",
    "\n",
    "    Parameters:\n",
    "    predictions (surprise.prediction_algorithms.predictions.Prediction): the object holding the predictions\n",
    "    file_path (string): the path to the prediction file\n",
    "    '''\n",
    "\n",
    "    # Define header\n",
    "    header = []\n",
    "    header.append('Id')\n",
    "    header.append('Prediction')\n",
    "\n",
    "    # Write file\n",
    "    with open(file_path, 'w') as csvfile:\n",
    "        writer = csv.writer(csvfile)\n",
    "        writer = csv.DictWriter(csvfile, fieldnames=header)\n",
    "        writer.writeheader()\n",
    "        for row, col, pred in predictions:\n",
    "            # Row of the csv file\n",
    "            file_row = {}\n",
    "            # Build file row\n",
    "            file_row['Id'] = 'r'+ str(row+1) + '_c' + str(col+1)\n",
    "            file_row['Prediction'] = pred\n",
    "            # Write file row\n",
    "            writer.writerow(file_row)"
   ]
  },
  {
   "cell_type": "markdown",
   "metadata": {},
   "source": [
    "## Prepare Input"
   ]
  },
  {
   "cell_type": "code",
   "execution_count": 3,
   "metadata": {},
   "outputs": [],
   "source": [
    "# read data\n",
    "data_train_raw = pd.read_csv('../data/data-train.csv')\n",
    "# train dataset as data frame\n",
    "data_train_df = clean_df(data_train_raw)"
   ]
  },
  {
   "cell_type": "code",
   "execution_count": 4,
   "metadata": {},
   "outputs": [],
   "source": [
    "# set up surprise dataset\n",
    "reader = Reader()\n",
    "dataset = Dataset.load_from_df(data_train_df[['row', 'col', 'Prediction']], reader)\n",
    "\n",
    "# now set up training and test set, with a test split of 25%\n",
    "trainset, testset = train_test_split(dataset, test_size=0.25)"
   ]
  },
  {
   "cell_type": "code",
   "execution_count": 11,
   "metadata": {},
   "outputs": [],
   "source": [
    "def sum_column_norm_square(M):\n",
    "    \"\"\"\n",
    "    Calculate the sum of the squares of column vector norms\n",
    "\n",
    "    Param:\n",
    "    ========\n",
    "    M: np.array, input matrix\n",
    "    \"\"\"\n",
    "    return np.sum(np.square(np.linalg.norm(M, axis = 0)))\n",
    "\n",
    "def als_objective(A, P, Q, lamb):\n",
    "    \"\"\"\n",
    "    Least squares with regularization\n",
    "    \n",
    "    Param:\n",
    "    ========\n",
    "    A: np.array, target matrix\n",
    "\n",
    "    \"\"\"\n",
    "    observed_id = np.nonzero(A)\n",
    "    least_squares = np.sum(np.square(A - P.T@Q)[observed_id]) #extract observed values\n",
    "    regularization = lamb*(sum_column_norm_square(P)+ sum_column_norm_square(Q))\n",
    "    error = (least_squares + regularization)/observed_id[0].shape[0]\n",
    "    return error \n",
    "\n",
    "def als(trainset, k, lamb, tol, max_iter):\n",
    "    \"\"\"\n",
    "    Alternating Least Squares algorithm to decompose input trainset into the product of two lower rank matrices, i.e X_train = P^TQ, which P, Q are returned by this function.\n",
    "\n",
    "    Param:\n",
    "    ========\n",
    "    trainset: dataset formatted via surprise dataset\n",
    "    k: int, rank of lower representation in in vector space \n",
    "    lamb: float, regularized factor lambda\n",
    "    tol: float, error tolerance (used to stop iterations)\n",
    "\n",
    "    Return:\n",
    "    ========\n",
    "    P: np.array, low-rank matrix \n",
    "    Q: np.array, low-rank matrix\n",
    "    \"\"\"\n",
    "    m, n = trainset.n_users, trainset.n_items\n",
    "    # Get rating matrix\n",
    "    A = np.zeros((m, n))\n",
    "    for u, i, r in trainset.all_ratings():\n",
    "        A[u,i] = r\n",
    "    # Initialize P, Q\n",
    "    P = np.ones((k,m)) #user matrix\n",
    "    Q = np.ones((k,n)) #item matrix\n",
    "    Id_k = np.eye(N=k)\n",
    "    # Alternate to optimize\n",
    "    num_iter = 0\n",
    "    while num_iter < max_iter:\n",
    "        ls_error = als_objective(A, P, Q, lamb)\n",
    "        if (num_iter+1) % 10 == 0:\n",
    "            print(\"Iter  {}:  error {}\".format(num_iter+1, ls_error))\n",
    "        for u in range(m):\n",
    "            obs_items = np.nonzero(A[u, :])\n",
    "            sum_qqT = np.sum([Q[:, i]*np.reshape(Q[:, i], (-1, 1)) for i in obs_items[0]], 0)\n",
    "            P[:, u] = np.squeeze(np.linalg.inv(sum_qqT+lamb*Id_k) @ np.reshape(np.sum([A[u,item]*Q[:, item] for item in obs_items[0]], 0), (-1, 1)))\n",
    "        for i in range(n):\n",
    "            obs_users = np.nonzero(A[:, i])\n",
    "            sum_ppT = np.sum([P[:, u]*np.reshape(P[:, u], (-1, 1)) for u in obs_users[0]], 0)\n",
    "            Q[:, i] = np.squeeze(np.linalg.inv(sum_ppT+lamb*Id_k) @ np.reshape(np.sum([A[u, i]*P[:, u] for u in obs_users[0]], 0), (-1, 1)))\n",
    "        if ls_error <= tol:\n",
    "            break\n",
    "        num_iter += 1\n",
    "    return P, Q\n",
    "\n",
    "class ALS(AlgoBase):\n",
    "    \"\"\"\n",
    "    Model via Alternating Least Square\n",
    "    \"\"\"\n",
    "    def __init__(self,k, lamb, tol, max_iter):\n",
    "        self.k = k\n",
    "        self.lamb = lamb\n",
    "        self.tol = tol\n",
    "        self.max_iter = max_iter\n",
    "\n",
    "    def fit(self, trainset):\n",
    "        AlgoBase.fit(self, trainset)\n",
    "        start = time.time()\n",
    "        self.P, self.Q = als(self.trainset, self.k, self.lamb, self.tol, self.max_iter)\n",
    "        print(\"Used time: {}\".format(time.time() - start))   \n",
    "\n",
    "    def estimate(self, u, i):\n",
    "        return np.clip(np.dot(self.P[:, u], self.Q[:, i]), 1, 5)\n"
   ]
  },
  {
   "cell_type": "markdown",
   "metadata": {},
   "source": [
    "## Best Model via Grid Search\n",
    "Here we presented the best model via grid search on selected hyper-parameters. We stored the best hyper-parameters from experiments.\n",
    "\n",
    "Grid Search was run on Euler cluster with parallelization. We provide the commented code in the following section \"Grid Search\" only if you would like to re-run the search again. However, we do not recommend without highly computational power."
   ]
  },
  {
   "cell_type": "code",
   "execution_count": null,
   "metadata": {},
   "outputs": [],
   "source": [
    "# Best params\n",
    "k = 5\n",
    "lamb = 0.9\n",
    "tol= 0.5\n",
    "max_iter = 30\n",
    "\n",
    "# Define the model\n",
    "model = ALS(k=k, lamb=lamb, tol=tol, max_iter=max_iter)\n",
    "\n",
    "# Fit the model with trainset\n",
    "model.fit(trainset)\n",
    "\n",
    "# Compute the predictions on testset\n",
    "predictions = model.test(testset)\n",
    "\n",
    "# Compute RMSE on testset\n",
    "rmse = accuracy.rmse(predictions)"
   ]
  },
  {
   "cell_type": "markdown",
   "metadata": {},
   "source": [
    "## Grid Search "
   ]
  },
  {
   "cell_type": "code",
   "execution_count": 13,
   "metadata": {
    "tags": []
   },
   "outputs": [],
   "source": [
    "# grid_search_model = GridSearchCV(ALS, param_grid = {\"k\":[5, 8, 10, 15], \"lamb\":[0.5, 0.7, 0.9], \"max_iter\":[5, 10, 30]}, n_jobs = -1)\n",
    "\n",
    "# grid_search_model.fit(dataset)\n",
    "\n",
    "# grid_search_model.best_score, model.best_params\n"
   ]
  },
  {
   "cell_type": "markdown",
   "metadata": {},
   "source": [
    "## Submission"
   ]
  },
  {
   "cell_type": "code",
   "execution_count": 7,
   "metadata": {},
   "outputs": [],
   "source": [
    "# Prepare submission indices\n",
    "pred_ids = read_submission_indexes(\"../data/sample-submission.csv\")\n"
   ]
  },
  {
   "cell_type": "code",
   "execution_count": 12,
   "metadata": {
    "tags": []
   },
   "outputs": [
    {
     "output_type": "stream",
     "name": "stdout",
     "text": "Iter  10:  error 0.9151639584930036\nIter  20:  error 0.9107224497156738\nIter  30:  error 0.9094582302046958\nUsed time: 646.157338142395\n"
    }
   ],
   "source": [
    "# Best params\n",
    "k = 5\n",
    "lamb = 0.9\n",
    "tol= 0.5\n",
    "max_iter = 30\n",
    "\n",
    "model = ALS(k=k, lamb=lamb, tol=tol, max_iter=max_iter)\n",
    "\n",
    "# Fit on all training data\n",
    "all_train  = dataset.build_full_trainset()\n",
    "model.fit(all_train)"
   ]
  },
  {
   "cell_type": "code",
   "execution_count": 13,
   "metadata": {},
   "outputs": [],
   "source": [
    "# Predictions on Kaggle test data# Predictions on Kaggle test data\n",
    "submission = []\n",
    "for r, c in pred_ids:\n",
    "    submission.append((r, c, model.estimate(r, c)))"
   ]
  },
  {
   "cell_type": "code",
   "execution_count": 15,
   "metadata": {},
   "outputs": [],
   "source": [
    "import datetime \n",
    "import csv\n",
    "# Save submission predictions\n",
    "submission_csv = \"../predictions/submission_als_{}.csv\".format(datetime.datetime.now().strftime('%Y%m%d_%H%M'))\n",
    "\n",
    "write_predictions_to_csv(submission, submission_csv)"
   ]
  },
  {
   "cell_type": "code",
   "execution_count": 17,
   "metadata": {},
   "outputs": [
    {
     "output_type": "execute_result",
     "data": {
      "text/plain": "(array([  1682.,   3801.,  11714.,  32422.,  82695., 176866., 282093.,\n        299302., 196264.,  90113.]),\n array([1. , 1.4, 1.8, 2.2, 2.6, 3. , 3.4, 3.8, 4.2, 4.6, 5. ]),\n <a list of 10 Patch objects>)"
     },
     "metadata": {},
     "execution_count": 17
    },
    {
     "output_type": "display_data",
     "data": {
      "text/plain": "<Figure size 432x288 with 1 Axes>",
      "image/svg+xml": "<?xml version=\"1.0\" encoding=\"utf-8\" standalone=\"no\"?>\n<!DOCTYPE svg PUBLIC \"-//W3C//DTD SVG 1.1//EN\"\n  \"http://www.w3.org/Graphics/SVG/1.1/DTD/svg11.dtd\">\n<!-- Created with matplotlib (https://matplotlib.org/) -->\n<svg height=\"248.518125pt\" version=\"1.1\" viewBox=\"0 0 394.375 248.518125\" width=\"394.375pt\" xmlns=\"http://www.w3.org/2000/svg\" xmlns:xlink=\"http://www.w3.org/1999/xlink\">\n <defs>\n  <style type=\"text/css\">\n*{stroke-linecap:butt;stroke-linejoin:round;}\n  </style>\n </defs>\n <g id=\"figure_1\">\n  <g id=\"patch_1\">\n   <path d=\"M 0 248.518125 \nL 394.375 248.518125 \nL 394.375 0 \nL 0 0 \nz\n\" style=\"fill:none;\"/>\n  </g>\n  <g id=\"axes_1\">\n   <g id=\"patch_2\">\n    <path d=\"M 52.375 224.64 \nL 387.175 224.64 \nL 387.175 7.2 \nL 52.375 7.2 \nz\n\" style=\"fill:#ffffff;\"/>\n   </g>\n   <g id=\"patch_3\">\n    <path clip-path=\"url(#p1373f1f0be)\" d=\"M 67.593182 224.64 \nL 98.029545 224.64 \nL 98.029545 223.476232 \nL 67.593182 223.476232 \nz\n\" style=\"fill:#1f77b4;\"/>\n   </g>\n   <g id=\"patch_4\">\n    <path clip-path=\"url(#p1373f1f0be)\" d=\"M 98.029545 224.64 \nL 128.465909 224.64 \nL 128.465909 222.010105 \nL 98.029545 222.010105 \nz\n\" style=\"fill:#1f77b4;\"/>\n   </g>\n   <g id=\"patch_5\">\n    <path clip-path=\"url(#p1373f1f0be)\" d=\"M 128.465909 224.64 \nL 158.902273 224.64 \nL 158.902273 216.535136 \nL 128.465909 216.535136 \nz\n\" style=\"fill:#1f77b4;\"/>\n   </g>\n   <g id=\"patch_6\">\n    <path clip-path=\"url(#p1373f1f0be)\" d=\"M 158.902273 224.64 \nL 189.338636 224.64 \nL 189.338636 202.207363 \nL 158.902273 202.207363 \nz\n\" style=\"fill:#1f77b4;\"/>\n   </g>\n   <g id=\"patch_7\">\n    <path clip-path=\"url(#p1373f1f0be)\" d=\"M 189.338636 224.64 \nL 219.775 224.64 \nL 219.775 167.4237 \nL 189.338636 167.4237 \nz\n\" style=\"fill:#1f77b4;\"/>\n   </g>\n   <g id=\"patch_8\">\n    <path clip-path=\"url(#p1373f1f0be)\" d=\"M 219.775 224.64 \nL 250.211364 224.64 \nL 250.211364 102.267206 \nL 219.775 102.267206 \nz\n\" style=\"fill:#1f77b4;\"/>\n   </g>\n   <g id=\"patch_9\">\n    <path clip-path=\"url(#p1373f1f0be)\" d=\"M 250.211364 224.64 \nL 280.647727 224.64 \nL 280.647727 29.461116 \nL 250.211364 29.461116 \nz\n\" style=\"fill:#1f77b4;\"/>\n   </g>\n   <g id=\"patch_10\">\n    <path clip-path=\"url(#p1373f1f0be)\" d=\"M 280.647727 224.64 \nL 311.084091 224.64 \nL 311.084091 17.554286 \nL 280.647727 17.554286 \nz\n\" style=\"fill:#1f77b4;\"/>\n   </g>\n   <g id=\"patch_11\">\n    <path clip-path=\"url(#p1373f1f0be)\" d=\"M 311.084091 224.64 \nL 341.520455 224.64 \nL 341.520455 88.845817 \nL 311.084091 88.845817 \nz\n\" style=\"fill:#1f77b4;\"/>\n   </g>\n   <g id=\"patch_12\">\n    <path clip-path=\"url(#p1373f1f0be)\" d=\"M 341.520455 224.64 \nL 371.956818 224.64 \nL 371.956818 162.291219 \nL 341.520455 162.291219 \nz\n\" style=\"fill:#1f77b4;\"/>\n   </g>\n   <g id=\"matplotlib.axis_1\">\n    <g id=\"xtick_1\">\n     <g id=\"line2d_1\">\n      <defs>\n       <path d=\"M 0 0 \nL 0 3.5 \n\" id=\"m2853db4b76\" style=\"stroke:#000000;stroke-width:0.8;\"/>\n      </defs>\n      <g>\n       <use style=\"stroke:#000000;stroke-width:0.8;\" x=\"67.593182\" xlink:href=\"#m2853db4b76\" y=\"224.64\"/>\n      </g>\n     </g>\n     <g id=\"text_1\">\n      <!-- 1.0 -->\n      <defs>\n       <path d=\"M 12.40625 8.296875 \nL 28.515625 8.296875 \nL 28.515625 63.921875 \nL 10.984375 60.40625 \nL 10.984375 69.390625 \nL 28.421875 72.90625 \nL 38.28125 72.90625 \nL 38.28125 8.296875 \nL 54.390625 8.296875 \nL 54.390625 0 \nL 12.40625 0 \nz\n\" id=\"DejaVuSans-49\"/>\n       <path d=\"M 10.6875 12.40625 \nL 21 12.40625 \nL 21 0 \nL 10.6875 0 \nz\n\" id=\"DejaVuSans-46\"/>\n       <path d=\"M 31.78125 66.40625 \nQ 24.171875 66.40625 20.328125 58.90625 \nQ 16.5 51.421875 16.5 36.375 \nQ 16.5 21.390625 20.328125 13.890625 \nQ 24.171875 6.390625 31.78125 6.390625 \nQ 39.453125 6.390625 43.28125 13.890625 \nQ 47.125 21.390625 47.125 36.375 \nQ 47.125 51.421875 43.28125 58.90625 \nQ 39.453125 66.40625 31.78125 66.40625 \nz\nM 31.78125 74.21875 \nQ 44.046875 74.21875 50.515625 64.515625 \nQ 56.984375 54.828125 56.984375 36.375 \nQ 56.984375 17.96875 50.515625 8.265625 \nQ 44.046875 -1.421875 31.78125 -1.421875 \nQ 19.53125 -1.421875 13.0625 8.265625 \nQ 6.59375 17.96875 6.59375 36.375 \nQ 6.59375 54.828125 13.0625 64.515625 \nQ 19.53125 74.21875 31.78125 74.21875 \nz\n\" id=\"DejaVuSans-48\"/>\n      </defs>\n      <g transform=\"translate(59.641619 239.238437)scale(0.1 -0.1)\">\n       <use xlink:href=\"#DejaVuSans-49\"/>\n       <use x=\"63.623047\" xlink:href=\"#DejaVuSans-46\"/>\n       <use x=\"95.410156\" xlink:href=\"#DejaVuSans-48\"/>\n      </g>\n     </g>\n    </g>\n    <g id=\"xtick_2\">\n     <g id=\"line2d_2\">\n      <g>\n       <use style=\"stroke:#000000;stroke-width:0.8;\" x=\"105.638636\" xlink:href=\"#m2853db4b76\" y=\"224.64\"/>\n      </g>\n     </g>\n     <g id=\"text_2\">\n      <!-- 1.5 -->\n      <defs>\n       <path d=\"M 10.796875 72.90625 \nL 49.515625 72.90625 \nL 49.515625 64.59375 \nL 19.828125 64.59375 \nL 19.828125 46.734375 \nQ 21.96875 47.46875 24.109375 47.828125 \nQ 26.265625 48.1875 28.421875 48.1875 \nQ 40.625 48.1875 47.75 41.5 \nQ 54.890625 34.8125 54.890625 23.390625 \nQ 54.890625 11.625 47.5625 5.09375 \nQ 40.234375 -1.421875 26.90625 -1.421875 \nQ 22.3125 -1.421875 17.546875 -0.640625 \nQ 12.796875 0.140625 7.71875 1.703125 \nL 7.71875 11.625 \nQ 12.109375 9.234375 16.796875 8.0625 \nQ 21.484375 6.890625 26.703125 6.890625 \nQ 35.15625 6.890625 40.078125 11.328125 \nQ 45.015625 15.765625 45.015625 23.390625 \nQ 45.015625 31 40.078125 35.4375 \nQ 35.15625 39.890625 26.703125 39.890625 \nQ 22.75 39.890625 18.8125 39.015625 \nQ 14.890625 38.140625 10.796875 36.28125 \nz\n\" id=\"DejaVuSans-53\"/>\n      </defs>\n      <g transform=\"translate(97.687074 239.238437)scale(0.1 -0.1)\">\n       <use xlink:href=\"#DejaVuSans-49\"/>\n       <use x=\"63.623047\" xlink:href=\"#DejaVuSans-46\"/>\n       <use x=\"95.410156\" xlink:href=\"#DejaVuSans-53\"/>\n      </g>\n     </g>\n    </g>\n    <g id=\"xtick_3\">\n     <g id=\"line2d_3\">\n      <g>\n       <use style=\"stroke:#000000;stroke-width:0.8;\" x=\"143.684091\" xlink:href=\"#m2853db4b76\" y=\"224.64\"/>\n      </g>\n     </g>\n     <g id=\"text_3\">\n      <!-- 2.0 -->\n      <defs>\n       <path d=\"M 19.1875 8.296875 \nL 53.609375 8.296875 \nL 53.609375 0 \nL 7.328125 0 \nL 7.328125 8.296875 \nQ 12.9375 14.109375 22.625 23.890625 \nQ 32.328125 33.6875 34.8125 36.53125 \nQ 39.546875 41.84375 41.421875 45.53125 \nQ 43.3125 49.21875 43.3125 52.78125 \nQ 43.3125 58.59375 39.234375 62.25 \nQ 35.15625 65.921875 28.609375 65.921875 \nQ 23.96875 65.921875 18.8125 64.3125 \nQ 13.671875 62.703125 7.8125 59.421875 \nL 7.8125 69.390625 \nQ 13.765625 71.78125 18.9375 73 \nQ 24.125 74.21875 28.421875 74.21875 \nQ 39.75 74.21875 46.484375 68.546875 \nQ 53.21875 62.890625 53.21875 53.421875 \nQ 53.21875 48.921875 51.53125 44.890625 \nQ 49.859375 40.875 45.40625 35.40625 \nQ 44.1875 33.984375 37.640625 27.21875 \nQ 31.109375 20.453125 19.1875 8.296875 \nz\n\" id=\"DejaVuSans-50\"/>\n      </defs>\n      <g transform=\"translate(135.732528 239.238437)scale(0.1 -0.1)\">\n       <use xlink:href=\"#DejaVuSans-50\"/>\n       <use x=\"63.623047\" xlink:href=\"#DejaVuSans-46\"/>\n       <use x=\"95.410156\" xlink:href=\"#DejaVuSans-48\"/>\n      </g>\n     </g>\n    </g>\n    <g id=\"xtick_4\">\n     <g id=\"line2d_4\">\n      <g>\n       <use style=\"stroke:#000000;stroke-width:0.8;\" x=\"181.729545\" xlink:href=\"#m2853db4b76\" y=\"224.64\"/>\n      </g>\n     </g>\n     <g id=\"text_4\">\n      <!-- 2.5 -->\n      <g transform=\"translate(173.777983 239.238437)scale(0.1 -0.1)\">\n       <use xlink:href=\"#DejaVuSans-50\"/>\n       <use x=\"63.623047\" xlink:href=\"#DejaVuSans-46\"/>\n       <use x=\"95.410156\" xlink:href=\"#DejaVuSans-53\"/>\n      </g>\n     </g>\n    </g>\n    <g id=\"xtick_5\">\n     <g id=\"line2d_5\">\n      <g>\n       <use style=\"stroke:#000000;stroke-width:0.8;\" x=\"219.775\" xlink:href=\"#m2853db4b76\" y=\"224.64\"/>\n      </g>\n     </g>\n     <g id=\"text_5\">\n      <!-- 3.0 -->\n      <defs>\n       <path d=\"M 40.578125 39.3125 \nQ 47.65625 37.796875 51.625 33 \nQ 55.609375 28.21875 55.609375 21.1875 \nQ 55.609375 10.40625 48.1875 4.484375 \nQ 40.765625 -1.421875 27.09375 -1.421875 \nQ 22.515625 -1.421875 17.65625 -0.515625 \nQ 12.796875 0.390625 7.625 2.203125 \nL 7.625 11.71875 \nQ 11.71875 9.328125 16.59375 8.109375 \nQ 21.484375 6.890625 26.8125 6.890625 \nQ 36.078125 6.890625 40.9375 10.546875 \nQ 45.796875 14.203125 45.796875 21.1875 \nQ 45.796875 27.640625 41.28125 31.265625 \nQ 36.765625 34.90625 28.71875 34.90625 \nL 20.21875 34.90625 \nL 20.21875 43.015625 \nL 29.109375 43.015625 \nQ 36.375 43.015625 40.234375 45.921875 \nQ 44.09375 48.828125 44.09375 54.296875 \nQ 44.09375 59.90625 40.109375 62.90625 \nQ 36.140625 65.921875 28.71875 65.921875 \nQ 24.65625 65.921875 20.015625 65.03125 \nQ 15.375 64.15625 9.8125 62.3125 \nL 9.8125 71.09375 \nQ 15.4375 72.65625 20.34375 73.4375 \nQ 25.25 74.21875 29.59375 74.21875 \nQ 40.828125 74.21875 47.359375 69.109375 \nQ 53.90625 64.015625 53.90625 55.328125 \nQ 53.90625 49.265625 50.4375 45.09375 \nQ 46.96875 40.921875 40.578125 39.3125 \nz\n\" id=\"DejaVuSans-51\"/>\n      </defs>\n      <g transform=\"translate(211.823438 239.238437)scale(0.1 -0.1)\">\n       <use xlink:href=\"#DejaVuSans-51\"/>\n       <use x=\"63.623047\" xlink:href=\"#DejaVuSans-46\"/>\n       <use x=\"95.410156\" xlink:href=\"#DejaVuSans-48\"/>\n      </g>\n     </g>\n    </g>\n    <g id=\"xtick_6\">\n     <g id=\"line2d_6\">\n      <g>\n       <use style=\"stroke:#000000;stroke-width:0.8;\" x=\"257.820455\" xlink:href=\"#m2853db4b76\" y=\"224.64\"/>\n      </g>\n     </g>\n     <g id=\"text_6\">\n      <!-- 3.5 -->\n      <g transform=\"translate(249.868892 239.238437)scale(0.1 -0.1)\">\n       <use xlink:href=\"#DejaVuSans-51\"/>\n       <use x=\"63.623047\" xlink:href=\"#DejaVuSans-46\"/>\n       <use x=\"95.410156\" xlink:href=\"#DejaVuSans-53\"/>\n      </g>\n     </g>\n    </g>\n    <g id=\"xtick_7\">\n     <g id=\"line2d_7\">\n      <g>\n       <use style=\"stroke:#000000;stroke-width:0.8;\" x=\"295.865909\" xlink:href=\"#m2853db4b76\" y=\"224.64\"/>\n      </g>\n     </g>\n     <g id=\"text_7\">\n      <!-- 4.0 -->\n      <defs>\n       <path d=\"M 37.796875 64.3125 \nL 12.890625 25.390625 \nL 37.796875 25.390625 \nz\nM 35.203125 72.90625 \nL 47.609375 72.90625 \nL 47.609375 25.390625 \nL 58.015625 25.390625 \nL 58.015625 17.1875 \nL 47.609375 17.1875 \nL 47.609375 0 \nL 37.796875 0 \nL 37.796875 17.1875 \nL 4.890625 17.1875 \nL 4.890625 26.703125 \nz\n\" id=\"DejaVuSans-52\"/>\n      </defs>\n      <g transform=\"translate(287.914347 239.238437)scale(0.1 -0.1)\">\n       <use xlink:href=\"#DejaVuSans-52\"/>\n       <use x=\"63.623047\" xlink:href=\"#DejaVuSans-46\"/>\n       <use x=\"95.410156\" xlink:href=\"#DejaVuSans-48\"/>\n      </g>\n     </g>\n    </g>\n    <g id=\"xtick_8\">\n     <g id=\"line2d_8\">\n      <g>\n       <use style=\"stroke:#000000;stroke-width:0.8;\" x=\"333.911364\" xlink:href=\"#m2853db4b76\" y=\"224.64\"/>\n      </g>\n     </g>\n     <g id=\"text_8\">\n      <!-- 4.5 -->\n      <g transform=\"translate(325.959801 239.238437)scale(0.1 -0.1)\">\n       <use xlink:href=\"#DejaVuSans-52\"/>\n       <use x=\"63.623047\" xlink:href=\"#DejaVuSans-46\"/>\n       <use x=\"95.410156\" xlink:href=\"#DejaVuSans-53\"/>\n      </g>\n     </g>\n    </g>\n    <g id=\"xtick_9\">\n     <g id=\"line2d_9\">\n      <g>\n       <use style=\"stroke:#000000;stroke-width:0.8;\" x=\"371.956818\" xlink:href=\"#m2853db4b76\" y=\"224.64\"/>\n      </g>\n     </g>\n     <g id=\"text_9\">\n      <!-- 5.0 -->\n      <g transform=\"translate(364.005256 239.238437)scale(0.1 -0.1)\">\n       <use xlink:href=\"#DejaVuSans-53\"/>\n       <use x=\"63.623047\" xlink:href=\"#DejaVuSans-46\"/>\n       <use x=\"95.410156\" xlink:href=\"#DejaVuSans-48\"/>\n      </g>\n     </g>\n    </g>\n   </g>\n   <g id=\"matplotlib.axis_2\">\n    <g id=\"ytick_1\">\n     <g id=\"line2d_10\">\n      <defs>\n       <path d=\"M 0 0 \nL -3.5 0 \n\" id=\"me66aa947bf\" style=\"stroke:#000000;stroke-width:0.8;\"/>\n      </defs>\n      <g>\n       <use style=\"stroke:#000000;stroke-width:0.8;\" x=\"52.375\" xlink:href=\"#me66aa947bf\" y=\"224.64\"/>\n      </g>\n     </g>\n     <g id=\"text_10\">\n      <!-- 0 -->\n      <g transform=\"translate(39.0125 228.439219)scale(0.1 -0.1)\">\n       <use xlink:href=\"#DejaVuSans-48\"/>\n      </g>\n     </g>\n    </g>\n    <g id=\"ytick_2\">\n     <g id=\"line2d_11\">\n      <g>\n       <use style=\"stroke:#000000;stroke-width:0.8;\" x=\"52.375\" xlink:href=\"#me66aa947bf\" y=\"190.045224\"/>\n      </g>\n     </g>\n     <g id=\"text_11\">\n      <!-- 50000 -->\n      <g transform=\"translate(13.5625 193.844443)scale(0.1 -0.1)\">\n       <use xlink:href=\"#DejaVuSans-53\"/>\n       <use x=\"63.623047\" xlink:href=\"#DejaVuSans-48\"/>\n       <use x=\"127.246094\" xlink:href=\"#DejaVuSans-48\"/>\n       <use x=\"190.869141\" xlink:href=\"#DejaVuSans-48\"/>\n       <use x=\"254.492188\" xlink:href=\"#DejaVuSans-48\"/>\n      </g>\n     </g>\n    </g>\n    <g id=\"ytick_3\">\n     <g id=\"line2d_12\">\n      <g>\n       <use style=\"stroke:#000000;stroke-width:0.8;\" x=\"52.375\" xlink:href=\"#me66aa947bf\" y=\"155.450448\"/>\n      </g>\n     </g>\n     <g id=\"text_12\">\n      <!-- 100000 -->\n      <g transform=\"translate(7.2 159.249666)scale(0.1 -0.1)\">\n       <use xlink:href=\"#DejaVuSans-49\"/>\n       <use x=\"63.623047\" xlink:href=\"#DejaVuSans-48\"/>\n       <use x=\"127.246094\" xlink:href=\"#DejaVuSans-48\"/>\n       <use x=\"190.869141\" xlink:href=\"#DejaVuSans-48\"/>\n       <use x=\"254.492188\" xlink:href=\"#DejaVuSans-48\"/>\n       <use x=\"318.115234\" xlink:href=\"#DejaVuSans-48\"/>\n      </g>\n     </g>\n    </g>\n    <g id=\"ytick_4\">\n     <g id=\"line2d_13\">\n      <g>\n       <use style=\"stroke:#000000;stroke-width:0.8;\" x=\"52.375\" xlink:href=\"#me66aa947bf\" y=\"120.855671\"/>\n      </g>\n     </g>\n     <g id=\"text_13\">\n      <!-- 150000 -->\n      <g transform=\"translate(7.2 124.65489)scale(0.1 -0.1)\">\n       <use xlink:href=\"#DejaVuSans-49\"/>\n       <use x=\"63.623047\" xlink:href=\"#DejaVuSans-53\"/>\n       <use x=\"127.246094\" xlink:href=\"#DejaVuSans-48\"/>\n       <use x=\"190.869141\" xlink:href=\"#DejaVuSans-48\"/>\n       <use x=\"254.492188\" xlink:href=\"#DejaVuSans-48\"/>\n       <use x=\"318.115234\" xlink:href=\"#DejaVuSans-48\"/>\n      </g>\n     </g>\n    </g>\n    <g id=\"ytick_5\">\n     <g id=\"line2d_14\">\n      <g>\n       <use style=\"stroke:#000000;stroke-width:0.8;\" x=\"52.375\" xlink:href=\"#me66aa947bf\" y=\"86.260895\"/>\n      </g>\n     </g>\n     <g id=\"text_14\">\n      <!-- 200000 -->\n      <g transform=\"translate(7.2 90.060114)scale(0.1 -0.1)\">\n       <use xlink:href=\"#DejaVuSans-50\"/>\n       <use x=\"63.623047\" xlink:href=\"#DejaVuSans-48\"/>\n       <use x=\"127.246094\" xlink:href=\"#DejaVuSans-48\"/>\n       <use x=\"190.869141\" xlink:href=\"#DejaVuSans-48\"/>\n       <use x=\"254.492188\" xlink:href=\"#DejaVuSans-48\"/>\n       <use x=\"318.115234\" xlink:href=\"#DejaVuSans-48\"/>\n      </g>\n     </g>\n    </g>\n    <g id=\"ytick_6\">\n     <g id=\"line2d_15\">\n      <g>\n       <use style=\"stroke:#000000;stroke-width:0.8;\" x=\"52.375\" xlink:href=\"#me66aa947bf\" y=\"51.666119\"/>\n      </g>\n     </g>\n     <g id=\"text_15\">\n      <!-- 250000 -->\n      <g transform=\"translate(7.2 55.465338)scale(0.1 -0.1)\">\n       <use xlink:href=\"#DejaVuSans-50\"/>\n       <use x=\"63.623047\" xlink:href=\"#DejaVuSans-53\"/>\n       <use x=\"127.246094\" xlink:href=\"#DejaVuSans-48\"/>\n       <use x=\"190.869141\" xlink:href=\"#DejaVuSans-48\"/>\n       <use x=\"254.492188\" xlink:href=\"#DejaVuSans-48\"/>\n       <use x=\"318.115234\" xlink:href=\"#DejaVuSans-48\"/>\n      </g>\n     </g>\n    </g>\n    <g id=\"ytick_7\">\n     <g id=\"line2d_16\">\n      <g>\n       <use style=\"stroke:#000000;stroke-width:0.8;\" x=\"52.375\" xlink:href=\"#me66aa947bf\" y=\"17.071343\"/>\n      </g>\n     </g>\n     <g id=\"text_16\">\n      <!-- 300000 -->\n      <g transform=\"translate(7.2 20.870561)scale(0.1 -0.1)\">\n       <use xlink:href=\"#DejaVuSans-51\"/>\n       <use x=\"63.623047\" xlink:href=\"#DejaVuSans-48\"/>\n       <use x=\"127.246094\" xlink:href=\"#DejaVuSans-48\"/>\n       <use x=\"190.869141\" xlink:href=\"#DejaVuSans-48\"/>\n       <use x=\"254.492188\" xlink:href=\"#DejaVuSans-48\"/>\n       <use x=\"318.115234\" xlink:href=\"#DejaVuSans-48\"/>\n      </g>\n     </g>\n    </g>\n   </g>\n   <g id=\"patch_13\">\n    <path d=\"M 52.375 224.64 \nL 52.375 7.2 \n\" style=\"fill:none;stroke:#000000;stroke-linecap:square;stroke-linejoin:miter;stroke-width:0.8;\"/>\n   </g>\n   <g id=\"patch_14\">\n    <path d=\"M 387.175 224.64 \nL 387.175 7.2 \n\" style=\"fill:none;stroke:#000000;stroke-linecap:square;stroke-linejoin:miter;stroke-width:0.8;\"/>\n   </g>\n   <g id=\"patch_15\">\n    <path d=\"M 52.375 224.64 \nL 387.175 224.64 \n\" style=\"fill:none;stroke:#000000;stroke-linecap:square;stroke-linejoin:miter;stroke-width:0.8;\"/>\n   </g>\n   <g id=\"patch_16\">\n    <path d=\"M 52.375 7.2 \nL 387.175 7.2 \n\" style=\"fill:none;stroke:#000000;stroke-linecap:square;stroke-linejoin:miter;stroke-width:0.8;\"/>\n   </g>\n  </g>\n </g>\n <defs>\n  <clipPath id=\"p1373f1f0be\">\n   <rect height=\"217.44\" width=\"334.8\" x=\"52.375\" y=\"7.2\"/>\n  </clipPath>\n </defs>\n</svg>\n",
      "image/png": "[encoded data removed]"
     },
     "metadata": {
      "needs_background": "light"
     }
    }
   ],
   "source": [
    "import matplotlib.pyplot as plt\n",
    "plt.hist([i[2] for i in submission])"
   ]
  },
  {
   "cell_type": "code",
   "execution_count": null,
   "metadata": {},
   "outputs": [],
   "source": []
  }
 ],
 "metadata": {
  "language_info": {
   "codemirror_mode": {
    "name": "ipython",
    "version": 3
   },
   "file_extension": ".py",
   "mimetype": "text/x-python",
   "name": "python",
   "nbconvert_exporter": "python",
   "pygments_lexer": "ipython3",
   "version": "3.7.4-final"
  },
  "orig_nbformat": 2,
  "kernelspec": {
   "name": "python3",
   "display_name": "Python 3"
  }
 },
 "nbformat": 4,
 "nbformat_minor": 2
}