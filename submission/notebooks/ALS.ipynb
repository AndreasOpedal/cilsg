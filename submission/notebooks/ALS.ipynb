{
 "cells": [
  {
   "cell_type": "code",
   "execution_count": 1,
   "metadata": {
    "tags": []
   },
   "outputs": [
    {
     "output_type": "stream",
     "name": "stdout",
     "text": "Requirement already satisfied: scikit-surprise in /anaconda3/lib/python3.7/site-packages (1.1.0)\nRequirement already satisfied: scipy>=1.0.0 in /anaconda3/lib/python3.7/site-packages (from scikit-surprise) (1.4.1)\nRequirement already satisfied: joblib>=0.11 in /anaconda3/lib/python3.7/site-packages (from scikit-surprise) (0.13.2)\nRequirement already satisfied: numpy>=1.11.2 in /anaconda3/lib/python3.7/site-packages (from scikit-surprise) (1.17.2)\nRequirement already satisfied: six>=1.10.0 in /anaconda3/lib/python3.7/site-packages (from scikit-surprise) (1.15.0)\n\u001b[33mWARNING: You are using pip version 20.1; however, version 20.1.1 is available.\nYou should consider upgrading via the '/anaconda3/bin/python -m pip install --upgrade pip' command.\u001b[0m\nNote: you may need to restart the kernel to use updated packages.\n"
    }
   ],
   "source": [
    "import numpy as np\n",
    "import pandas as pd\n",
    "%pip install scikit-surprise\n",
    "from surprise import AlgoBase, PredictionImpossible, Reader, Dataset, accuracy\n",
    "from surprise.model_selection import train_test_split, cross_validate"
   ]
  },
  {
   "cell_type": "code",
   "execution_count": 2,
   "metadata": {},
   "outputs": [],
   "source": [
    "data_train_raw = pd.read_csv('../data/data-train.csv')\n",
    "\n",
    "# parse rows and columns\n",
    "row_str = data_train_raw['Id'].apply(lambda x: x.split('_')[0])\n",
    "row_id = row_str.apply(lambda x: int(x.split('r')[1]) - 1)\n",
    "col_str = data_train_raw['Id'].apply(lambda x: x.split('_')[1])\n",
    "col_id = col_str.apply(lambda x: int(x.split('c')[1]) - 1)\n",
    "\n",
    "# apply changes\n",
    "data_train_raw['row'] = row_id\n",
    "data_train_raw['col'] = col_id\n",
    "\n",
    "# dataset as data frame\n",
    "data_train_df = data_train_raw.loc[:,['row', 'col', 'Prediction']]"
   ]
  },
  {
   "cell_type": "code",
   "execution_count": 4,
   "metadata": {},
   "outputs": [],
   "source": [
    "# set up surprise dataset\n",
    "reader = Reader()\n",
    "dataset = Dataset.load_from_df(data_train_df[['row', 'col', 'Prediction']], reader)\n",
    "\n",
    "# now set up training and test set, with a test split of 25%\n",
    "trainset, testset = train_test_split(dataset, test_size=0.25)"
   ]
  },
  {
   "cell_type": "code",
   "execution_count": 5,
   "metadata": {},
   "outputs": [
    {
     "output_type": "execute_result",
     "data": {
      "text/plain": "surprise.trainset.Trainset"
     },
     "metadata": {},
     "execution_count": 5
    }
   ],
   "source": [
    "type(trainset)"
   ]
  },
  {
   "cell_type": "code",
   "execution_count": null,
   "metadata": {},
   "outputs": [],
   "source": [
    "def als_objective():\n",
    "    regularization = lamb*()\n",
    "    np.sum()\n",
    "    return error \n",
    "def als(A, k):\n",
    "    m, n = A.shape\n",
    "    # Initialize P, Q\n",
    "    P = np.ones((k,m))\n",
    "    Q = np.ones((k,n))\n",
    "    Id_k = np.eye(N=k)\n",
    "    # Alternate to optimize\n",
    "    num_iter = 0\n",
    "        while num_iter < self.max_iter:\n",
    "            for u in range(m):\n",
    "                P[:, u] = np.linalg.inv(Q[]*Q[].T+lamb*Id_k)*np.dot(A[u,:], Q[:, ])\n",
    "            for i in range(n):\n",
    "                Q[:, u] = np.linalg.inv(+lamb*Id_k)* \n",
    "            if \n",
    "                break\n",
    "            num_iter += 1\n",
    "     \n",
    "class ALS(AlgoBase):\n",
    "    def __init__(self,):\n",
    "        \n",
    "    def fit(self, trainset):\n",
    "        AlgoBase.fit(self, trainset)\n",
    "        \n",
    "                \n",
    "    def estimate(self, u, i):\n",
    "\n"
   ]
  },
  {
   "cell_type": "code",
   "execution_count": 6,
   "metadata": {},
   "outputs": [
    {
     "output_type": "error",
     "ename": "TypeError",
     "evalue": "'Trainset' object is not subscriptable",
     "traceback": [
      "\u001b[0;31m---------------------------------------------------------------------------\u001b[0m",
      "\u001b[0;31mTypeError\u001b[0m                                 Traceback (most recent call last)",
      "\u001b[0;32m<ipython-input-6-9b6c0ea03676>\u001b[0m in \u001b[0;36m<module>\u001b[0;34m\u001b[0m\n\u001b[0;32m----> 1\u001b[0;31m \u001b[0mtrainset\u001b[0m\u001b[0;34m[\u001b[0m\u001b[0;36m0\u001b[0m\u001b[0;34m]\u001b[0m\u001b[0;34m\u001b[0m\u001b[0;34m\u001b[0m\u001b[0m\n\u001b[0m",
      "\u001b[0;31mTypeError\u001b[0m: 'Trainset' object is not subscriptable"
     ]
    }
   ],
   "source": [
    "model = \n",
    "model.fit()\n",
    "predictions = \n",
    "rmse = \n"
   ]
  },
  {
   "cell_type": "code",
   "execution_count": null,
   "metadata": {},
   "outputs": [],
   "source": []
  }
 ],
 "metadata": {
  "language_info": {
   "codemirror_mode": {
    "name": "ipython",
    "version": 3
   },
   "file_extension": ".py",
   "mimetype": "text/x-python",
   "name": "python",
   "nbconvert_exporter": "python",
   "pygments_lexer": "ipython3",
   "version": "3.7.4-final"
  },
  "orig_nbformat": 2,
  "kernelspec": {
   "name": "python3",
   "display_name": "Python 3"
  }
 },
 "nbformat": 4,
 "nbformat_minor": 2
}