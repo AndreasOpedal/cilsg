{
 "cells": [
  {
   "cell_type": "markdown",
   "metadata": {},
   "source": [
    "# Plots for VAE\n",
    "This notebook produces the plots that were used in the paper.\n",
    "\n",
    "Some cell outputs have been omitted for readability."
   ]
  },
  {
   "cell_type": "code",
   "execution_count": 1,
   "metadata": {},
   "outputs": [],
   "source": [
    "import sys\n",
    "import random\n",
    "sys.path.append('.')\n",
    "import dataset\n",
    "\n",
    "import numpy as np\n",
    "from tqdm.auto import tqdm, trange\n",
    "\n",
    "import torch\n",
    "import torch.nn as nn\n",
    "import torch.nn.functional as F"
   ]
  },
  {
   "cell_type": "code",
   "execution_count": 2,
   "metadata": {},
   "outputs": [],
   "source": [
    "X_train, X_valid, X_test = dataset.load_datasets()"
   ]
  },
  {
   "cell_type": "code",
   "execution_count": 3,
   "metadata": {},
   "outputs": [],
   "source": [
    "# For final submission:\n",
    "train_on_full_dataset = False\n",
    "if train_on_full_dataset:\n",
    "    import scipy\n",
    "    X_train = X_train + X_valid\n",
    "# use this only for the final prediction, not for training"
   ]
  },
  {
   "cell_type": "code",
   "execution_count": 4,
   "metadata": {},
   "outputs": [],
   "source": [
    "X_train.count_nonzero(), X_valid.count_nonzero(), X_test.count_nonzero()\n",
    "valid_indices = list(set(zip(X_train.nonzero()[0], X_train.nonzero()[1])))"
   ]
  },
  {
   "cell_type": "code",
   "execution_count": 5,
   "metadata": {},
   "outputs": [],
   "source": [
    "class Autoencoder(nn.Module):\n",
    "\n",
    "    def __init__(self):\n",
    "        super().__init__()\n",
    "        self.user_dim = 10000\n",
    "        self.item_dim = 1000\n",
    "        \n",
    "        self.layer_1 = nn.Linear(1000, 100)\n",
    "        self.layer_1a = nn.Linear(100, 100)\n",
    "        \n",
    "        self.vae = nn.Linear(100, 100)\n",
    "        \n",
    "        self.layer_3 = nn.Linear(50, 100)\n",
    "        \n",
    "        self.cls_layer = nn.Linear(100, 1000)\n",
    "    \n",
    "    def forward(self, data):\n",
    "        net_data = data\n",
    "\n",
    "        # Encoder layers\n",
    "        net_data = F.relu(self.layer_1(net_data))\n",
    "        net_data = F.dropout(net_data, training=self.training)\n",
    "        \n",
    "        net_data = F.relu(self.layer_1a(net_data))\n",
    "        net_data = F.dropout(net_data, training=self.training)\n",
    "        \n",
    "        # VAE bottleneck\n",
    "        vae = self.vae(net_data)\n",
    "        mus_q, log_sigmas_q = torch.split(vae, 50, dim=-1)\n",
    "        stds_q = torch.exp(0.5 * log_sigmas_q)\n",
    "        \n",
    "        KL = 0.5 * (-log_sigmas_q + torch.exp(log_sigmas_q) + mus_q ** 2 - 1)\n",
    "        KL = torch.sum(KL, dim=-1)\n",
    "        KL = torch.mean(KL)\n",
    "        \n",
    "        # Sample random value if training,\n",
    "        # use the mean during evaluation\n",
    "        if not self.training:\n",
    "            sampled_z = mus_q\n",
    "        else:\n",
    "            eps = torch.randn(stds_q.shape, dtype=torch.float, device=device)\n",
    "            sampled_z = mus_q + eps * stds_q\n",
    "        \n",
    "        # Decoder layers\n",
    "        net_data = F.relu(self.layer_3(sampled_z))\n",
    "        \n",
    "        net_data = F.dropout(net_data, training=self.training)\n",
    "        \n",
    "        # Classification layer\n",
    "        y_score = self.cls_layer(net_data)\n",
    "        return y_score, KL"
   ]
  },
  {
   "cell_type": "code",
   "execution_count": 6,
   "metadata": {},
   "outputs": [],
   "source": [
    "# Model initialization\n",
    "device = torch.device('cuda') if torch.cuda.is_available() else torch.device('cpu')\n",
    "try:\n",
    "    del model\n",
    "except:\n",
    "    pass\n",
    "model = Autoencoder().to(device)\n",
    "opt = torch.optim.Adam(model.parameters(), lr=3e-4)"
   ]
  },
  {
   "cell_type": "code",
   "execution_count": 7,
   "metadata": {},
   "outputs": [
    {
     "name": "stdout",
     "output_type": "stream",
     "text": [
      "925567 251385\n"
     ]
    },
    {
     "data": {
      "text/plain": [
       "16.080782337697464"
      ]
     },
     "execution_count": 7,
     "metadata": {},
     "output_type": "execute_result"
    }
   ],
   "source": [
    "print(X_train.count_nonzero(), X_valid.count_nonzero())\n",
    "\n",
    "def get_predictions(A):\n",
    "    \"\"\"Predict the full matrix using the autoencoder.\"\"\"\n",
    "    model.eval()\n",
    "    A_pred = np.zeros((10000, 1000))\n",
    "    valid_indices = list(set(zip(A.nonzero()[0], A.nonzero()[1])))\n",
    "    \n",
    "    # Split dataset in batches of 64 rows ...\n",
    "    for i in range(0, 10000, 64):\n",
    "        X = X_train[i:i+64].todense()\n",
    "        X_ = torch.tensor(X, dtype=torch.float, device=device)\n",
    "        y_preds, KL = model(X_)\n",
    "        \n",
    "        for i_ in range(y_preds.shape[0]):\n",
    "            x_i = y_preds[i_].detach().cpu()\n",
    "            A_pred[i+i_] = x_i\n",
    "    \n",
    "    return A_pred, valid_indices\n",
    "\n",
    "def compute_loss():\n",
    "    \"\"\"Compute the mean squared error between the ranking matrix and predictions.\"\"\"\n",
    "    A_pred, valid_indices = get_predictions(X_valid)\n",
    "    losses = np.square(X_valid - A_pred)\n",
    "    losses = [losses[i,j] for (i, j) in valid_indices]\n",
    "    mean_loss = np.mean(losses)\n",
    "    return mean_loss\n",
    "\n",
    "compute_loss()"
   ]
  },
  {
   "cell_type": "code",
   "execution_count": 8,
   "metadata": {},
   "outputs": [],
   "source": [
    "train_indices_perline = [[] for i_ in range(10000)]\n",
    "for i, j in valid_indices:\n",
    "    train_indices_perline[i].append((i, j))\n",
    "\n",
    "for line in train_indices_perline:\n",
    "    assert line\n",
    "assert len(train_indices_perline) == 10000"
   ]
  },
  {
   "cell_type": "markdown",
   "metadata": {},
   "source": [
    "# Annealing hyperparameter"
   ]
  },
  {
   "cell_type": "code",
   "execution_count": null,
   "metadata": {
    "scrolled": false
   },
   "outputs": [],
   "source": [
    "anneal_alpha_max = 0.1\n",
    "\n",
    "losses_train = {}\n",
    "losses_valid = {}\n",
    "\n",
    "for anneal_value in [0., 0.1, 0.2]:\n",
    "    loss_avg = []\n",
    "\n",
    "    anneal_alpha_max = anneal_value\n",
    "    # Model initialization\n",
    "    device = torch.device('cuda') if torch.cuda.is_available() else torch.device('cpu')\n",
    "    try:\n",
    "        del model\n",
    "    except:\n",
    "        pass\n",
    "    model = Autoencoder().to(device)\n",
    "    opt = torch.optim.Adam(model.parameters(), lr=3e-4)\n",
    "    \n",
    "    \n",
    "    MAX_ITER = 500000\n",
    "    for i in range(0, MAX_ITER):\n",
    "        # randomly sample 32 points from training matrix\n",
    "        model.train()\n",
    "        random_lines = random.sample(range(0, 10000), k=32)\n",
    "        X = X_train[random_lines].todense()\n",
    "        X = torch.tensor(X, dtype=torch.float, device=device)\n",
    "        y_true = X\n",
    "\n",
    "        opt.zero_grad()\n",
    "        # Important: Add random noise to the input to prevent overfitting\n",
    "        y_preds, KL = model(X + torch.randn(X.shape, device=device) * 0.5)\n",
    "\n",
    "        valid_mask = torch.zeros_like(y_preds, device=device)\n",
    "        for i_ in range(X.shape[0]):\n",
    "            i_real = random_lines[i_]\n",
    "            indices = [j for _,j in train_indices_perline[i_real]]\n",
    "            valid_mask[i_, indices] = 1.0\n",
    "\n",
    "        loss = (y_preds - y_true) ** 2\n",
    "        loss = loss[valid_mask != 0.]\n",
    "\n",
    "        anneal_alpha = (anneal_alpha_max / 500000) * i\n",
    "        if i % 10000 == 0:\n",
    "            print(\"Alpha:\", anneal_alpha)\n",
    "\n",
    "        reg_var = (model.vae.weight ** 2).mean()\n",
    "        neg_ELBO = loss + anneal_alpha * KL + 2 * reg_var\n",
    "\n",
    "        # update avg loss\n",
    "        loss_avg.insert(0, loss.mean().item())\n",
    "        loss_avg = loss_avg[:1000]\n",
    "\n",
    "        if i % 1000 == 0:\n",
    "            print(\"It %d Avg loss: %.4f\" % (i, np.mean(loss_avg)))\n",
    "        if i % 1000 == 0:\n",
    "            mean_loss = compute_loss()\n",
    "            print(\"Mean loss: %.4f\" % mean_loss)\n",
    "            losses_train.setdefault(anneal_value, []).append(np.mean(loss_avg))\n",
    "            losses_valid.setdefault(anneal_value, []).append(mean_loss)\n",
    "\n",
    "        neg_ELBO.mean().backward()\n",
    "        torch.nn.utils.clip_grad_norm_(model.parameters(), 5.0)\n",
    "        opt.step()\n"
   ]
  },
  {
   "cell_type": "code",
   "execution_count": 11,
   "metadata": {},
   "outputs": [],
   "source": [
    "import pickle\n",
    "with open(\"plots-for-alpha.pkl\", \"wb\") as wp:\n",
    "    pickle.dump((losses_train, losses_valid), wp)"
   ]
  },
  {
   "cell_type": "code",
   "execution_count": 5,
   "metadata": {
    "scrolled": true
   },
   "outputs": [
    {
     "data": {
      "image/png": "[encoded data removed]",
      "text/plain": [
       "<Figure size 432x288 with 1 Axes>"
      ]
     },
     "metadata": {
      "needs_background": "light"
     },
     "output_type": "display_data"
    }
   ],
   "source": [
    "import pickle\n",
    "import matplotlib.pyplot as plt\n",
    "\n",
    "with open(\"plots-for-alpha.pkl\", \"rb\") as wp:\n",
    "    (losses_train, losses_valid) = pickle.load(wp)\n",
    "# Create a plot\n",
    "\n",
    "keys = [] \n",
    "for key in losses_valid: \n",
    "    data = losses_valid[key] \n",
    "    plt.plot(range(10, len(data)), data[10:]) \n",
    "#     print(data[-1]) \n",
    "    keys.append(key)\n",
    "\n",
    "plt.legend(keys) \n",
    "plt.xlabel(\"Training step (*1000)\") \n",
    "plt.ylabel(\"Validation error\") \n",
    "plt.show()"
   ]
  },
  {
   "cell_type": "markdown",
   "metadata": {},
   "source": [
    "# Random noise magnitude"
   ]
  },
  {
   "cell_type": "code",
   "execution_count": null,
   "metadata": {},
   "outputs": [],
   "source": [
    "losses_train = {}\n",
    "losses_valid = {}\n",
    "\n",
    "for noise_magnitude in [0., 0.2, 0.5, 1.0]:\n",
    "    loss_avg = []\n",
    "\n",
    "    # Model initialization\n",
    "    device = torch.device('cuda') if torch.cuda.is_available() else torch.device('cpu')\n",
    "    try:\n",
    "        del model\n",
    "    except:\n",
    "        pass\n",
    "    model = Autoencoder().to(device)\n",
    "    opt = torch.optim.Adam(model.parameters(), lr=3e-4)\n",
    "    \n",
    "    \n",
    "    MAX_ITER = 500000\n",
    "    for i in range(0, MAX_ITER):\n",
    "        # randomly sample 32 points from training matrix\n",
    "        model.train()\n",
    "        random_lines = random.sample(range(0, 10000), k=32)\n",
    "        X = X_train[random_lines].todense()    \n",
    "        X = torch.tensor(X, dtype=torch.float, device=device)\n",
    "        y_true = X\n",
    "\n",
    "        opt.zero_grad()\n",
    "        # Important: Add random noise to the input to prevent overfitting\n",
    "        y_preds, KL = model(X + torch.randn(X.shape, device=device) * noise_magnitude)\n",
    "\n",
    "        valid_mask = torch.zeros_like(y_preds, device=device)\n",
    "        for i_ in range(X.shape[0]):\n",
    "            i_real = random_lines[i_]\n",
    "            indices = [j for _,j in train_indices_perline[i_real]]\n",
    "            valid_mask[i_, indices] = 1.0\n",
    "\n",
    "        loss = (y_preds - y_true) ** 2\n",
    "        loss = loss[valid_mask != 0.]\n",
    "\n",
    "        # update avg loss\n",
    "        loss_avg.insert(0, loss.mean().item())\n",
    "        loss_avg = loss_avg[:1000]\n",
    "\n",
    "        if i % 1000 == 0:\n",
    "            print(\"It %d Avg loss: %.4f\" % (i, np.mean(loss_avg)))\n",
    "        if i % 1000 == 0:\n",
    "            mean_loss = compute_loss()\n",
    "            print(\"Mean loss: %.4f\" % mean_loss)\n",
    "            losses_train.setdefault(noise_magnitude, []).append(np.mean(loss_avg))\n",
    "            losses_valid.setdefault(noise_magnitude, []).append(mean_loss)\n",
    "\n",
    "        loss.mean().backward()\n",
    "        torch.nn.utils.clip_grad_norm_(model.parameters(), 5.0)\n",
    "        opt.step()\n"
   ]
  },
  {
   "cell_type": "code",
   "execution_count": null,
   "metadata": {},
   "outputs": [],
   "source": [
    "import pickle\n",
    "with open(\"plots-for-noise.pkl\", \"wb\") as wp:\n",
    "    pickle.dump((losses_train, losses_valid), wp)"
   ]
  },
  {
   "cell_type": "code",
   "execution_count": 4,
   "metadata": {},
   "outputs": [
    {
     "data": {
      "image/png": "[encoded data removed]",
      "text/plain": [
       "<Figure size 432x288 with 1 Axes>"
      ]
     },
     "metadata": {
      "needs_background": "light"
     },
     "output_type": "display_data"
    }
   ],
   "source": [
    "import pickle\n",
    "import matplotlib.pyplot as plt\n",
    "\n",
    "with open(\"plots-for-noise.pkl\", \"rb\") as wp:\n",
    "    (losses_train, losses_valid) = pickle.load(wp)\n",
    "\n",
    "# Create a plot\n",
    "\n",
    "keys = [] \n",
    "for key in losses_valid: \n",
    "    data = losses_valid[key] \n",
    "    plt.plot(range(10, len(data)), data[10:]) \n",
    "#     print(data[-1]) \n",
    "    keys.append(key)\n",
    "\n",
    "plt.legend(keys) \n",
    "plt.xlabel(\"Training step (*1000)\") \n",
    "plt.ylabel(\"Validation error\") \n",
    "plt.show()"
   ]
  },
  {
   "cell_type": "markdown",
   "metadata": {},
   "source": [
    "# Size of the bottleneck"
   ]
  },
  {
   "cell_type": "code",
   "execution_count": null,
   "metadata": {},
   "outputs": [],
   "source": [
    "losses_train = {}\n",
    "losses_valid = {}\n",
    "\n",
    "for bottleneck_size in [10, 25, 50, 75]:\n",
    "    loss_avg = []\n",
    "    class Autoencoder(nn.Module):\n",
    "\n",
    "        def __init__(self):\n",
    "            super().__init__()\n",
    "            self.user_dim = 10000\n",
    "            self.item_dim = 1000\n",
    "\n",
    "            self.layer_1 = nn.Linear(1000, 100)\n",
    "            self.layer_1a = nn.Linear(100, 100)\n",
    "\n",
    "            self.vae = nn.Linear(100, bottleneck_size * 2)\n",
    "\n",
    "            self.layer_3 = nn.Linear(bottleneck_size, 100)\n",
    "    #         self.layer_3a = nn.Linear(100, 100)\n",
    "\n",
    "            self.cls_layer = nn.Linear(100, 1000)\n",
    "\n",
    "        def forward(self, data):\n",
    "            net_data = data\n",
    "\n",
    "            # Encoder layers\n",
    "            net_data = F.relu(self.layer_1(net_data))\n",
    "            net_data = F.dropout(net_data, training=self.training)\n",
    "\n",
    "            net_data = F.relu(self.layer_1a(net_data))\n",
    "            net_data = F.dropout(net_data, training=self.training)\n",
    "\n",
    "            # VAE bottleneck\n",
    "            vae = self.vae(net_data)\n",
    "            mus_q, log_sigmas_q = torch.split(vae, bottleneck_size, dim=-1)\n",
    "            stds_q = torch.exp(0.5 * log_sigmas_q)\n",
    "\n",
    "            KL = 0.5 * (-log_sigmas_q + torch.exp(log_sigmas_q) + mus_q ** 2 - 1)\n",
    "            KL = torch.sum(KL, dim=-1)\n",
    "            KL = torch.mean(KL)\n",
    "\n",
    "            # Sample random value if training,\n",
    "            # use the mean during evaluation\n",
    "            if not self.training:\n",
    "                sampled_z = mus_q\n",
    "            else:\n",
    "                eps = torch.randn(stds_q.shape, dtype=torch.float, device=device)\n",
    "                sampled_z = mus_q + eps * stds_q\n",
    "\n",
    "            # Decoder layers\n",
    "            net_data = F.relu(self.layer_3(sampled_z))\n",
    "\n",
    "            net_data = F.dropout(net_data, training=self.training)\n",
    "\n",
    "            # Classification layer\n",
    "            y_score = self.cls_layer(net_data)\n",
    "            return y_score, KL\n",
    "    \n",
    "    # Model initialization\n",
    "    device = torch.device('cuda') if torch.cuda.is_available() else torch.device('cpu')\n",
    "    try:\n",
    "        del model\n",
    "    except:\n",
    "        pass\n",
    "    model = Autoencoder().to(device)\n",
    "    opt = torch.optim.Adam(model.parameters(), lr=3e-4)\n",
    "    \n",
    "    \n",
    "    MAX_ITER = 500000\n",
    "    for i in range(0, MAX_ITER):\n",
    "        # randomly sample 32 points from training matrix\n",
    "        model.train()\n",
    "        random_lines = random.sample(range(0, 10000), k=32)\n",
    "        X = X_train[random_lines].todense()\n",
    "        X = torch.tensor(X, dtype=torch.float, device=device)\n",
    "        y_true = X\n",
    "\n",
    "        opt.zero_grad()\n",
    "        # Important: Add random noise to the input to prevent overfitting\n",
    "        y_preds, KL = model(X + torch.randn(X.shape, device=device) * 0.5)\n",
    "\n",
    "        valid_mask = torch.zeros_like(y_preds, device=device)\n",
    "        for i_ in range(X.shape[0]):\n",
    "            i_real = random_lines[i_]\n",
    "            indices = [j for _,j in train_indices_perline[i_real]]\n",
    "            valid_mask[i_, indices] = 1.0\n",
    "\n",
    "        loss = (y_preds - y_true) ** 2\n",
    "        loss = loss[valid_mask != 0.]\n",
    "        \n",
    "        # update avg loss\n",
    "        loss_avg.insert(0, loss.mean().item())\n",
    "        loss_avg = loss_avg[:1000]\n",
    "\n",
    "        if i % 1000 == 0:\n",
    "            print(\"It %d Avg loss: %.4f\" % (i, np.mean(loss_avg)))\n",
    "        if i % 1000 == 0:\n",
    "            mean_loss = compute_loss()\n",
    "            print(\"Mean loss: %.4f\" % mean_loss)\n",
    "            losses_train.setdefault(bottleneck_size, []).append(np.mean(loss_avg))\n",
    "            losses_valid.setdefault(bottleneck_size, []).append(mean_loss)\n",
    "\n",
    "        loss.mean().backward()\n",
    "        torch.nn.utils.clip_grad_norm_(model.parameters(), 5.0)\n",
    "        opt.step()\n"
   ]
  },
  {
   "cell_type": "code",
   "execution_count": 11,
   "metadata": {},
   "outputs": [],
   "source": [
    "import pickle\n",
    "with open(\"plots-for-neck.pkl\", \"wb\") as wp:\n",
    "    pickle.dump((losses_train, losses_valid), wp)"
   ]
  },
  {
   "cell_type": "code",
   "execution_count": 3,
   "metadata": {},
   "outputs": [
    {
     "data": {
      "image/png": "[encoded data removed]",
      "text/plain": [
       "<Figure size 432x288 with 1 Axes>"
      ]
     },
     "metadata": {
      "needs_background": "light"
     },
     "output_type": "display_data"
    }
   ],
   "source": [
    "import pickle\n",
    "import matplotlib.pyplot as plt\n",
    "\n",
    "with open(\"plots-for-neck.pkl\", \"rb\") as wp:\n",
    "    (losses_train, losses_valid) = pickle.load(wp)\n",
    "\n",
    "# Create a plot\n",
    "\n",
    "keys = [] \n",
    "for key in losses_valid: \n",
    "    data = losses_valid[key] \n",
    "    plt.plot(range(10, len(data)), data[10:]) \n",
    "#     print(data[-1]) \n",
    "    keys.append(key)\n",
    "\n",
    "plt.legend(keys) \n",
    "plt.xlabel(\"Training step (*1000)\") \n",
    "plt.ylabel(\"Validation error\") \n",
    "plt.show()"
   ]
  }
 ],
 "metadata": {
  "kernelspec": {
   "display_name": "Python 3",
   "language": "python",
   "name": "python3"
  },
  "language_info": {
   "codemirror_mode": {
    "name": "ipython",
    "version": 3
   },
   "file_extension": ".py",
   "mimetype": "text/x-python",
   "name": "python",
   "nbconvert_exporter": "python",
   "pygments_lexer": "ipython3",
   "version": "3.6.6"
  }
 },
 "nbformat": 4,
 "nbformat_minor": 2
}
