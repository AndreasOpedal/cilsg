{
 "cells": [
  {
   "cell_type": "code",
   "execution_count": 1,
   "metadata": {},
   "outputs": [],
   "source": [
    "import pandas as pd\n",
    "import numpy as np\n",
    "import matplotlib.pyplot as plt\n",
    "import time"
   ]
  },
  {
   "cell_type": "code",
   "execution_count": 2,
   "metadata": {},
   "outputs": [],
   "source": [
    "fold_1 = pd.read_csv('../andreas/fold_1.csv', index_col = 0)\n",
    "fold_2 = pd.read_csv('../andreas/fold_2.csv', index_col = 0)\n",
    "fold_3 = pd.read_csv('../andreas/fold_3.csv', index_col = 0)\n",
    "fold_4 = pd.read_csv('../andreas/fold_4.csv', index_col = 0)\n",
    "fold_5 = pd.read_csv('../andreas/fold_5.csv', index_col = 0)\n",
    "folds = [fold_1, fold_2, fold_3, fold_4, fold_5]"
   ]
  },
  {
   "cell_type": "code",
   "execution_count": 127,
   "metadata": {},
   "outputs": [],
   "source": [
    "train = pd.read_csv(\"../data/data_train.csv\")"
   ]
  },
  {
   "cell_type": "code",
   "execution_count": 10,
   "metadata": {},
   "outputs": [
    {
     "output_type": "execute_result",
     "data": {
      "text/plain": "(array([ 43508.,      0.,  99180.,      0.,      0., 274327.,      0.,\n        324700.,      0., 435237.]),\n array([1. , 1.4, 1.8, 2.2, 2.6, 3. , 3.4, 3.8, 4.2, 4.6, 5. ]),\n <a list of 10 Patch objects>)"
     },
     "metadata": {},
     "execution_count": 10
    },
    {
     "output_type": "display_data",
     "data": {
      "text/plain": "<Figure size 432x288 with 1 Axes>",
      "image/svg+xml": "<?xml version=\"1.0\" encoding=\"utf-8\" standalone=\"no\"?>\n<!DOCTYPE svg PUBLIC \"-//W3C//DTD SVG 1.1//EN\"\n  \"http://www.w3.org/Graphics/SVG/1.1/DTD/svg11.dtd\">\n<!-- Created with matplotlib (https://matplotlib.org/) -->\n<svg height=\"248.518125pt\" version=\"1.1\" viewBox=\"0 0 394.375 248.518125\" width=\"394.375pt\" xmlns=\"http://www.w3.org/2000/svg\" xmlns:xlink=\"http://www.w3.org/1999/xlink\">\n <defs>\n  <style type=\"text/css\">\n*{stroke-linecap:butt;stroke-linejoin:round;}\n  </style>\n </defs>\n <g id=\"figure_1\">\n  <g id=\"patch_1\">\n   <path d=\"M 0 248.518125 \nL 394.375 248.518125 \nL 394.375 0 \nL 0 0 \nz\n\" style=\"fill:none;\"/>\n  </g>\n  <g id=\"axes_1\">\n   <g id=\"patch_2\">\n    <path d=\"M 52.375 224.64 \nL 387.175 224.64 \nL 387.175 7.2 \nL 52.375 7.2 \nz\n\" style=\"fill:#ffffff;\"/>\n   </g>\n   <g id=\"patch_3\">\n    <path clip-path=\"url(#p39246f69e8)\" d=\"M 67.593182 224.64 \nL 98.029545 224.64 \nL 98.029545 203.938899 \nL 67.593182 203.938899 \nz\n\" style=\"fill:#1f77b4;\"/>\n   </g>\n   <g id=\"patch_4\">\n    <path clip-path=\"url(#p39246f69e8)\" d=\"M 98.029545 224.64 \nL 128.465909 224.64 \nL 128.465909 224.64 \nL 98.029545 224.64 \nz\n\" style=\"fill:#1f77b4;\"/>\n   </g>\n   <g id=\"patch_5\">\n    <path clip-path=\"url(#p39246f69e8)\" d=\"M 128.465909 224.64 \nL 158.902273 224.64 \nL 158.902273 177.450167 \nL 128.465909 177.450167 \nz\n\" style=\"fill:#1f77b4;\"/>\n   </g>\n   <g id=\"patch_6\">\n    <path clip-path=\"url(#p39246f69e8)\" d=\"M 158.902273 224.64 \nL 189.338636 224.64 \nL 189.338636 224.64 \nL 158.902273 224.64 \nz\n\" style=\"fill:#1f77b4;\"/>\n   </g>\n   <g id=\"patch_7\">\n    <path clip-path=\"url(#p39246f69e8)\" d=\"M 189.338636 224.64 \nL 219.775 224.64 \nL 219.775 224.64 \nL 189.338636 224.64 \nz\n\" style=\"fill:#1f77b4;\"/>\n   </g>\n   <g id=\"patch_8\">\n    <path clip-path=\"url(#p39246f69e8)\" d=\"M 219.775 224.64 \nL 250.211364 224.64 \nL 250.211364 94.115245 \nL 219.775 94.115245 \nz\n\" style=\"fill:#1f77b4;\"/>\n   </g>\n   <g id=\"patch_9\">\n    <path clip-path=\"url(#p39246f69e8)\" d=\"M 250.211364 224.64 \nL 280.647727 224.64 \nL 280.647727 224.64 \nL 250.211364 224.64 \nz\n\" style=\"fill:#1f77b4;\"/>\n   </g>\n   <g id=\"patch_10\">\n    <path clip-path=\"url(#p39246f69e8)\" d=\"M 280.647727 224.64 \nL 311.084091 224.64 \nL 311.084091 70.147778 \nL 280.647727 70.147778 \nz\n\" style=\"fill:#1f77b4;\"/>\n   </g>\n   <g id=\"patch_11\">\n    <path clip-path=\"url(#p39246f69e8)\" d=\"M 311.084091 224.64 \nL 341.520455 224.64 \nL 341.520455 224.64 \nL 311.084091 224.64 \nz\n\" style=\"fill:#1f77b4;\"/>\n   </g>\n   <g id=\"patch_12\">\n    <path clip-path=\"url(#p39246f69e8)\" d=\"M 341.520455 224.64 \nL 371.956818 224.64 \nL 371.956818 17.554286 \nL 341.520455 17.554286 \nz\n\" style=\"fill:#1f77b4;\"/>\n   </g>\n   <g id=\"matplotlib.axis_1\">\n    <g id=\"xtick_1\">\n     <g id=\"line2d_1\">\n      <defs>\n       <path d=\"M 0 0 \nL 0 3.5 \n\" id=\"m59c7ba1352\" style=\"stroke:#000000;stroke-width:0.8;\"/>\n      </defs>\n      <g>\n       <use style=\"stroke:#000000;stroke-width:0.8;\" x=\"67.593182\" xlink:href=\"#m59c7ba1352\" y=\"224.64\"/>\n      </g>\n     </g>\n     <g id=\"text_1\">\n      <!-- 1.0 -->\n      <defs>\n       <path d=\"M 12.40625 8.296875 \nL 28.515625 8.296875 \nL 28.515625 63.921875 \nL 10.984375 60.40625 \nL 10.984375 69.390625 \nL 28.421875 72.90625 \nL 38.28125 72.90625 \nL 38.28125 8.296875 \nL 54.390625 8.296875 \nL 54.390625 0 \nL 12.40625 0 \nz\n\" id=\"DejaVuSans-49\"/>\n       <path d=\"M 10.6875 12.40625 \nL 21 12.40625 \nL 21 0 \nL 10.6875 0 \nz\n\" id=\"DejaVuSans-46\"/>\n       <path d=\"M 31.78125 66.40625 \nQ 24.171875 66.40625 20.328125 58.90625 \nQ 16.5 51.421875 16.5 36.375 \nQ 16.5 21.390625 20.328125 13.890625 \nQ 24.171875 6.390625 31.78125 6.390625 \nQ 39.453125 6.390625 43.28125 13.890625 \nQ 47.125 21.390625 47.125 36.375 \nQ 47.125 51.421875 43.28125 58.90625 \nQ 39.453125 66.40625 31.78125 66.40625 \nz\nM 31.78125 74.21875 \nQ 44.046875 74.21875 50.515625 64.515625 \nQ 56.984375 54.828125 56.984375 36.375 \nQ 56.984375 17.96875 50.515625 8.265625 \nQ 44.046875 -1.421875 31.78125 -1.421875 \nQ 19.53125 -1.421875 13.0625 8.265625 \nQ 6.59375 17.96875 6.59375 36.375 \nQ 6.59375 54.828125 13.0625 64.515625 \nQ 19.53125 74.21875 31.78125 74.21875 \nz\n\" id=\"DejaVuSans-48\"/>\n      </defs>\n      <g transform=\"translate(59.641619 239.238437)scale(0.1 -0.1)\">\n       <use xlink:href=\"#DejaVuSans-49\"/>\n       <use x=\"63.623047\" xlink:href=\"#DejaVuSans-46\"/>\n       <use x=\"95.410156\" xlink:href=\"#DejaVuSans-48\"/>\n      </g>\n     </g>\n    </g>\n    <g id=\"xtick_2\">\n     <g id=\"line2d_2\">\n      <g>\n       <use style=\"stroke:#000000;stroke-width:0.8;\" x=\"105.638636\" xlink:href=\"#m59c7ba1352\" y=\"224.64\"/>\n      </g>\n     </g>\n     <g id=\"text_2\">\n      <!-- 1.5 -->\n      <defs>\n       <path d=\"M 10.796875 72.90625 \nL 49.515625 72.90625 \nL 49.515625 64.59375 \nL 19.828125 64.59375 \nL 19.828125 46.734375 \nQ 21.96875 47.46875 24.109375 47.828125 \nQ 26.265625 48.1875 28.421875 48.1875 \nQ 40.625 48.1875 47.75 41.5 \nQ 54.890625 34.8125 54.890625 23.390625 \nQ 54.890625 11.625 47.5625 5.09375 \nQ 40.234375 -1.421875 26.90625 -1.421875 \nQ 22.3125 -1.421875 17.546875 -0.640625 \nQ 12.796875 0.140625 7.71875 1.703125 \nL 7.71875 11.625 \nQ 12.109375 9.234375 16.796875 8.0625 \nQ 21.484375 6.890625 26.703125 6.890625 \nQ 35.15625 6.890625 40.078125 11.328125 \nQ 45.015625 15.765625 45.015625 23.390625 \nQ 45.015625 31 40.078125 35.4375 \nQ 35.15625 39.890625 26.703125 39.890625 \nQ 22.75 39.890625 18.8125 39.015625 \nQ 14.890625 38.140625 10.796875 36.28125 \nz\n\" id=\"DejaVuSans-53\"/>\n      </defs>\n      <g transform=\"translate(97.687074 239.238437)scale(0.1 -0.1)\">\n       <use xlink:href=\"#DejaVuSans-49\"/>\n       <use x=\"63.623047\" xlink:href=\"#DejaVuSans-46\"/>\n       <use x=\"95.410156\" xlink:href=\"#DejaVuSans-53\"/>\n      </g>\n     </g>\n    </g>\n    <g id=\"xtick_3\">\n     <g id=\"line2d_3\">\n      <g>\n       <use style=\"stroke:#000000;stroke-width:0.8;\" x=\"143.684091\" xlink:href=\"#m59c7ba1352\" y=\"224.64\"/>\n      </g>\n     </g>\n     <g id=\"text_3\">\n      <!-- 2.0 -->\n      <defs>\n       <path d=\"M 19.1875 8.296875 \nL 53.609375 8.296875 \nL 53.609375 0 \nL 7.328125 0 \nL 7.328125 8.296875 \nQ 12.9375 14.109375 22.625 23.890625 \nQ 32.328125 33.6875 34.8125 36.53125 \nQ 39.546875 41.84375 41.421875 45.53125 \nQ 43.3125 49.21875 43.3125 52.78125 \nQ 43.3125 58.59375 39.234375 62.25 \nQ 35.15625 65.921875 28.609375 65.921875 \nQ 23.96875 65.921875 18.8125 64.3125 \nQ 13.671875 62.703125 7.8125 59.421875 \nL 7.8125 69.390625 \nQ 13.765625 71.78125 18.9375 73 \nQ 24.125 74.21875 28.421875 74.21875 \nQ 39.75 74.21875 46.484375 68.546875 \nQ 53.21875 62.890625 53.21875 53.421875 \nQ 53.21875 48.921875 51.53125 44.890625 \nQ 49.859375 40.875 45.40625 35.40625 \nQ 44.1875 33.984375 37.640625 27.21875 \nQ 31.109375 20.453125 19.1875 8.296875 \nz\n\" id=\"DejaVuSans-50\"/>\n      </defs>\n      <g transform=\"translate(135.732528 239.238437)scale(0.1 -0.1)\">\n       <use xlink:href=\"#DejaVuSans-50\"/>\n       <use x=\"63.623047\" xlink:href=\"#DejaVuSans-46\"/>\n       <use x=\"95.410156\" xlink:href=\"#DejaVuSans-48\"/>\n      </g>\n     </g>\n    </g>\n    <g id=\"xtick_4\">\n     <g id=\"line2d_4\">\n      <g>\n       <use style=\"stroke:#000000;stroke-width:0.8;\" x=\"181.729545\" xlink:href=\"#m59c7ba1352\" y=\"224.64\"/>\n      </g>\n     </g>\n     <g id=\"text_4\">\n      <!-- 2.5 -->\n      <g transform=\"translate(173.777983 239.238437)scale(0.1 -0.1)\">\n       <use xlink:href=\"#DejaVuSans-50\"/>\n       <use x=\"63.623047\" xlink:href=\"#DejaVuSans-46\"/>\n       <use x=\"95.410156\" xlink:href=\"#DejaVuSans-53\"/>\n      </g>\n     </g>\n    </g>\n    <g id=\"xtick_5\">\n     <g id=\"line2d_5\">\n      <g>\n       <use style=\"stroke:#000000;stroke-width:0.8;\" x=\"219.775\" xlink:href=\"#m59c7ba1352\" y=\"224.64\"/>\n      </g>\n     </g>\n     <g id=\"text_5\">\n      <!-- 3.0 -->\n      <defs>\n       <path d=\"M 40.578125 39.3125 \nQ 47.65625 37.796875 51.625 33 \nQ 55.609375 28.21875 55.609375 21.1875 \nQ 55.609375 10.40625 48.1875 4.484375 \nQ 40.765625 -1.421875 27.09375 -1.421875 \nQ 22.515625 -1.421875 17.65625 -0.515625 \nQ 12.796875 0.390625 7.625 2.203125 \nL 7.625 11.71875 \nQ 11.71875 9.328125 16.59375 8.109375 \nQ 21.484375 6.890625 26.8125 6.890625 \nQ 36.078125 6.890625 40.9375 10.546875 \nQ 45.796875 14.203125 45.796875 21.1875 \nQ 45.796875 27.640625 41.28125 31.265625 \nQ 36.765625 34.90625 28.71875 34.90625 \nL 20.21875 34.90625 \nL 20.21875 43.015625 \nL 29.109375 43.015625 \nQ 36.375 43.015625 40.234375 45.921875 \nQ 44.09375 48.828125 44.09375 54.296875 \nQ 44.09375 59.90625 40.109375 62.90625 \nQ 36.140625 65.921875 28.71875 65.921875 \nQ 24.65625 65.921875 20.015625 65.03125 \nQ 15.375 64.15625 9.8125 62.3125 \nL 9.8125 71.09375 \nQ 15.4375 72.65625 20.34375 73.4375 \nQ 25.25 74.21875 29.59375 74.21875 \nQ 40.828125 74.21875 47.359375 69.109375 \nQ 53.90625 64.015625 53.90625 55.328125 \nQ 53.90625 49.265625 50.4375 45.09375 \nQ 46.96875 40.921875 40.578125 39.3125 \nz\n\" id=\"DejaVuSans-51\"/>\n      </defs>\n      <g transform=\"translate(211.823438 239.238437)scale(0.1 -0.1)\">\n       <use xlink:href=\"#DejaVuSans-51\"/>\n       <use x=\"63.623047\" xlink:href=\"#DejaVuSans-46\"/>\n       <use x=\"95.410156\" xlink:href=\"#DejaVuSans-48\"/>\n      </g>\n     </g>\n    </g>\n    <g id=\"xtick_6\">\n     <g id=\"line2d_6\">\n      <g>\n       <use style=\"stroke:#000000;stroke-width:0.8;\" x=\"257.820455\" xlink:href=\"#m59c7ba1352\" y=\"224.64\"/>\n      </g>\n     </g>\n     <g id=\"text_6\">\n      <!-- 3.5 -->\n      <g transform=\"translate(249.868892 239.238437)scale(0.1 -0.1)\">\n       <use xlink:href=\"#DejaVuSans-51\"/>\n       <use x=\"63.623047\" xlink:href=\"#DejaVuSans-46\"/>\n       <use x=\"95.410156\" xlink:href=\"#DejaVuSans-53\"/>\n      </g>\n     </g>\n    </g>\n    <g id=\"xtick_7\">\n     <g id=\"line2d_7\">\n      <g>\n       <use style=\"stroke:#000000;stroke-width:0.8;\" x=\"295.865909\" xlink:href=\"#m59c7ba1352\" y=\"224.64\"/>\n      </g>\n     </g>\n     <g id=\"text_7\">\n      <!-- 4.0 -->\n      <defs>\n       <path d=\"M 37.796875 64.3125 \nL 12.890625 25.390625 \nL 37.796875 25.390625 \nz\nM 35.203125 72.90625 \nL 47.609375 72.90625 \nL 47.609375 25.390625 \nL 58.015625 25.390625 \nL 58.015625 17.1875 \nL 47.609375 17.1875 \nL 47.609375 0 \nL 37.796875 0 \nL 37.796875 17.1875 \nL 4.890625 17.1875 \nL 4.890625 26.703125 \nz\n\" id=\"DejaVuSans-52\"/>\n      </defs>\n      <g transform=\"translate(287.914347 239.238437)scale(0.1 -0.1)\">\n       <use xlink:href=\"#DejaVuSans-52\"/>\n       <use x=\"63.623047\" xlink:href=\"#DejaVuSans-46\"/>\n       <use x=\"95.410156\" xlink:href=\"#DejaVuSans-48\"/>\n      </g>\n     </g>\n    </g>\n    <g id=\"xtick_8\">\n     <g id=\"line2d_8\">\n      <g>\n       <use style=\"stroke:#000000;stroke-width:0.8;\" x=\"333.911364\" xlink:href=\"#m59c7ba1352\" y=\"224.64\"/>\n      </g>\n     </g>\n     <g id=\"text_8\">\n      <!-- 4.5 -->\n      <g transform=\"translate(325.959801 239.238437)scale(0.1 -0.1)\">\n       <use xlink:href=\"#DejaVuSans-52\"/>\n       <use x=\"63.623047\" xlink:href=\"#DejaVuSans-46\"/>\n       <use x=\"95.410156\" xlink:href=\"#DejaVuSans-53\"/>\n      </g>\n     </g>\n    </g>\n    <g id=\"xtick_9\">\n     <g id=\"line2d_9\">\n      <g>\n       <use style=\"stroke:#000000;stroke-width:0.8;\" x=\"371.956818\" xlink:href=\"#m59c7ba1352\" y=\"224.64\"/>\n      </g>\n     </g>\n     <g id=\"text_9\">\n      <!-- 5.0 -->\n      <g transform=\"translate(364.005256 239.238437)scale(0.1 -0.1)\">\n       <use xlink:href=\"#DejaVuSans-53\"/>\n       <use x=\"63.623047\" xlink:href=\"#DejaVuSans-46\"/>\n       <use x=\"95.410156\" xlink:href=\"#DejaVuSans-48\"/>\n      </g>\n     </g>\n    </g>\n   </g>\n   <g id=\"matplotlib.axis_2\">\n    <g id=\"ytick_1\">\n     <g id=\"line2d_10\">\n      <defs>\n       <path d=\"M 0 0 \nL -3.5 0 \n\" id=\"m8a28374a1f\" style=\"stroke:#000000;stroke-width:0.8;\"/>\n      </defs>\n      <g>\n       <use style=\"stroke:#000000;stroke-width:0.8;\" x=\"52.375\" xlink:href=\"#m8a28374a1f\" y=\"224.64\"/>\n      </g>\n     </g>\n     <g id=\"text_10\">\n      <!-- 0 -->\n      <g transform=\"translate(39.0125 228.439219)scale(0.1 -0.1)\">\n       <use xlink:href=\"#DejaVuSans-48\"/>\n      </g>\n     </g>\n    </g>\n    <g id=\"ytick_2\">\n     <g id=\"line2d_11\">\n      <g>\n       <use style=\"stroke:#000000;stroke-width:0.8;\" x=\"52.375\" xlink:href=\"#m8a28374a1f\" y=\"177.060012\"/>\n      </g>\n     </g>\n     <g id=\"text_11\">\n      <!-- 100000 -->\n      <g transform=\"translate(7.2 180.85923)scale(0.1 -0.1)\">\n       <use xlink:href=\"#DejaVuSans-49\"/>\n       <use x=\"63.623047\" xlink:href=\"#DejaVuSans-48\"/>\n       <use x=\"127.246094\" xlink:href=\"#DejaVuSans-48\"/>\n       <use x=\"190.869141\" xlink:href=\"#DejaVuSans-48\"/>\n       <use x=\"254.492188\" xlink:href=\"#DejaVuSans-48\"/>\n       <use x=\"318.115234\" xlink:href=\"#DejaVuSans-48\"/>\n      </g>\n     </g>\n    </g>\n    <g id=\"ytick_3\">\n     <g id=\"line2d_12\">\n      <g>\n       <use style=\"stroke:#000000;stroke-width:0.8;\" x=\"52.375\" xlink:href=\"#m8a28374a1f\" y=\"129.480023\"/>\n      </g>\n     </g>\n     <g id=\"text_12\">\n      <!-- 200000 -->\n      <g transform=\"translate(7.2 133.279242)scale(0.1 -0.1)\">\n       <use xlink:href=\"#DejaVuSans-50\"/>\n       <use x=\"63.623047\" xlink:href=\"#DejaVuSans-48\"/>\n       <use x=\"127.246094\" xlink:href=\"#DejaVuSans-48\"/>\n       <use x=\"190.869141\" xlink:href=\"#DejaVuSans-48\"/>\n       <use x=\"254.492188\" xlink:href=\"#DejaVuSans-48\"/>\n       <use x=\"318.115234\" xlink:href=\"#DejaVuSans-48\"/>\n      </g>\n     </g>\n    </g>\n    <g id=\"ytick_4\">\n     <g id=\"line2d_13\">\n      <g>\n       <use style=\"stroke:#000000;stroke-width:0.8;\" x=\"52.375\" xlink:href=\"#m8a28374a1f\" y=\"81.900035\"/>\n      </g>\n     </g>\n     <g id=\"text_13\">\n      <!-- 300000 -->\n      <g transform=\"translate(7.2 85.699253)scale(0.1 -0.1)\">\n       <use xlink:href=\"#DejaVuSans-51\"/>\n       <use x=\"63.623047\" xlink:href=\"#DejaVuSans-48\"/>\n       <use x=\"127.246094\" xlink:href=\"#DejaVuSans-48\"/>\n       <use x=\"190.869141\" xlink:href=\"#DejaVuSans-48\"/>\n       <use x=\"254.492188\" xlink:href=\"#DejaVuSans-48\"/>\n       <use x=\"318.115234\" xlink:href=\"#DejaVuSans-48\"/>\n      </g>\n     </g>\n    </g>\n    <g id=\"ytick_5\">\n     <g id=\"line2d_14\">\n      <g>\n       <use style=\"stroke:#000000;stroke-width:0.8;\" x=\"52.375\" xlink:href=\"#m8a28374a1f\" y=\"34.320046\"/>\n      </g>\n     </g>\n     <g id=\"text_14\">\n      <!-- 400000 -->\n      <g transform=\"translate(7.2 38.119265)scale(0.1 -0.1)\">\n       <use xlink:href=\"#DejaVuSans-52\"/>\n       <use x=\"63.623047\" xlink:href=\"#DejaVuSans-48\"/>\n       <use x=\"127.246094\" xlink:href=\"#DejaVuSans-48\"/>\n       <use x=\"190.869141\" xlink:href=\"#DejaVuSans-48\"/>\n       <use x=\"254.492188\" xlink:href=\"#DejaVuSans-48\"/>\n       <use x=\"318.115234\" xlink:href=\"#DejaVuSans-48\"/>\n      </g>\n     </g>\n    </g>\n   </g>\n   <g id=\"patch_13\">\n    <path d=\"M 52.375 224.64 \nL 52.375 7.2 \n\" style=\"fill:none;stroke:#000000;stroke-linecap:square;stroke-linejoin:miter;stroke-width:0.8;\"/>\n   </g>\n   <g id=\"patch_14\">\n    <path d=\"M 387.175 224.64 \nL 387.175 7.2 \n\" style=\"fill:none;stroke:#000000;stroke-linecap:square;stroke-linejoin:miter;stroke-width:0.8;\"/>\n   </g>\n   <g id=\"patch_15\">\n    <path d=\"M 52.375 224.64 \nL 387.175 224.64 \n\" style=\"fill:none;stroke:#000000;stroke-linecap:square;stroke-linejoin:miter;stroke-width:0.8;\"/>\n   </g>\n   <g id=\"patch_16\">\n    <path d=\"M 52.375 7.2 \nL 387.175 7.2 \n\" style=\"fill:none;stroke:#000000;stroke-linecap:square;stroke-linejoin:miter;stroke-width:0.8;\"/>\n   </g>\n  </g>\n </g>\n <defs>\n  <clipPath id=\"p39246f69e8\">\n   <rect height=\"217.44\" width=\"334.8\" x=\"52.375\" y=\"7.2\"/>\n  </clipPath>\n </defs>\n</svg>\n",
      "image/png": "[encoded data removed]"
     },
     "metadata": {
      "needs_background": "light"
     }
    }
   ],
   "source": [
    "plt.hist(train['Prediction'])"
   ]
  },
  {
   "cell_type": "code",
   "execution_count": 18,
   "metadata": {},
   "outputs": [
    {
     "output_type": "execute_result",
     "data": {
      "text/plain": "(3.8572805008190647, 1.252287973378689)"
     },
     "metadata": {},
     "execution_count": 18
    }
   ],
   "source": [
    "np.mean(train['Prediction']), np.var(train['Prediction'])"
   ]
  },
  {
   "cell_type": "markdown",
   "metadata": {},
   "source": [
    "Implicit Preference:\n",
    "pLSA: (u, y) generated independently \n",
    "$$P(user, item; \\theta) = \\sum_{i = 1}^{k}P(u, y, z_i) = \\sum_{i = 1}^{k}P(y | z_i)P(z|u)P(u)$$\n",
    "personalized\n",
    "$$P(item|user;\\theta)=\\sum_{i=1}^{k} P(y|z)P(z|u)$$\n",
    "- k = 1, \"non-personalized\"\n",
    "Generalization to explicit:\n",
    "$$P(rating|item,user)=\\sum_{i=1}^{k} P(rating|item, z)P(z|user)$$\n",
    "- Parametric form\n",
    "    - Multinomial (binary)\n"
   ]
  },
  {
   "cell_type": "code",
   "execution_count": 34,
   "metadata": {},
   "outputs": [
    {
     "output_type": "execute_result",
     "data": {
      "text/plain": "5"
     },
     "metadata": {},
     "execution_count": 34
    }
   ],
   "source": [
    "A = np.ones((3,1, 3))\n",
    "fold_1.iloc[1]['Prediction']"
   ]
  },
  {
   "cell_type": "code",
   "execution_count": 93,
   "metadata": {},
   "outputs": [
    {
     "output_type": "execute_result",
     "data": {
      "text/plain": "   row  col  Prediction\n0    0    2           3\n1    2    2           2\n2    1    1           4\n3    0    0           5\n4    2    0           3",
      "text/html": "<div>\n<style scoped>\n    .dataframe tbody tr th:only-of-type {\n        vertical-align: middle;\n    }\n\n    .dataframe tbody tr th {\n        vertical-align: top;\n    }\n\n    .dataframe thead th {\n        text-align: right;\n    }\n</style>\n<table border=\"1\" class=\"dataframe\">\n  <thead>\n    <tr style=\"text-align: right;\">\n      <th></th>\n      <th>row</th>\n      <th>col</th>\n      <th>Prediction</th>\n    </tr>\n  </thead>\n  <tbody>\n    <tr>\n      <td>0</td>\n      <td>0</td>\n      <td>2</td>\n      <td>3</td>\n    </tr>\n    <tr>\n      <td>1</td>\n      <td>2</td>\n      <td>2</td>\n      <td>2</td>\n    </tr>\n    <tr>\n      <td>2</td>\n      <td>1</td>\n      <td>1</td>\n      <td>4</td>\n    </tr>\n    <tr>\n      <td>3</td>\n      <td>0</td>\n      <td>0</td>\n      <td>5</td>\n    </tr>\n    <tr>\n      <td>4</td>\n      <td>2</td>\n      <td>0</td>\n      <td>3</td>\n    </tr>\n  </tbody>\n</table>\n</div>"
     },
     "metadata": {},
     "execution_count": 93
    }
   ],
   "source": [
    "test = np.array([[5, 1, 3], [4, 4, 4], [3, 5, 2]])\n",
    "ratings = pd.DataFrame(data=[[0, 2, 3], [2, 2, 2], [1, 1, 4], [0,  0, 5], [2, 0, 3]], columns=['row', 'col', 'Prediction'])\n",
    "ratings"
   ]
  },
  {
   "cell_type": "code",
   "execution_count": 95,
   "metadata": {},
   "outputs": [
    {
     "output_type": "execute_result",
     "data": {
      "text/plain": "0    2\n3    0\nName: col, dtype: int64"
     },
     "metadata": {},
     "execution_count": 95
    }
   ],
   "source": [
    "idx = ratings[ratings['row']==0]['col']\n",
    "idx"
   ]
  },
  {
   "cell_type": "code",
   "execution_count": 41,
   "metadata": {},
   "outputs": [
    {
     "output_type": "stream",
     "name": "stdout",
     "text": "Iteration 0:\nStart E-step...\nE-step finished using time 200.1708002090454\nStart M-step...\nM-step finished using time 7.4005889892578125\n====================\nIteration 1:\nStart E-step...\nE-step finished using time 197.5393409729004\nStart M-step...\nM-step finished using time 6.563522100448608\n====================\nIteration 2:\nStart E-step...\nE-step finished using time 196.0863540172577\nStart M-step...\nM-step finished using time 6.545164108276367\n====================\nIteration 3:\nStart E-step...\nE-step finished using time 196.79258799552917\nStart M-step...\nM-step finished using time 6.546828031539917\n====================\nIteration 4:\nStart E-step...\nE-step finished using time 194.66397285461426\nStart M-step...\nM-step finished using time 6.518856763839722\n====================\n"
    }
   ],
   "source": [
    "pz, mu = gaussian_pLSA(target, 10000, 1000, 20, 5)"
   ]
  },
  {
   "cell_type": "code",
   "execution_count": 55,
   "metadata": {},
   "outputs": [],
   "source": [
    "target = pd.concat([fold_2, fold_3, fold_4, fold_5])\n",
    "ridx = fold_1.loc[:,'row']\n",
    "cidx = fold_1.loc[:, 'col']"
   ]
  },
  {
   "cell_type": "code",
   "execution_count": 54,
   "metadata": {},
   "outputs": [
    {
     "output_type": "execute_result",
     "data": {
      "text/plain": "array([3.41048795, 3.13499629, 3.28250101, 3.41920533, 3.36675927,\n       3.13976446, 3.31621589, 3.41263474, 3.40958554, 3.28039173,\n       3.49333175, 3.69039204, 3.68830952, 3.42905236, 3.00712185,\n       3.39218403, 3.60804103, 3.39330882, 3.36524358, 3.36511231])"
     },
     "metadata": {},
     "execution_count": 54
    }
   ],
   "source": [
    "mu[0]"
   ]
  },
  {
   "cell_type": "code",
   "execution_count": 56,
   "metadata": {},
   "outputs": [
    {
     "output_type": "execute_result",
     "data": {
      "text/plain": "1.0281296956852135"
     },
     "metadata": {},
     "execution_count": 56
    }
   ],
   "source": [
    "prediction = np.nan_to_num(pz)@np.nan_to_num(mu.T)\n",
    "np.sqrt(np.mean(np.square(fold_1['Prediction']- prediction[ridx, cidx])))"
   ]
  },
  {
   "cell_type": "code",
   "execution_count": 4,
   "metadata": {},
   "outputs": [],
   "source": [
    "def rating_gaussian_model(rating, mean, var):\n",
    "    return np.exp(-(rating-mean)**2/(2*var))/(np.sqrt(2*np.pi*var))\n",
    "\n",
    "def df_to_mat(ratings, num_row, num_col):\n",
    "    result = np.zeros((num_row, num_col))\n",
    "    for i in range(num_row):\n",
    "        colidx = ratings[ratings['row'] == i]['col']\n",
    "        result[i, colidx] = ratings[ratings['row'] == i]['Prediction']\n",
    "    return result\n"
   ]
  },
  {
   "cell_type": "code",
   "execution_count": 169,
   "metadata": {},
   "outputs": [],
   "source": [
    "\n",
    "def gaussian_pLSA(ratings, num_users, num_items, num_hidden_states = 5, max_iter = 100):\n",
    "    #initialization\n",
    "    np.random.seed(0)\n",
    "    p_z = np.random.rand(num_users, num_hidden_states) #P(z|u)\n",
    "    p_z /= p_z.sum(1)[:,  np.newaxis]\n",
    "    mu_iz  = np.zeros((num_items, num_hidden_states))  + np.mean(ratings['Prediction'])\n",
    "    sigma2_iz = np.ones((num_items, num_hidden_states)) + np.var(ratings['Prediction'])\n",
    "    p_z_given_uri = np.zeros((num_users, num_items, num_hidden_states))\n",
    "    rating_mat = df_to_mat(ratings, num_users, num_items)\n",
    "    # E-step\n",
    "    for i in range(max_iter):\n",
    "        print(\"Iteration {}:\".format(i))\n",
    "        print(\"Start E-step...\")\n",
    "        st = time.time()\n",
    "        for r in range(ratings.shape[0]):\n",
    "            user = ratings.iloc[r]['row']\n",
    "            item = ratings.iloc[r]['col']\n",
    "            rating = ratings.iloc[r]['Prediction']\n",
    "            p_rating_item = rating_gaussian_model(rating, mu_iz[item], sigma2_iz[item])#all p(rating, item|z)\n",
    "            denom = np.dot(p_rating_item, p_z[user]) #p(rating,  item|z)p(z|u)\n",
    "            for z in range(num_hidden_states):\n",
    "                nom = rating_gaussian_model(rating, mu_iz[item, z], sigma2_iz[item, z])*p_z[user, z]  \n",
    "                p_z_given_uri[user, item, z] = nom/denom #p(z|user, rating, item;thetahat)\n",
    "        print(\"E-step finished using time {}\".format(time.time()-st))\n",
    "        # M-step\n",
    "        print(\"Start M-step...\")\n",
    "        st = time.time()\n",
    "        for u in range(num_users): # update P(z|u)\n",
    "            denom = np.sum(p_z_given_uri[u]) # sum_z sum_u P(z|u, v, y;hattheta)\n",
    "            for z in range(num_hidden_states):\n",
    "                p_z[u, z] = np.sum(p_z_given_uri[u][:, z])/denom # sum of P(z|user, rating, item; thetahat)\n",
    "        for i in range(num_items):\n",
    "            for z in range(num_hidden_states):           \n",
    "                denom = np.sum(p_z_given_uri[:, i, z]) #sum_y  {(z|user, rating, item)}\n",
    "                item_rating = rating_mat[:, i]\n",
    "                mu_iz[i, z] = np.dot(p_z_given_uri[:, i, z], item_rating)/denom\n",
    "                sigma2_iz[i, z] = np.dot(np.square(item_rating - mu_iz[i,z]), p_z_given_uri[:, i, z])/denom\n",
    "        print(\"M-step finished using time {}\".format(time.time()-st))\n",
    "        print(\"=\"*20)\n",
    "    return p_z, mu_iz\n",
    "        \n"
   ]
  },
  {
   "cell_type": "code",
   "execution_count": 170,
   "metadata": {},
   "outputs": [
    {
     "output_type": "stream",
     "name": "stdout",
     "text": "Iteration 0:\nStart E-step...\nE-step finished using time 0.0036199092864990234\nStart M-step...\nM-step finished using time 0.0014929771423339844\n====================\n"
    }
   ],
   "source": [
    "pz1, mu1 = gaussian_pLSA(ratings, 3, 3, 5, 1)"
   ]
  },
  {
   "cell_type": "code",
   "execution_count": 171,
   "metadata": {},
   "outputs": [
    {
     "output_type": "execute_result",
     "data": {
      "text/plain": "(array([[0.19356424, 0.25224431, 0.21259213, 0.19217803, 0.14942128],\n        [0.19440831, 0.13170981, 0.26841564, 0.29005381, 0.11541244],\n        [0.27439982, 0.18330691, 0.19687558, 0.32079767, 0.02462001]]),\n array([[3.82726113, 4.15827622, 4.03838289, 3.74926757, 4.71707848],\n        [4.        , 4.        , 4.        , 4.        , 4.        ],\n        [2.41363057, 2.57913811, 2.51919145, 2.37463379, 2.85853924]]))"
     },
     "metadata": {},
     "execution_count": 171
    }
   ],
   "source": [
    "pz1, mu1"
   ]
  },
  {
   "cell_type": "code",
   "execution_count": 173,
   "metadata": {},
   "outputs": [
    {
     "output_type": "stream",
     "name": "stdout",
     "text": "Iteration 0:\nStart E-step...\nE-step finished using time 0.0020940303802490234\nStart M-step...\nM-step finished using time 0.0008440017700195312\n====================\n"
    }
   ],
   "source": [
    "pz2, mu2 = gaussian_pLSA(ratings, 3, 3, 5, 1)"
   ]
  },
  {
   "cell_type": "code",
   "execution_count": 174,
   "metadata": {},
   "outputs": [
    {
     "output_type": "execute_result",
     "data": {
      "text/plain": "(array([[0.19356424, 0.25224431, 0.21259213, 0.19217803, 0.14942128],\n        [0.19440831, 0.13170981, 0.26841564, 0.29005381, 0.11541244],\n        [0.27439982, 0.18330691, 0.19687558, 0.32079767, 0.02462001]]),\n array([[3.82726113, 4.15827622, 4.03838289, 3.74926757, 4.71707848],\n        [4.        , 4.        , 4.        , 4.        , 4.        ],\n        [2.41363057, 2.57913811, 2.51919145, 2.37463379, 2.85853924]]))"
     },
     "metadata": {},
     "execution_count": 174
    }
   ],
   "source": [
    "pz2, mu2"
   ]
  },
  {
   "cell_type": "code",
   "execution_count": 3,
   "metadata": {},
   "outputs": [],
   "source": [
    "def gaussian_pLSA(ratings, num_users, num_items, num_hidden_states = 5, max_iter = 100):\n",
    "    #initialization\n",
    "    np.random.seed(0)\n",
    "    p_z = np.random.rand(num_users, num_hidden_states) #P(z|u)\n",
    "    p_z /= p_z.sum(1)[:,  np.newaxis]\n",
    "    mu_iz  = np.zeros((num_items, num_hidden_states))  + np.mean(ratings['Prediction'])\n",
    "    sigma2_iz = np.ones((num_items, num_hidden_states)) + np.var(ratings['Prediction'])\n",
    "    p_z_given_uri = np.zeros((num_users, num_items, num_hidden_states))\n",
    "    rating_mat = df_to_mat(ratings, num_users, num_items)\n",
    "    # E-step\n",
    "    for i in range(max_iter):\n",
    "        print(\"Iteration {}:\".format(i))\n",
    "        print(\"Start E-step...\")\n",
    "        st = time.time()\n",
    "        def helper(row):\n",
    "            user = row[0]\n",
    "            item = row[1]\n",
    "            rating = row[2]\n",
    "            p_rating_item = rating_gaussian_model(rating, mu_iz[item], sigma2_iz[item])#all p(rating, item|z)\n",
    "            denom = np.dot(p_rating_item, p_z[user]) #p(rating,  item|z)p(z|u)\n",
    "            for z in range(num_hidden_states):\n",
    "                nom = rating_gaussian_model(rating, mu_iz[item, z], sigma2_iz[item, z])*p_z[user, z]  \n",
    "                p_z_given_uri[user, item, z] = nom/denom #p(z|user, rating, item;thetahat)\n",
    "        ratings.apply(helper, 1)\n",
    "        print(\"E-step finished using time {}\".format(time.time()-st))\n",
    "        \n",
    "            \n",
    "        # M-step\n",
    "        print(\"Start M-step...\")\n",
    "        st = time.time()\n",
    "        for u in range(num_users): # update P(z|u)\n",
    "            denom = np.sum(p_z_given_uri[u]) # sum_z sum_u P(z|u, v, y;hattheta)\n",
    "            for z in range(num_hidden_states):\n",
    "                p_z[u, z] = np.sum(p_z_given_uri[u][:, z])/denom # sum of P(z|user, rating, item; thetahat)\n",
    "        for i in range(num_items):\n",
    "            for z in range(num_hidden_states):           \n",
    "                denom = np.sum(p_z_given_uri[:, i, z]) #sum_y  {(z|user, rating, item)}\n",
    "                item_rating = rating_mat[:, i]\n",
    "                mu_iz[i, z] = np.dot(p_z_given_uri[:, i, z], item_rating)/denom\n",
    "                sigma2_iz[i, z] = np.dot(np.square(item_rating - mu_iz[i,z]), p_z_given_uri[:, i, z])/denom\n",
    "        print(\"M-step finished using time {}\".format(time.time()-st))\n",
    "        print(\"=\"*20)\n",
    "    return p_z, mu_iz"
   ]
  },
  {
   "cell_type": "code",
   "execution_count": null,
   "metadata": {},
   "outputs": [],
   "source": [
    "Q = np.ones(())\n",
    "Q = Q/np.sum(Q) \n",
    "cond_rating_item = \n",
    "cond_latent = \n",
    "neg_log_risk = -np.sum(np.log() + np.log())\n"
   ]
  },
  {
   "cell_type": "code",
   "execution_count": 16,
   "metadata": {},
   "outputs": [],
   "source": [
    "from scipy.optimize import minimize"
   ]
  },
  {
   "cell_type": "code",
   "execution_count": 14,
   "metadata": {},
   "outputs": [
    {
     "data": {
      "text/plain": [
       "<module 'scipy.optimize.optimize' from '/anaconda3/lib/python3.7/site-packages/scipy/optimize/optimize.py'>"
      ]
     },
     "execution_count": 14,
     "metadata": {},
     "output_type": "execute_result"
    }
   ],
   "source": [
    "minimize(fun = , x0 = [0,0])\n",
    "def loss(b, ratings, mu, lambda1):\n",
    "    bu, bi = b[0], b[1]\n",
    "    np.sum(np.square(ratings - mu - bu - bi)) + lambda1*"
   ]
  },
  {
   "cell_type": "code",
   "execution_count": null,
   "metadata": {},
   "outputs": [],
   "source": [
    "def base_avg_model(data, lr, tol):\n",
    "    global_avg_rating = np.mean(data['Prediction'])\n",
    "    bu, bi = 0, 0\n",
    "    while max_iter > 0:\n",
    "        gradient_bu = sum of 2*(r - global_avg_rating - bu - bi)*(-1) + lambda1*(sum of 2*bu)\n",
    "        gradient_bi = sum of 2*(r - global_avg_rating - bu - bi)*(-1) + lambda1*(sum of 2*bi)\n",
    "        bu -= gradient_bu*lr\n",
    "        bi -= gradient_bi*lr\n",
    "        err = sum (r - global_avg_rating - bu - bi)**2 + lambda1*(sumbu**2  + sumbi**2)\n",
    "        if err <= tol:\n",
    "            break\n",
    "        max_iter -= 1 \n",
    "    pred_matrix = \n",
    "    return pred_matrix"
   ]
  },
  {
   "cell_type": "code",
   "execution_count": null,
   "metadata": {},
   "outputs": [],
   "source": [
    "while max_iter > 0:\n",
    "    for i, r in enumerate(ratings):\n",
    "        err = r - r_pred[i]\n",
    "        \n",
    "        bu += gamma*(err - lambda4*bu)\n",
    "        bi += gamma*(err - lambda4*bi)\n",
    "        for j in userrated:\n",
    "            wij += gamma*()\n",
    "        for in :\n",
    "            \n",
    "        r_pred[i] = mu + bu + bi + #TODO# + #TODO#\n",
    "    if \n",
    "    max_iter -= 1\n",
    "    "
   ]
  }
 ],
 "metadata": {
  "kernelspec": {
   "display_name": "Python 3",
   "language": "python",
   "name": "python3"
  },
  "language_info": {
   "codemirror_mode": {
    "name": "ipython",
    "version": 3
   },
   "file_extension": ".py",
   "mimetype": "text/x-python",
   "name": "python",
   "nbconvert_exporter": "python",
   "pygments_lexer": "ipython3",
   "version": "3.7.4-final"
  }
 },
 "nbformat": 4,
 "nbformat_minor": 4
}