{
 "cells": [
  {
   "cell_type": "code",
   "execution_count": 1,
   "metadata": {},
   "outputs": [],
   "source": [
    "import pandas as pd\n",
    "import numpy as np"
   ]
  },
  {
   "cell_type": "code",
   "execution_count": 2,
   "metadata": {},
   "outputs": [],
   "source": [
    "# read data\n",
    "train = pd.read_csv(\"data_train.csv\")\n",
    "missing = pd.read_csv(\"sampleSubmission.csv\")\n",
    "nusers = 10000\n",
    "nmovies = 1000"
   ]
  },
  {
   "cell_type": "code",
   "execution_count": 3,
   "metadata": {},
   "outputs": [],
   "source": [
    "# extract row and column id from train\n",
    "train_rowid = train['Id'].apply(lambda x: int(x.split(\"_\")[0][1:]))\n",
    "train_colid = train['Id'].apply(lambda x: int(x.split(\"_\")[1][1:]))"
   ]
  },
  {
   "cell_type": "code",
   "execution_count": 4,
   "metadata": {},
   "outputs": [],
   "source": [
    "# add row/col id as new columns\n",
    "train['rowid'] = train_rowid\n",
    "train['colid'] = train_colid"
   ]
  },
  {
   "cell_type": "code",
   "execution_count": 5,
   "metadata": {},
   "outputs": [],
   "source": [
    "# calc missing row ids per column\n",
    "## For each movie(col), build a set {1,..., num_users} subtracting the \n",
    "## train set {all users rated the movie}\n",
    "missing = train.groupby(by='colid').apply(lambda x: list(set(np.arange(1, nusers+1)) \\\n",
    "                                                 - set(np.array(x['rowid']))))"
   ]
  },
  {
   "cell_type": "code",
   "execution_count": 12,
   "metadata": {},
   "outputs": [],
   "source": [
    "# construct vectors of missing columns and rows\n",
    "## TODO: forloop is still slow, haven't found a parallel way\n",
    "missing_explode = missing.explode()\n",
    "missing_colid = np.array(missing_explode.index)\n",
    "missing_rowid = np.array(missing_explode)"
   ]
  },
  {
   "cell_type": "code",
   "execution_count": 13,
   "metadata": {},
   "outputs": [],
   "source": [
    "# construct full dataframe from train and missing arrays\n",
    "ratings = pd.DataFrame()\n",
    "ratings['rowid'] = np.concatenate((train_rowid, missing_rowid))\n",
    "ratings['colid'] = np.concatenate((train_colid, missing_colid))\n",
    "ratings['rating'] = np.concatenate((train['Prediction'], np.zeros(len(missing_rowid))))"
   ]
  },
  {
   "cell_type": "code",
   "execution_count": 14,
   "metadata": {},
   "outputs": [
    {
     "data": {
      "text/plain": [
       "(10000000, 3)"
      ]
     },
     "execution_count": 14,
     "metadata": {},
     "output_type": "execute_result"
    }
   ],
   "source": [
    "ratings.shape"
   ]
  },
  {
   "cell_type": "code",
   "execution_count": 15,
   "metadata": {},
   "outputs": [],
   "source": [
    "# Sort by row and then column, 'prediction' vector ready to be reshaped\n",
    "a = np.array(ratings.sort_values(by=['rowid', 'colid'])['rating'])"
   ]
  },
  {
   "cell_type": "code",
   "execution_count": 16,
   "metadata": {},
   "outputs": [],
   "source": [
    "full = np.reshape(a, newshape=(nusers, nmovies))"
   ]
  },
  {
   "cell_type": "code",
   "execution_count": 17,
   "metadata": {},
   "outputs": [
    {
     "data": {
      "text/html": [
       "<div>\n",
       "<style scoped>\n",
       "    .dataframe tbody tr th:only-of-type {\n",
       "        vertical-align: middle;\n",
       "    }\n",
       "\n",
       "    .dataframe tbody tr th {\n",
       "        vertical-align: top;\n",
       "    }\n",
       "\n",
       "    .dataframe thead th {\n",
       "        text-align: right;\n",
       "    }\n",
       "</style>\n",
       "<table border=\"1\" class=\"dataframe\">\n",
       "  <thead>\n",
       "    <tr style=\"text-align: right;\">\n",
       "      <th></th>\n",
       "      <th>Id</th>\n",
       "      <th>Prediction</th>\n",
       "      <th>rowid</th>\n",
       "      <th>colid</th>\n",
       "    </tr>\n",
       "  </thead>\n",
       "  <tbody>\n",
       "    <tr>\n",
       "      <td>0</td>\n",
       "      <td>r44_c1</td>\n",
       "      <td>4</td>\n",
       "      <td>44</td>\n",
       "      <td>1</td>\n",
       "    </tr>\n",
       "    <tr>\n",
       "      <td>1</td>\n",
       "      <td>r61_c1</td>\n",
       "      <td>3</td>\n",
       "      <td>61</td>\n",
       "      <td>1</td>\n",
       "    </tr>\n",
       "    <tr>\n",
       "      <td>2</td>\n",
       "      <td>r67_c1</td>\n",
       "      <td>4</td>\n",
       "      <td>67</td>\n",
       "      <td>1</td>\n",
       "    </tr>\n",
       "    <tr>\n",
       "      <td>3</td>\n",
       "      <td>r72_c1</td>\n",
       "      <td>3</td>\n",
       "      <td>72</td>\n",
       "      <td>1</td>\n",
       "    </tr>\n",
       "    <tr>\n",
       "      <td>4</td>\n",
       "      <td>r86_c1</td>\n",
       "      <td>5</td>\n",
       "      <td>86</td>\n",
       "      <td>1</td>\n",
       "    </tr>\n",
       "  </tbody>\n",
       "</table>\n",
       "</div>"
      ],
      "text/plain": [
       "       Id  Prediction  rowid  colid\n",
       "0  r44_c1           4     44      1\n",
       "1  r61_c1           3     61      1\n",
       "2  r67_c1           4     67      1\n",
       "3  r72_c1           3     72      1\n",
       "4  r86_c1           5     86      1"
      ]
     },
     "execution_count": 17,
     "metadata": {},
     "output_type": "execute_result"
    }
   ],
   "source": [
    "# Test\n",
    "train.head()"
   ]
  },
  {
   "cell_type": "code",
   "execution_count": 18,
   "metadata": {},
   "outputs": [],
   "source": [
    "assert full[43, 1]==4\n",
    "assert full[60, 0]==3\n",
    "assert full[66, 0]==4\n",
    "assert full[71, 0]==3\n",
    "assert full[85, 0]==5"
   ]
  },
  {
   "cell_type": "code",
   "execution_count": 98,
   "metadata": {},
   "outputs": [
    {
     "data": {
      "text/plain": [
       "array([[1, 0, 3, 5],\n",
       "       [0, 5, 0, 0],\n",
       "       [0, 4, 2, 0]])"
      ]
     },
     "execution_count": 98,
     "metadata": {},
     "output_type": "execute_result"
    }
   ],
   "source": [
    "X_sample = np.array([[1, 0, 3, 5], [0, 5, 0, 0], [0, 4, 2, 0]])\n",
    "D, N = X_sample.shape\n",
    "K = 2\n",
    "U_sample, Z_sample = np.ones((D, K)), np.ones((N, K))\n",
    "X_sample"
   ]
  },
  {
   "cell_type": "code",
   "execution_count": 30,
   "metadata": {},
   "outputs": [],
   "source": [
    "def mse(X, U, Z): \n",
    "    obs_idx = np.nonzero(X)\n",
    "    num_obs = obs_idx[0].shape[0]\n",
    "    return np.sum(np.square(X[obs_idx] - (U@Z.T)[obs_idx])/2)/num_obs\n",
    "‘’‘    \n",
    "def mse_gradient(X, U, Z):\n",
    "    obs_idx = np.nonzero(X)\n",
    "    num_obs = obs_idx[0].shape[0]\n",
    "    grad_U = (np.sum((X[obs_idx] - (U@Z.T)[obs_idx]))/num_obs)*Z\n",
    "    grad_Z = (np.sum((X[obs_idx] - (U@Z.T)[obs_idx]))/num_obs)*U\n",
    "    return np.vstack((grad_U, grad_Z))\n"
   ]
  },
  {
   "cell_type": "code",
   "execution_count": 99,
   "metadata": {},
   "outputs": [],
   "source": [
    "def sgd(X, U, Z, gamma=0.1, max_iter=10):\n",
    "    D, N = U.shape[0], Z.shape[0]\n",
    "    objectives = []\n",
    "    UZ = U@Z.T\n",
    "    nonzero_idx = np.nonzero(X)\n",
    "    while max_iter > 0:\n",
    "        i = np.random.randint(nonzero_idx[0].shape[0])\n",
    "        d, n = nonzero_idx[0][i], nonzero_idx[1][i]\n",
    "        deviation = -(X[d,n] - UZ[d,n])\n",
    "        sg_U, sg_Z = deviation*Z[n,:], deviation*U[d,:]\n",
    "        U[d,:] = U[d,:] - gamma*sg_U\n",
    "        Z[n,:] = Z[n,:] - gamma*sg_Z\n",
    "        obj = mse(X, U, Z)\n",
    "        objectives.append(obj)\n",
    "        print(\"Loss: {}\".format(obj))\n",
    "        max_iter -=1\n",
    "    return U, Z, objectives"
   ]
  },
  {
   "cell_type": "code",
   "execution_count": 112,
   "metadata": {},
   "outputs": [
    {
     "name": "stdout",
     "output_type": "stream",
     "text": [
      "Loss: 0.15662004815392405\n",
      "Loss: 0.1517754209950238\n",
      "Loss: 0.15046823194392878\n",
      "Loss: 0.14615117915396664\n",
      "Loss: 0.14530823885199864\n",
      "Loss: 0.14135220292263795\n",
      "Loss: 0.1378068237709942\n",
      "Loss: 0.13700290144063762\n",
      "Loss: 0.13563784100131807\n",
      "Loss: 0.13472214265483282\n"
     ]
    }
   ],
   "source": [
    "U_final, Z_final, obj = sgd(X_sample, U_sample, Z_sample, gamma=0.01)"
   ]
  },
  {
   "cell_type": "code",
   "execution_count": 97,
   "metadata": {},
   "outputs": [
    {
     "data": {
      "text/plain": [
       "array([[2.09509258, 3.75206   , 3.8992562 , 3.8473046 ],\n",
       "       [1.88734   , 3.38      , 3.5126    , 3.4658    ],\n",
       "       [1.4518    , 2.6       , 2.702     , 2.666     ]])"
      ]
     },
     "execution_count": 97,
     "metadata": {},
     "output_type": "execute_result"
    }
   ],
   "source": [
    "U_final@Z_final.T"
   ]
  },
  {
   "cell_type": "markdown",
   "metadata": {},
   "source": [
    "TODO:\n",
    "1. Modify U, Z inplace or not?"
   ]
  }
 ],
 "metadata": {
  "kernelspec": {
   "display_name": "Python 3",
   "language": "python",
   "name": "python3"
  },
  "language_info": {
   "codemirror_mode": {
    "name": "ipython",
    "version": 3
   },
   "file_extension": ".py",
   "mimetype": "text/x-python",
   "name": "python",
   "nbconvert_exporter": "python",
   "pygments_lexer": "ipython3",
   "version": "3.7.4"
  }
 },
 "nbformat": 4,
 "nbformat_minor": 2
}
